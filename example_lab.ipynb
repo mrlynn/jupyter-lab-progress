{
 "cells": [
  {
   "cell_type": "markdown",
   "metadata": {},
   "source": ["# Example Lab Notebook\nUsing `lab-utils`"]
  },
  {
   "cell_type": "code",
   "execution_count": null,
   "metadata": {},
   "outputs": [],
   "source": [
    "from lab_utils import LabProgress, LabValidator, show_info\n\n",
    "progress = LabProgress([\"Load Data\", \"Index\", \"Query\"])\n",
    "progress.mark_done(\"Load Data\")\n",
    "show_info(\"Now we will index vectors.\")\n",
    "validator = LabValidator()\n",
    "validator.check_embedding_shape([0.1]*384, 384)"
   ]
  }
 ],
 "metadata": {
  "kernelspec": {
   "display_name": "Python 3",
   "language": "python",
   "name": "python3"
  },
  "language_info": {
   "name": "python",
   "version": "3.9"
  }
 },
 "nbformat": 4,
 "nbformat_minor": 2
}