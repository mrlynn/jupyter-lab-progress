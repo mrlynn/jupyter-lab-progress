{
 "cells": [
  {
   "cell_type": "markdown",
   "metadata": {},
   "source": [
    "# Inline Hints and Contextual Tips Demo\n",
    "\n",
    "This notebook demonstrates the new inline hints and contextual tips functionality that provides better guidance for students."
   ]
  },
  {
   "cell_type": "code",
   "execution_count": null,
   "metadata": {},
   "outputs": [],
   "source": [
    "from jupyter_lab_progress import (\n",
    "    LabProgress, show_info, show_hint, show_contextual_tips, \n",
    "    show_step_guidance, show_warning\n",
    ")"
   ]
  },
  {
   "cell_type": "markdown",
   "metadata": {},
   "source": [
    "## Enhanced show_info with Collapsible Content and Hints"
   ]
  },
  {
   "cell_type": "code",
   "execution_count": null,
   "metadata": {},
   "outputs": [],
   "source": [
    "# Basic info message with a hint\n",
    "show_info(\n",
    "    \"MongoDB Atlas provides a fully managed database service in the cloud.\",\n",
    "    title=\"About MongoDB Atlas\",\n",
    "    hint=\"You can create a free cluster at cloud.mongodb.com to get started!\"\n",
    ")"
   ]
  },
  {
   "cell_type": "code",
   "execution_count": null,
   "metadata": {},
   "outputs": [],
   "source": [
    "# Collapsible info message\n",
    "show_info(\n",
    "    \"\"\"Vector search allows you to find similar items based on their semantic meaning.\n",
    "    \n",
    "    Key concepts:\n",
    "    1. Embeddings: Numeric representations of text or images\n",
    "    2. Similarity metrics: Cosine, Euclidean, or Dot Product\n",
    "    3. Index types: HNSW, IVF, or LSH\n",
    "    \"\"\",\n",
    "    title=\"Vector Search Fundamentals\",\n",
    "    collapsible=True,\n",
    "    expanded=False,\n",
    "    hint=\"Start with cosine similarity for normalized embeddings!\"\n",
    ")"
   ]
  },
  {
   "cell_type": "markdown",
   "metadata": {},
   "source": [
    "## Enhanced Hints with Context"
   ]
  },
  {
   "cell_type": "code",
   "execution_count": null,
   "metadata": {},
   "outputs": [],
   "source": [
    "# Simple hint\n",
    "show_hint(\n",
    "    \"Remember to install the required packages: pymongo and sentence-transformers\",\n",
    "    title=\"Setup Hint\"\n",
    ")"
   ]
  },
  {
   "cell_type": "code",
   "execution_count": null,
   "metadata": {},
   "outputs": [],
   "source": [
    "# Hint with context\n",
    "show_hint(\n",
    "    \"Use model.encode(texts) to generate embeddings for your text data\",\n",
    "    title=\"Embedding Generation\",\n",
    "    icon=\"🤖\",\n",
    "    context=\"This step converts your text into numerical vectors\"\n",
    ")"
   ]
  },
  {
   "cell_type": "markdown",
   "metadata": {},
   "source": [
    "## Contextual Tips for Different Categories"
   ]
  },
  {
   "cell_type": "code",
   "execution_count": null,
   "metadata": {},
   "outputs": [],
   "source": [
    "# Display organized tips by category\n",
    "show_contextual_tips({\n",
    "    \"Performance\": \"Use batch processing for large datasets to improve speed\",\n",
    "    \"Best Practice\": \"Always normalize your embeddings before using cosine similarity\",\n",
    "    \"Common Pitfall\": \"Don't forget to create an index on your vector field\",\n",
    "    \"Pro Tip\": \"Use projection to limit returned fields and improve query performance\"\n",
    "}, title=\"MongoDB Vector Search Tips\")"
   ]
  },
  {
   "cell_type": "code",
   "execution_count": null,
   "metadata": {},
   "outputs": [],
   "source": [
    "# Warning-style tips\n",
    "show_contextual_tips({\n",
    "    \"Security\": \"Never commit connection strings with credentials to version control\",\n",
    "    \"Data Safety\": \"Always backup your data before running delete operations\",\n",
    "    \"Resource Usage\": \"Monitor your Atlas cluster metrics to avoid hitting limits\"\n",
    "}, title=\"Important Warnings\", style=\"warning\")"
   ]
  },
  {
   "cell_type": "markdown",
   "metadata": {},
   "source": [
    "## Comprehensive Step Guidance"
   ]
  },
  {
   "cell_type": "code",
   "execution_count": null,
   "metadata": {},
   "outputs": [],
   "source": [
    "# Display full guidance for a lab step\n",
    "show_step_guidance(\n",
    "    step_name=\"Create Vector Index\",\n",
    "    instructions=\"\"\"Create a vector search index on your collection:\n",
    "    1. Navigate to the Atlas UI\n",
    "    2. Select your database and collection\n",
    "    3. Click on 'Search Indexes' tab\n",
    "    4. Create a new index with type 'vectorSearch'\n",
    "    5. Configure the vector field and dimensions\"\"\",\n",
    "    tips={\n",
    "        \"Index Type\": \"Use 'euclidean' for raw embeddings, 'cosine' for normalized\",\n",
    "        \"Dimensions\": \"Must match your embedding model output (e.g., 384 for MiniLM)\",\n",
    "        \"Performance\": \"Creating indexes on large collections may take several minutes\"\n",
    "    },\n",
    "    hints=[\n",
    "        \"Look for the 'Search' section in the Atlas sidebar\",\n",
    "        \"The vector field should be an array of numbers\",\n",
    "        \"You can use the JSON editor for advanced configuration\"\n",
    "    ],\n",
    "    common_mistakes=[\n",
    "        \"Forgetting to wait for index creation to complete\",\n",
    "        \"Mismatching embedding dimensions with index configuration\",\n",
    "        \"Creating index on wrong field name\"\n",
    "    ]\n",
    ")"
   ]
  },
  {
   "cell_type": "markdown",
   "metadata": {},
   "source": [
    "## Lab Progress with Step Metadata"
   ]
  },
  {
   "cell_type": "code",
   "execution_count": null,
   "metadata": {},
   "outputs": [],
   "source": [
    "# Create a lab with step metadata\n",
    "progress = LabProgress(\n",
    "    steps=[\n",
    "        \"Setup Environment\",\n",
    "        \"Connect to MongoDB\",\n",
    "        \"Prepare Data\",\n",
    "        \"Generate Embeddings\",\n",
    "        \"Create Vector Index\",\n",
    "        \"Perform Search\"\n",
    "    ],\n",
    "    lab_name=\"Vector Search Lab\",\n",
    "    persist=True,\n",
    "    step_metadata={\n",
    "        \"Setup Environment\": {\n",
    "            \"instructions\": \"Install required packages and import libraries\",\n",
    "            \"tips\": {\n",
    "                \"Package Manager\": \"Use pip install -r requirements.txt for consistency\",\n",
    "                \"Python Version\": \"Ensure you're using Python 3.8 or higher\"\n",
    "            },\n",
    "            \"hints\": [\"Check if pymongo is installed with 'pip list'\"]\n",
    "        },\n",
    "        \"Connect to MongoDB\": {\n",
    "            \"instructions\": \"Establish connection to your MongoDB Atlas cluster\",\n",
    "            \"tips\": {\n",
    "                \"Connection String\": \"Use environment variables for credentials\",\n",
    "                \"Network Access\": \"Whitelist your IP address in Atlas\"\n",
    "            },\n",
    "            \"common_mistakes\": [\n",
    "                \"Using incorrect connection string format\",\n",
    "                \"Forgetting to whitelist IP address\"\n",
    "            ]\n",
    "        }\n",
    "    }\n",
    ")"
   ]
  },
  {
   "cell_type": "code",
   "execution_count": null,
   "metadata": {},
   "outputs": [],
   "source": [
    "# Show tips for the current step\n",
    "progress.show_step_tips()"
   ]
  },
  {
   "cell_type": "code",
   "execution_count": null,
   "metadata": {},
   "outputs": [],
   "source": [
    "# Mark first step complete and show tips for next step\n",
    "progress.mark_done(\"Setup Environment\")\n",
    "progress.show_step_tips()"
   ]
  },
  {
   "cell_type": "code",
   "execution_count": null,
   "metadata": {},
   "outputs": [],
   "source": [
    "# Add metadata for a step dynamically\n",
    "progress.set_step_metadata(\"Generate Embeddings\", {\n",
    "    \"instructions\": \"Use a pre-trained model to convert text to vectors\",\n",
    "    \"tips\": {\n",
    "        \"Model Selection\": \"sentence-transformers/all-MiniLM-L6-v2 is fast and accurate\",\n",
    "        \"Batch Size\": \"Process in batches of 32-64 for optimal performance\",\n",
    "        \"Memory\": \"Monitor RAM usage for large datasets\"\n",
    "    },\n",
    "    \"hints\": [\n",
    "        \"Import SentenceTransformer from sentence_transformers\",\n",
    "        \"Use model.encode() with show_progress_bar=True\",\n",
    "        \"Convert the result to a list before storing in MongoDB\"\n",
    "    ]\n",
    "})"
   ]
  },
  {
   "cell_type": "code",
   "execution_count": null,
   "metadata": {},
   "outputs": [],
   "source": [
    "# Show tips for a specific step\n",
    "progress.show_step_tips(\"Generate Embeddings\")"
   ]
  },
  {
   "cell_type": "markdown",
   "metadata": {},
   "source": [
    "## Clean Up"
   ]
  },
  {
   "cell_type": "code",
   "execution_count": null,
   "metadata": {},
   "outputs": [],
   "source": [
    "import os\n",
    "if os.path.exists(progress.persist_file):\n",
    "    os.remove(progress.persist_file)\n",
    "    show_info(\"Progress file cleaned up!\")"
   ]
  }
 ],
 "metadata": {
  "kernelspec": {
   "display_name": "Python 3",
   "language": "python",
   "name": "python3"
  },
  "language_info": {
   "codemirror_mode": {
    "name": "ipython",
    "version": 3
   },
   "file_extension": ".py",
   "mimetype": "text/x-python",
   "name": "python",
   "nbconvert_exporter": "python",
   "pygments_lexer": "ipython3",
   "version": "3.8.0"
  }
 },
 "nbformat": 4,
 "nbformat_minor": 4
}