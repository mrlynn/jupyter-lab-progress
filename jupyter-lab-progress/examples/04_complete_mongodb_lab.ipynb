{
 "cells": [
  {
   "cell_type": "markdown",
   "metadata": {},
   "source": [
    "# Complete MongoDB Vector Search Lab\n",
    "\n",
    "This notebook demonstrates a complete lab experience using all features of jupyter-lab-progress in a real-world MongoDB Vector Search workshop.\n",
    "\n",
    "## What You'll Learn\n",
    "- Set up MongoDB Atlas for vector search\n",
    "- Create and validate vector embeddings  \n",
    "- Build semantic search applications\n",
    "- Use jupyter-lab-progress for engaging lab experience\n",
    "\n",
    "## Prerequisites\n",
    "- MongoDB Atlas account (free tier works)\n",
    "- Python 3.8+\n",
    "- Basic knowledge of Python and pandas"
   ]
  },
  {
   "cell_type": "code",
   "execution_count": null,
   "metadata": {},
   "outputs": [],
   "source": [
    "# \ud83d\udd27 Environment Setup - Run this cell first!\n",
    "import sys\n",
    "import subprocess\n",
    "\n",
    "def install_if_missing(package_name, import_name=None):\n",
    "    \"\"\"Install a package if it's not already available.\"\"\"\n",
    "    if import_name is None:\n",
    "        import_name = package_name.replace('-', '_')\n",
    "    \n",
    "    try:\n",
    "        __import__(import_name)\n",
    "        print(f\"\u2705 {package_name} is available\")\n",
    "    except ImportError:\n",
    "        print(f\"\ud83d\udce6 Installing {package_name}...\")\n",
    "        subprocess.check_call([sys.executable, \"-m\", \"pip\", \"install\", package_name])\n",
    "        print(f\"\u2705 {package_name} installed successfully!\")\n",
    "\n",
    "# Install core dependencies\n",
    "install_if_missing(\"jupyter-lab-progress\", \"jupyter_lab_progress\")\n",
    "\n",
    "# Import everything we need\n",
    "from jupyter_lab_progress import *\n",
    "import pandas as pd\n",
    "import numpy as np\n",
    "\n",
    "print(\"\\n\ud83c\udf89 Setup complete! Ready to build a MongoDB Vector Search system.\")\n",
    "print(\"\ud83d\udcda This is a comprehensive lab demonstrating real-world vector search.\")"
   ]
  },
  {
   "cell_type": "markdown",
   "metadata": {},
   "source": [
    "## Lab Overview\n",
    "\n",
    "In this comprehensive lab, you'll build a complete vector search system for an e-commerce platform. This simulates a real-world scenario where customers search for products using natural language.\n",
    "\n",
    "### What We'll Build\n",
    "1. **Product Database**: E-commerce product catalog with descriptions\n",
    "2. **Vector Embeddings**: Convert product descriptions to semantic vectors  \n",
    "3. **Search System**: Find similar products using vector similarity\n",
    "4. **Validation**: Ensure data quality throughout the process\n",
    "\n",
    "Let's get started! \ud83d\ude80"
   ]
  },
  {
   "cell_type": "code",
   "execution_count": null,
   "metadata": {},
   "outputs": [],
   "source": [
    "# Create lab progress tracker\n",
    "lab_steps = [\n",
    "    \"Environment Setup\",\n",
    "    \"Load Sample Data\", \n",
    "    \"Generate Embeddings\",\n",
    "    \"Validate Data Quality\",\n",
    "    \"Build Search Index\",\n",
    "    \"Test Search Functionality\",\n",
    "    \"Performance Optimization\",\n",
    "    \"Complete Demo\"\n",
    "]\n",
    "\n",
    "lab_progress = LabProgress(\n",
    "    steps=lab_steps,\n",
    "    lab_name=\"\ud83d\udd0d MongoDB Vector Search Lab\"\n",
    ")\n",
    "\n",
    "# Mark first step complete\n",
    "lab_progress.mark_done(\"Environment Setup\", score=100, notes=\"All packages installed!\")\n",
    "\n",
    "# Create validator\n",
    "validator = LabValidator(progress_tracker=lab_progress)\n",
    "\n",
    "show_info(\"\ud83c\udfaf Lab initialized successfully! Your progress will be tracked throughout this workshop.\")"
   ]
  },
  {
   "cell_type": "code",
   "execution_count": null,
   "metadata": {},
   "outputs": [],
   "source": [
    "# Create sample e-commerce product data\n",
    "products_data = [\n",
    "    {\"id\": 1, \"name\": \"Wireless Bluetooth Headphones\", \"description\": \"High-quality wireless headphones with noise cancellation and 30-hour battery life\", \"category\": \"Electronics\", \"price\": 199.99},\n",
    "    {\"id\": 2, \"name\": \"Organic Cotton T-Shirt\", \"description\": \"Comfortable organic cotton t-shirt in various colors and sizes\", \"category\": \"Clothing\", \"price\": 29.99},\n",
    "    {\"id\": 3, \"name\": \"Smart Fitness Watch\", \"description\": \"Advanced fitness tracking watch with heart rate monitor and GPS\", \"category\": \"Electronics\", \"price\": 299.99},\n",
    "    {\"id\": 4, \"name\": \"Ceramic Coffee Mug\", \"description\": \"Handcrafted ceramic coffee mug perfect for morning coffee\", \"category\": \"Home\", \"price\": 19.99},\n",
    "    {\"id\": 5, \"name\": \"Yoga Mat\", \"description\": \"Non-slip yoga mat made from eco-friendly materials\", \"category\": \"Sports\", \"price\": 49.99},\n",
    "    {\"id\": 6, \"name\": \"Smartphone Case\", \"description\": \"Protective smartphone case with wireless charging compatibility\", \"category\": \"Electronics\", \"price\": 24.99},\n",
    "    {\"id\": 7, \"name\": \"Running Shoes\", \"description\": \"Lightweight running shoes with advanced cushioning technology\", \"category\": \"Sports\", \"price\": 129.99},\n",
    "    {\"id\": 8, \"name\": \"Desk Lamp\", \"description\": \"Adjustable LED desk lamp with multiple brightness settings\", \"category\": \"Home\", \"price\": 79.99},\n",
    "    {\"id\": 9, \"name\": \"Water Bottle\", \"description\": \"Insulated stainless steel water bottle keeps drinks cold for 24 hours\", \"category\": \"Sports\", \"price\": 34.99},\n",
    "    {\"id\": 10, \"name\": \"Laptop Backpack\", \"description\": \"Durable laptop backpack with multiple compartments and USB charging port\", \"category\": \"Electronics\", \"price\": 89.99}\n",
    "]\n",
    "\n",
    "# Create DataFrame\n",
    "products_df = pd.DataFrame(products_data)\n",
    "\n",
    "# Display the data\n",
    "show_info(f\"\ud83d\udcca Loaded {len(products_df)} sample products\")\n",
    "display(products_df)\n",
    "\n",
    "# Mark step complete\n",
    "lab_progress.mark_done(\"Load Sample Data\", score=100, notes=\"Product catalog ready!\")"
   ]
  }
 ],
 "metadata": {
  "kernelspec": {
   "display_name": "Python 3",
   "language": "python",
   "name": "python3"
  },
  "language_info": {
   "codemirror_mode": {
    "name": "ipython",
    "version": 3
   },
   "file_extension": ".py",
   "mimetype": "text/x-python",
   "name": "python",
   "nbconvert_exporter": "python",
   "pygments_lexer": "ipython3",
   "version": "3.8.0"
  }
 },
 "nbformat": 4,
 "nbformat_minor": 4
}