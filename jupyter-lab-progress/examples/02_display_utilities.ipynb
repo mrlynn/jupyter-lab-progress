{
 "cells": [
  {
   "cell_type": "markdown",
   "metadata": {},
   "source": [
    "# Display Utilities with jupyter-lab-progress\n",
    "\n",
    "This notebook demonstrates the `show_info` and `show_warning` functions for creating beautiful, styled messages in Jupyter notebooks.\n",
    "\n",
    "## Table of Contents\n",
    "1. Basic Info and Warning Messages\n",
    "2. Using Messages for Instructions\n",
    "3. Combining with Progress Tracking\n",
    "4. Advanced Styling Examples\n",
    "5. Best Practices"
   ]
  },
  {
   "cell_type": "markdown",
   "metadata": {},
   "source": [
    "## Setup\n",
    "\n",
    "Import the display utilities:"
   ]
  },
  {
   "cell_type": "code",
   "execution_count": null,
   "metadata": {},
   "outputs": [],
   "source": [
    "from jupyter_lab_progress import show_info, show_warning, LabProgress\n",
    "import time"
   ]
  },
  {
   "cell_type": "markdown",
   "metadata": {},
   "source": [
    "## 1. Basic Info Messages\n",
    "\n",
    "Use `show_info` to display helpful information in a styled blue box:"
   ]
  },
  {
   "cell_type": "code",
   "execution_count": null,
   "metadata": {},
   "outputs": [],
   "source": [
    "# Simple info message\n",
    "show_info(\"Welcome to the jupyter-lab-progress tutorial!\")"
   ]
  },
  {
   "cell_type": "code",
   "execution_count": null,
   "metadata": {},
   "outputs": [],
   "source": [
    "# Info message with emoji\n",
    "show_info(\"🎉 Congratulations! You've successfully connected to the database.\")"
   ]
  },
  {
   "cell_type": "code",
   "execution_count": null,
   "metadata": {},
   "outputs": [],
   "source": [
    "# Multi-line info message\n",
    "show_info(\"\"\"📚 Quick Reference:\n",
    "• Use show_info() for helpful tips and success messages\n",
    "• Use show_warning() for important notices\n",
    "• Combine with LabProgress for complete lab experience\"\"\")"
   ]
  },
  {
   "cell_type": "markdown",
   "metadata": {},
   "source": [
    "## 2. Warning Messages\n",
    "\n",
    "Use `show_warning` to highlight important information that needs attention:"
   ]
  },
  {
   "cell_type": "code",
   "execution_count": null,
   "metadata": {},
   "outputs": [],
   "source": [
    "# Simple warning\n",
    "show_warning(\"Remember to clean up your resources after the lab!\")"
   ]
  },
  {
   "cell_type": "code",
   "execution_count": null,
   "metadata": {},
   "outputs": [],
   "source": [
    "# Warning with specific instructions\n",
    "show_warning(\"⚠️ Make sure your IP address is whitelisted in Atlas before proceeding!\")"
   ]
  },
  {
   "cell_type": "code",
   "execution_count": null,
   "metadata": {},
   "outputs": [],
   "source": [
    "# Detailed warning message\n",
    "show_warning(\"\"\"⚠️ Important Security Notice:\n",
    "• Never commit credentials to version control\n",
    "• Use environment variables for sensitive data\n",
    "• Rotate your API keys regularly\n",
    "• Enable 2FA on your cloud accounts\"\"\")"
   ]
  },
  {
   "cell_type": "markdown",
   "metadata": {},
   "source": [
    "## 3. Using Messages for Lab Instructions\n",
    "\n",
    "Create clear lab instructions using display utilities:"
   ]
  },
  {
   "cell_type": "code",
   "execution_count": null,
   "metadata": {},
   "outputs": [],
   "source": [
    "# Lab introduction\n",
    "show_info(\"\"\"🚀 Welcome to the MongoDB Vector Search Lab!\n",
    "\n",
    "In this lab, you will:\n",
    "1. Set up a MongoDB Atlas cluster\n",
    "2. Create vector embeddings for your data\n",
    "3. Build a vector search index\n",
    "4. Perform similarity searches\n",
    "\n",
    "Let's get started!\"\"\")"
   ]
  },
  {
   "cell_type": "code",
   "execution_count": null,
   "metadata": {},
   "outputs": [],
   "source": [
    "# Prerequisites warning\n",
    "show_warning(\"\"\"📋 Before you begin, ensure you have:\n",
    "• Python 3.8 or higher\n",
    "• A MongoDB Atlas account (free tier is fine)\n",
    "• The following packages: pymongo, sentence-transformers\n",
    "• At least 1GB of free disk space\"\"\")"
   ]
  },
  {
   "cell_type": "code",
   "execution_count": null,
   "metadata": {},
   "outputs": [],
   "source": [
    "# Step completion confirmation\n",
    "show_info(\"✅ Great job! You've successfully created your first vector embedding. Let's move on to indexing.\")"
   ]
  },
  {
   "cell_type": "markdown",
   "metadata": {},
   "source": [
    "## 4. Combining Messages with Progress Tracking\n",
    "\n",
    "Create a complete lab experience by combining messages with progress tracking:"
   ]
  },
  {
   "cell_type": "code",
   "execution_count": null,
   "metadata": {},
   "outputs": [],
   "source": [
    "# Create a lab progress tracker\n",
    "lab_progress = LabProgress(\n",
    "    steps=[\n",
    "        \"Install dependencies\",\n",
    "        \"Connect to MongoDB\",\n",
    "        \"Create embeddings\",\n",
    "        \"Build index\",\n",
    "        \"Test queries\"\n",
    "    ],\n",
    "    title=\"🔍 Vector Search Lab Progress\"\n",
    ")\n",
    "\n",
    "# Show initial instructions\n",
    "show_info(\"Welcome to the Vector Search Lab! Let's start by installing dependencies.\")\n",
    "lab_progress.display()"
   ]
  },
  {
   "cell_type": "code",
   "execution_count": null,
   "metadata": {},
   "outputs": [],
   "source": [
    "# Simulate step 1\n",
    "print(\"Installing dependencies...\")\n",
    "time.sleep(1)\n",
    "lab_progress.mark_completed(\"Install dependencies\")\n",
    "show_info(\"✅ Dependencies installed successfully!\")\n",
    "lab_progress.display()"
   ]
  },
  {
   "cell_type": "code",
   "execution_count": null,
   "metadata": {},
   "outputs": [],
   "source": [
    "# Simulate step 2 with warning\n",
    "show_warning(\"⚠️ Make sure your connection string includes the correct database name!\")\n",
    "print(\"\\nConnecting to MongoDB...\")\n",
    "time.sleep(1)\n",
    "lab_progress.mark_completed(\"Connect to MongoDB\")\n",
    "show_info(\"🎉 Successfully connected to MongoDB Atlas!\")\n",
    "lab_progress.display()"
   ]
  },
  {
   "cell_type": "markdown",
   "metadata": {},
   "source": [
    "## 5. Workshop Flow Example\n",
    "\n",
    "Here's how to structure a complete workshop section:"
   ]
  },
  {
   "cell_type": "code",
   "execution_count": null,
   "metadata": {},
   "outputs": [],
   "source": [
    "def workshop_section_nlp():\n",
    "    \"\"\"Example workshop section on NLP with MongoDB.\"\"\"\n",
    "    \n",
    "    # Section introduction\n",
    "    show_info(\"\"\"📝 Section 3: Natural Language Processing with MongoDB\n",
    "    \n",
    "In this section, we'll explore how to:\n",
    "• Store and index text data\n",
    "• Perform full-text search\n",
    "• Use MongoDB's text analysis features\"\"\")\n",
    "    \n",
    "    # Create section progress\n",
    "    section_progress = LabProgress(\n",
    "        steps=[\n",
    "            \"Create text collection\",\n",
    "            \"Insert sample documents\",\n",
    "            \"Create text index\",\n",
    "            \"Perform text search\",\n",
    "            \"Analyze results\"\n",
    "        ],\n",
    "        title=\"📝 NLP Section Progress\"\n",
    "    )\n",
    "    section_progress.display()\n",
    "    \n",
    "    # Step 1\n",
    "    show_info(\"Let's start by creating a collection for our text data...\")\n",
    "    time.sleep(1)\n",
    "    section_progress.mark_completed(\"Create text collection\")\n",
    "    section_progress.display()\n",
    "    \n",
    "    # Step 2 with tip\n",
    "    show_info(\"💡 Tip: Use batch inserts for better performance with large datasets!\")\n",
    "    time.sleep(1)\n",
    "    section_progress.mark_completed(\"Insert sample documents\")\n",
    "    section_progress.display()\n",
    "    \n",
    "    # Important warning\n",
    "    show_warning(\"⚠️ Text indexes can be resource-intensive. Monitor your cluster metrics!\")\n",
    "    time.sleep(1)\n",
    "    section_progress.mark_completed(\"Create text index\")\n",
    "    section_progress.display()\n",
    "    \n",
    "    # Complete section\n",
    "    section_progress.mark_completed(\"Perform text search\")\n",
    "    section_progress.mark_completed(\"Analyze results\")\n",
    "    show_info(\"🎉 Excellent work! You've completed the NLP section.\")\n",
    "    section_progress.display()\n",
    "\n",
    "# Run the workshop section\n",
    "workshop_section_nlp()"
   ]
  },
  {
   "cell_type": "markdown",
   "metadata": {},
   "source": [
    "## 6. Error Handling and Troubleshooting\n",
    "\n",
    "Use messages to guide students through common issues:"
   ]
  },
  {
   "cell_type": "code",
   "execution_count": null,
   "metadata": {},
   "outputs": [],
   "source": [
    "# Simulating error handling\n",
    "try:\n",
    "    # Simulate an operation that might fail\n",
    "    show_info(\"Attempting to connect to database...\")\n",
    "    # raise Exception(\"Connection timeout\")\n",
    "except Exception as e:\n",
    "    show_warning(f\"\"\"❌ Connection failed: {e}\n",
    "    \n",
    "Troubleshooting steps:\n",
    "1. Check your internet connection\n",
    "2. Verify your connection string\n",
    "3. Ensure IP whitelist is configured\n",
    "4. Check if cluster is paused\"\"\")\n",
    "else:\n",
    "    show_info(\"✅ Successfully connected to database!\")"
   ]
  },
  {
   "cell_type": "markdown",
   "metadata": {},
   "source": [
    "## 7. Creating Interactive Tutorials\n",
    "\n",
    "Combine messages for step-by-step tutorials:"
   ]
  },
  {
   "cell_type": "code",
   "execution_count": null,
   "metadata": {},
   "outputs": [],
   "source": [
    "# Tutorial: Creating a Vector Search Index\n",
    "show_info(\"\"\"🎯 Tutorial: Creating a Vector Search Index\n",
    "\n",
    "Follow these steps carefully:\"\"\")\n",
    "\n",
    "# Step 1\n",
    "show_info(\"\"\"📌 Step 1: Define your index configuration\n",
    "\n",
    "```python\n",
    "index_config = {\n",
    "    \"name\": \"vector_index\",\n",
    "    \"type\": \"vectorSearch\",\n",
    "    \"fields\": [{\n",
    "        \"type\": \"vector\",\n",
    "        \"path\": \"embedding\",\n",
    "        \"dimensions\": 384,\n",
    "        \"similarity\": \"cosine\"\n",
    "    }]\n",
    "}\n",
    "```\"\"\")"
   ]
  },
  {
   "cell_type": "code",
   "execution_count": null,
   "metadata": {},
   "outputs": [],
   "source": [
    "# Step 2 with warning\n",
    "show_warning(\"⚠️ Important: Ensure your embeddings match the specified dimensions!\")\n",
    "show_info(\"\"\"📌 Step 2: Create the index\n",
    "\n",
    "```python\n",
    "collection.create_index(index_config)\n",
    "```\n",
    "\n",
    "This may take a few minutes for large collections.\"\"\")"
   ]
  },
  {
   "cell_type": "code",
   "execution_count": null,
   "metadata": {},
   "outputs": [],
   "source": [
    "# Success message\n",
    "show_info(\"\"\"✅ Index created successfully!\n",
    "\n",
    "You can now perform vector similarity searches:\n",
    "```python\n",
    "results = collection.aggregate([\n",
    "    {\n",
    "        \"$vectorSearch\": {\n",
    "            \"index\": \"vector_index\",\n",
    "            \"queryVector\": query_embedding,\n",
    "            \"path\": \"embedding\",\n",
    "            \"k\": 10\n",
    "        }\n",
    "    }\n",
    "])\n",
    "```\"\"\")"
   ]
  },
  {
   "cell_type": "markdown",
   "metadata": {},
   "source": [
    "## 8. Lab Completion and Next Steps\n",
    "\n",
    "End your labs with clear completion messages and next steps:"
   ]
  },
  {
   "cell_type": "code",
   "execution_count": null,
   "metadata": {},
   "outputs": [],
   "source": [
    "# Lab completion\n",
    "show_info(\"\"\"🎊 Congratulations! You've completed the Vector Search Lab!\n",
    "\n",
    "You've learned how to:\n",
    "✅ Create vector embeddings\n",
    "✅ Build vector search indexes\n",
    "✅ Perform similarity searches\n",
    "✅ Optimize query performance\n",
    "\n",
    "Great job!\"\"\")\n",
    "\n",
    "# Next steps\n",
    "show_info(\"\"\"🚀 Next Steps:\n",
    "\n",
    "1. Try different embedding models (OpenAI, Cohere, etc.)\n",
    "2. Experiment with hybrid search (combining text and vector)\n",
    "3. Build a semantic search application\n",
    "4. Explore Atlas Vector Search advanced features\n",
    "\n",
    "Resources:\n",
    "• MongoDB Vector Search Docs: https://www.mongodb.com/docs/atlas/atlas-search/\n",
    "• Sample Applications: https://github.com/mongodb-developer/\n",
    "• Community Forums: https://www.mongodb.com/community/forums/\"\"\")\n",
    "\n",
    "# Cleanup reminder\n",
    "show_warning(\"\"\"🧹 Don't forget to clean up:\n",
    "• Pause or terminate your Atlas cluster if not needed\n",
    "• Remove any test data\n",
    "• Revoke temporary access credentials\n",
    "• Delete any API keys created for this lab\"\"\")"
   ]
  },
  {
   "cell_type": "markdown",
   "metadata": {},
   "source": [
    "## Best Practices Summary\n",
    "\n",
    "### When to use `show_info()`:\n",
    "- ✅ Welcome messages\n",
    "- ✅ Success confirmations  \n",
    "- ✅ Tips and helpful hints\n",
    "- ✅ Instructions and tutorials\n",
    "- ✅ Completion messages\n",
    "\n",
    "### When to use `show_warning()`:\n",
    "- ⚠️ Prerequisites and requirements\n",
    "- ⚠️ Security reminders\n",
    "- ⚠️ Important configuration steps\n",
    "- ⚠️ Resource cleanup reminders\n",
    "- ⚠️ Common pitfalls to avoid\n",
    "\n",
    "### Tips:\n",
    "1. Use emojis to make messages more engaging\n",
    "2. Keep messages concise but informative\n",
    "3. Use multi-line strings for structured content\n",
    "4. Combine with progress tracking for complete experience\n",
    "5. Include code examples in info messages when helpful"
   ]
  }
 ],
 "metadata": {
  "kernelspec": {
   "display_name": "Python 3",
   "language": "python",
   "name": "python3"
  },
  "language_info": {
   "codemirror_mode": {
    "name": "ipython",
    "version": 3
   },
   "file_extension": ".py",
   "mimetype": "text/x-python",
   "name": "python",
   "nbconvert_exporter": "python",
   "version": "3.9.0"
  }
 },
 "nbformat": 4,
 "nbformat_minor": 4
}