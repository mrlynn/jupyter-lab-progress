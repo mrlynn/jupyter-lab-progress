{
 "cells": [
  {
   "cell_type": "markdown",
   "metadata": {},
   "source": [
    "# Progress Tracking with jupyter-lab-progress\n",
    "\n",
    "This notebook demonstrates all the features of the `LabProgress` class for tracking student progress through lab exercises.\n",
    "\n",
    "## Table of Contents\n",
    "1. Basic Progress Tracking\n",
    "2. Custom Styling and Themes\n",
    "3. Progress with Scores and Notes\n",
    "4. Advanced Features\n",
    "5. Best Practices"
   ]
  },
  {
   "cell_type": "markdown",
   "metadata": {},
   "source": [
    "## Setup\n",
    "\n",
    "First, let's import the necessary modules:"
   ]
  },
  {
   "cell_type": "code",
   "execution_count": null,
   "metadata": {},
   "outputs": [],
   "source": [
    "# If jupyter-lab-progress is not installed, uncomment and run:\n",
    "# !pip install jupyter-lab-progress\n",
    "\n",
    "from jupyter_lab_progress import LabProgress\n",
    "import time"
   ]
  },
  {
   "cell_type": "markdown",
   "metadata": {},
   "source": [
    "## 1. Basic Progress Tracking\n",
    "\n",
    "The simplest way to use LabProgress is to create a list of steps and track completion:"
   ]
  },
  {
   "cell_type": "code",
   "execution_count": null,
   "metadata": {},
   "outputs": [],
   "source": [
    "# Create a simple progress tracker\n",
    "steps = [\n",
    "    \"Install required packages\",\n",
    "    \"Connect to database\",\n",
    "    \"Load sample data\",\n",
    "    \"Run analysis\",\n",
    "    \"Generate report\"\n",
    "]\n",
    "\n",
    "progress = LabProgress(steps=steps)\n",
    "progress.display()"
   ]
  },
  {
   "cell_type": "code",
   "execution_count": null,
   "metadata": {},
   "outputs": [],
   "source": [
    "# Mark first step as complete\n",
    "progress.mark_completed(\"Install required packages\")\n",
    "progress.display()"
   ]
  },
  {
   "cell_type": "code",
   "execution_count": null,
   "metadata": {},
   "outputs": [],
   "source": [
    "# Mark multiple steps complete\n",
    "progress.mark_completed(\"Connect to database\")\n",
    "progress.mark_completed(\"Load sample data\")\n",
    "progress.display()"
   ]
  },
  {
   "cell_type": "markdown",
   "metadata": {},
   "source": [
    "## 2. Using total_steps for Quick Setup\n",
    "\n",
    "If you just need numbered steps, use `total_steps`:"
   ]
  },
  {
   "cell_type": "code",
   "execution_count": null,
   "metadata": {},
   "outputs": [],
   "source": [
    "# Create progress with numbered steps\n",
    "quick_progress = LabProgress(total_steps=5)\n",
    "quick_progress.display()\n",
    "\n",
    "# Mark steps by number\n",
    "quick_progress.mark_completed(1)\n",
    "quick_progress.mark_completed(2)\n",
    "quick_progress.display()"
   ]
  },
  {
   "cell_type": "markdown",
   "metadata": {},
   "source": [
    "## 3. Custom Titles and Lab Names\n",
    "\n",
    "Customize the appearance with titles:"
   ]
  },
  {
   "cell_type": "code",
   "execution_count": null,
   "metadata": {},
   "outputs": [],
   "source": [
    "# Create a progress tracker with custom title\n",
    "ml_steps = [\n",
    "    \"Data Collection\",\n",
    "    \"Data Preprocessing\",\n",
    "    \"Feature Engineering\",\n",
    "    \"Model Training\",\n",
    "    \"Model Evaluation\",\n",
    "    \"Model Deployment\"\n",
    "]\n",
    "\n",
    "ml_progress = LabProgress(\n",
    "    steps=ml_steps,\n",
    "    title=\"🤖 Machine Learning Pipeline Progress\"\n",
    ")\n",
    "ml_progress.display()"
   ]
  },
  {
   "cell_type": "code",
   "execution_count": null,
   "metadata": {},
   "outputs": [],
   "source": [
    "# Simulate completing ML pipeline steps\n",
    "for step in ml_steps[:3]:\n",
    "    ml_progress.mark_completed(step)\n",
    "    ml_progress.display()\n",
    "    time.sleep(0.5)  # Small delay for demonstration"
   ]
  },
  {
   "cell_type": "markdown",
   "metadata": {},
   "source": [
    "## 4. Getting Progress Information\n",
    "\n",
    "You can retrieve progress information programmatically:"
   ]
  },
  {
   "cell_type": "code",
   "execution_count": null,
   "metadata": {},
   "outputs": [],
   "source": [
    "# Get completion percentage\n",
    "completion = ml_progress.get_completion_percentage()\n",
    "print(f\"Current completion: {completion}%\")\n",
    "\n",
    "# Get completed steps\n",
    "completed = ml_progress.get_completed_steps()\n",
    "print(f\"\\nCompleted steps: {completed}\")\n",
    "\n",
    "# Get remaining steps\n",
    "remaining = ml_progress.get_remaining_steps()\n",
    "print(f\"\\nRemaining steps: {remaining}\")"
   ]
  },
  {
   "cell_type": "markdown",
   "metadata": {},
   "source": [
    "## 5. Workshop Progress Tracking Example\n",
    "\n",
    "Here's a complete example for a MongoDB workshop:"
   ]
  },
  {
   "cell_type": "code",
   "execution_count": null,
   "metadata": {},
   "outputs": [],
   "source": [
    "# MongoDB Workshop Progress\n",
    "workshop_steps = [\n",
    "    \"Set up MongoDB Atlas Account\",\n",
    "    \"Create a Cluster\",\n",
    "    \"Configure Network Access\",\n",
    "    \"Create Database User\",\n",
    "    \"Connect with Python Driver\",\n",
    "    \"Insert Sample Documents\",\n",
    "    \"Query the Collection\",\n",
    "    \"Create an Index\",\n",
    "    \"Perform Aggregation\",\n",
    "    \"Clean Up Resources\"\n",
    "]\n",
    "\n",
    "workshop = LabProgress(\n",
    "    steps=workshop_steps,\n",
    "    title=\"🍃 MongoDB Essentials Workshop\"\n",
    ")\n",
    "\n",
    "workshop.display()"
   ]
  },
  {
   "cell_type": "code",
   "execution_count": null,
   "metadata": {},
   "outputs": [],
   "source": [
    "# Simulate workshop progress\n",
    "print(\"Starting MongoDB workshop...\\n\")\n",
    "\n",
    "# Complete setup steps\n",
    "setup_steps = workshop_steps[:4]\n",
    "for step in setup_steps:\n",
    "    workshop.mark_completed(step)\n",
    "    print(f\"✅ Completed: {step}\")\n",
    "\n",
    "workshop.display()\n",
    "print(f\"\\nSetup phase complete! Progress: {workshop.get_completion_percentage()}%\")"
   ]
  },
  {
   "cell_type": "markdown",
   "metadata": {},
   "source": [
    "## 6. Interactive Progress Updates\n",
    "\n",
    "You can update the same cell to show live progress:"
   ]
  },
  {
   "cell_type": "code",
   "execution_count": null,
   "metadata": {},
   "outputs": [],
   "source": [
    "from IPython.display import clear_output\n",
    "\n",
    "# Create a new progress tracker\n",
    "live_progress = LabProgress(\n",
    "    steps=[\"Step 1\", \"Step 2\", \"Step 3\", \"Step 4\", \"Step 5\"],\n",
    "    title=\"⚡ Live Progress Demo\"\n",
    ")\n",
    "\n",
    "# Simulate live updates\n",
    "for i, step in enumerate(live_progress.steps):\n",
    "    clear_output(wait=True)\n",
    "    live_progress.mark_completed(step)\n",
    "    live_progress.display()\n",
    "    print(f\"\\nWorking on step {i+2}...\" if i < 4 else \"\\n✨ All done!\")\n",
    "    time.sleep(1)"
   ]
  },
  {
   "cell_type": "markdown",
   "metadata": {},
   "source": [
    "## 7. Progress Tracking in Functions\n",
    "\n",
    "You can pass progress trackers to functions for modular labs:"
   ]
  },
  {
   "cell_type": "code",
   "execution_count": null,
   "metadata": {},
   "outputs": [],
   "source": [
    "def setup_database(progress_tracker):\n",
    "    \"\"\"Simulate database setup with progress tracking.\"\"\"\n",
    "    print(\"Setting up database connection...\")\n",
    "    time.sleep(1)\n",
    "    progress_tracker.mark_completed(\"Database Setup\")\n",
    "    print(\"✅ Database connected!\")\n",
    "    \n",
    "def load_data(progress_tracker):\n",
    "    \"\"\"Simulate data loading with progress tracking.\"\"\"\n",
    "    print(\"Loading data...\")\n",
    "    time.sleep(1)\n",
    "    progress_tracker.mark_completed(\"Data Loading\")\n",
    "    print(\"✅ Data loaded!\")\n",
    "    \n",
    "def process_data(progress_tracker):\n",
    "    \"\"\"Simulate data processing with progress tracking.\"\"\"\n",
    "    print(\"Processing data...\")\n",
    "    time.sleep(1)\n",
    "    progress_tracker.mark_completed(\"Data Processing\")\n",
    "    print(\"✅ Data processed!\")\n",
    "\n",
    "# Create progress tracker\n",
    "pipeline = LabProgress(\n",
    "    steps=[\"Database Setup\", \"Data Loading\", \"Data Processing\"],\n",
    "    title=\"📊 Data Pipeline Progress\"\n",
    ")\n",
    "\n",
    "# Run pipeline with progress tracking\n",
    "pipeline.display()\n",
    "setup_database(pipeline)\n",
    "pipeline.display()\n",
    "load_data(pipeline)\n",
    "pipeline.display()\n",
    "process_data(pipeline)\n",
    "pipeline.display()"
   ]
  },
  {
   "cell_type": "markdown",
   "metadata": {},
   "source": [
    "## 8. Resetting Progress\n",
    "\n",
    "You can reset the progress tracker to start over:"
   ]
  },
  {
   "cell_type": "code",
   "execution_count": null,
   "metadata": {},
   "outputs": [],
   "source": [
    "# Create and complete some steps\n",
    "reset_demo = LabProgress(\n",
    "    steps=[\"Task 1\", \"Task 2\", \"Task 3\"],\n",
    "    title=\"🔄 Reset Demo\"\n",
    ")\n",
    "\n",
    "reset_demo.mark_completed(\"Task 1\")\n",
    "reset_demo.mark_completed(\"Task 2\")\n",
    "print(\"Progress before reset:\")\n",
    "reset_demo.display()\n",
    "\n",
    "# Reset all progress\n",
    "reset_demo.reset()\n",
    "print(\"\\nProgress after reset:\")\n",
    "reset_demo.display()"
   ]
  },
  {
   "cell_type": "markdown",
   "metadata": {},
   "source": [
    "## 9. Best Practices\n",
    "\n",
    "Here are some tips for using LabProgress effectively:"
   ]
  },
  {
   "cell_type": "code",
   "execution_count": null,
   "metadata": {},
   "outputs": [],
   "source": [
    "# Best Practice 1: Use descriptive step names\n",
    "good_steps = [\n",
    "    \"Install pymongo library\",\n",
    "    \"Create MongoDB Atlas account\",\n",
    "    \"Configure IP whitelist for access\",\n",
    "    \"Generate connection string\",\n",
    "    \"Test database connection\"\n",
    "]\n",
    "\n",
    "# Best Practice 2: Group related steps\n",
    "grouped_progress = LabProgress(\n",
    "    steps=[\n",
    "        \"Setup: Install dependencies\",\n",
    "        \"Setup: Configure environment\",\n",
    "        \"Development: Create schema\",\n",
    "        \"Development: Implement features\",\n",
    "        \"Testing: Unit tests\",\n",
    "        \"Testing: Integration tests\",\n",
    "        \"Deployment: Build application\",\n",
    "        \"Deployment: Deploy to cloud\"\n",
    "    ],\n",
    "    title=\"🚀 Full Stack Development Progress\"\n",
    ")\n",
    "\n",
    "grouped_progress.display()"
   ]
  },
  {
   "cell_type": "code",
   "execution_count": null,
   "metadata": {},
   "outputs": [],
   "source": [
    "# Best Practice 3: Add checkpoints for complex labs\n",
    "checkpoint_progress = LabProgress(\n",
    "    steps=[\n",
    "        \"📍 Checkpoint 1: Environment Ready\",\n",
    "        \"Task 1.1: Install packages\",\n",
    "        \"Task 1.2: Set up credentials\",\n",
    "        \"📍 Checkpoint 2: Data Loaded\",\n",
    "        \"Task 2.1: Connect to source\",\n",
    "        \"Task 2.2: Import data\",\n",
    "        \"📍 Checkpoint 3: Analysis Complete\",\n",
    "        \"Task 3.1: Run analysis\",\n",
    "        \"Task 3.2: Generate visualizations\"\n",
    "    ],\n",
    "    title=\"📊 Data Science Lab with Checkpoints\"\n",
    ")\n",
    "\n",
    "checkpoint_progress.display()"
   ]
  },
  {
   "cell_type": "markdown",
   "metadata": {},
   "source": [
    "## Summary\n",
    "\n",
    "The `LabProgress` class provides:\n",
    "- ✅ Visual progress tracking with beautiful HTML output\n",
    "- ✅ Flexible initialization with steps or total_steps\n",
    "- ✅ Custom titles for branding\n",
    "- ✅ Progress percentage and step tracking\n",
    "- ✅ Reset functionality\n",
    "- ✅ Easy integration into any Jupyter notebook\n",
    "\n",
    "Use it to make your labs more engaging and help students track their progress!"
   ]
  }
 ],
 "metadata": {
  "kernelspec": {
   "display_name": "Python 3",
   "language": "python",
   "name": "python3"
  },
  "language_info": {
   "codemirror_mode": {
    "name": "ipython",
    "version": 3
   },
   "file_extension": ".py",
   "mimetype": "text/x-python",
   "name": "python",
   "nbconvert_exporter": "python",
   "version": "3.9.0"
  }
 },
 "nbformat": 4,
 "nbformat_minor": 4
}