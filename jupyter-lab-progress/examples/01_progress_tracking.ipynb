{
 "cells": [
  {
   "cell_type": "markdown",
   "metadata": {},
   "source": [
    "# Progress Tracking with jupyter-lab-progress\n",
    "\n",
    "This notebook demonstrates all the features of the `LabProgress` class for tracking student progress through lab exercises.\n",
    "\n",
    "## Table of Contents\n",
    "1. Basic Progress Tracking\n",
    "2. Custom Styling and Themes\n",
    "3. Progress with Scores and Notes\n",
    "4. Advanced Features\n",
    "5. Best Practices"
   ]
  },
  {
   "cell_type": "markdown",
   "metadata": {},
   "source": [
    "## Setup\n",
    "\n",
    "First, let's import the necessary modules:"
   ]
  },
  {
   "cell_type": "code",
   "execution_count": null,
   "metadata": {},
   "outputs": [],
   "source": "# 🔧 Environment Setup - Run this cell first!\nimport sys\nimport subprocess\n\ndef install_if_missing(package_name, import_name=None):\n    \"\"\"Install a package if it's not already available.\"\"\"\n    if import_name is None:\n        import_name = package_name.replace('-', '_')\n    \n    try:\n        __import__(import_name)\n        print(f\"✅ {package_name} is available\")\n    except ImportError:\n        print(f\"📦 Installing {package_name}...\")\n        subprocess.check_call([sys.executable, \"-m\", \"pip\", \"install\", package_name])\n        print(f\"✅ {package_name} installed successfully!\")\n\n# Install core dependencies\ninstall_if_missing(\"jupyter-lab-progress\", \"jupyter_lab_progress\")\n\n# Now import what we need\nfrom jupyter_lab_progress import LabProgress\nimport time\n\nprint(\"\\n🎉 Setup complete! Ready to explore progress tracking.\")\nprint(\"📚 This notebook demonstrates all features of the LabProgress class.\")"
  },
  {
   "cell_type": "markdown",
   "metadata": {},
   "source": [
    "## 1. Basic Progress Tracking\n",
    "\n",
    "The simplest way to use LabProgress is to create a list of steps and track completion:"
   ]
  },
  {
   "cell_type": "code",
   "execution_count": null,
   "metadata": {},
   "outputs": [],
   "source": "# Create a simple progress tracker\nsteps = [\n    \"Install required packages\",\n    \"Connect to database\",\n    \"Load sample data\",\n    \"Run analysis\",\n    \"Generate report\"\n]\n\nprogress = LabProgress(steps=steps)\nprogress.display_progress()"
  },
  {
   "cell_type": "code",
   "execution_count": null,
   "metadata": {},
   "outputs": [],
   "source": "# Mark first step as complete\nprogress.mark_done(\"Install required packages\")\nprogress.display_progress()"
  },
  {
   "cell_type": "code",
   "execution_count": null,
   "metadata": {},
   "outputs": [],
   "source": "# Mark multiple steps complete\nprogress.mark_done(\"Connect to database\")\nprogress.mark_done(\"Load sample data\")\nprogress.display_progress()"
  },
  {
   "cell_type": "markdown",
   "metadata": {},
   "source": [
    "## 2. Using total_steps for Quick Setup\n",
    "\n",
    "If you just need numbered steps, use `total_steps`:"
   ]
  },
  {
   "cell_type": "code",
   "execution_count": null,
   "metadata": {},
   "outputs": [],
   "source": "# Create progress with numbered steps\nquick_progress = LabProgress(steps=[\"Step 1\", \"Step 2\", \"Step 3\", \"Step 4\", \"Step 5\"])\nquick_progress.display_progress()\n\n# Mark steps by name\nquick_progress.mark_done(\"Step 1\")\nquick_progress.mark_done(\"Step 2\")\nquick_progress.display_progress()"
  },
  {
   "cell_type": "markdown",
   "metadata": {},
   "source": [
    "## 3. Custom Titles and Lab Names\n",
    "\n",
    "Customize the appearance with titles:"
   ]
  },
  {
   "cell_type": "code",
   "execution_count": null,
   "metadata": {},
   "outputs": [],
   "source": "# Create a progress tracker with custom title\nml_steps = [\n    \"Data Collection\",\n    \"Data Preprocessing\",\n    \"Feature Engineering\",\n    \"Model Training\",\n    \"Model Evaluation\",\n    \"Model Deployment\"\n]\n\nml_progress = LabProgress(\n    steps=ml_steps,\n    lab_name=\"🤖 Machine Learning Pipeline Progress\"\n)\nml_progress.display_progress()"
  },
  {
   "cell_type": "code",
   "execution_count": null,
   "metadata": {},
   "outputs": [],
   "source": "# Simulate completing ML pipeline steps\nfor step in ml_steps[:3]:\n    ml_progress.mark_done(step)\n    ml_progress.display_progress()\n    time.sleep(0.5)  # Small delay for demonstration"
  },
  {
   "cell_type": "markdown",
   "metadata": {},
   "source": [
    "## 4. Getting Progress Information\n",
    "\n",
    "You can retrieve progress information programmatically:"
   ]
  },
  {
   "cell_type": "code",
   "execution_count": null,
   "metadata": {},
   "outputs": [],
   "source": "# Get completion percentage\ncompletion = ml_progress.get_completion_rate()\nprint(f\"Current completion: {completion}%\")\n\n# Get completed steps\ncompleted = [step for step, info in ml_progress.steps.items() if info['completed']]\nprint(f\"\\nCompleted steps: {completed}\")\n\n# Get remaining steps\nremaining = [step for step, info in ml_progress.steps.items() if not info['completed']]\nprint(f\"\\nRemaining steps: {remaining}\")"
  },
  {
   "cell_type": "markdown",
   "metadata": {},
   "source": [
    "## 5. Workshop Progress Tracking Example\n",
    "\n",
    "Here's a complete example for a MongoDB workshop:"
   ]
  },
  {
   "cell_type": "code",
   "execution_count": null,
   "metadata": {},
   "outputs": [],
   "source": "# MongoDB Workshop Progress\nworkshop_steps = [\n    \"Set up MongoDB Atlas Account\",\n    \"Create a Cluster\",\n    \"Configure Network Access\",\n    \"Create Database User\",\n    \"Connect with Python Driver\",\n    \"Insert Sample Documents\",\n    \"Query the Collection\",\n    \"Create an Index\",\n    \"Perform Aggregation\",\n    \"Clean Up Resources\"\n]\n\nworkshop = LabProgress(\n    steps=workshop_steps,\n    lab_name=\"🍃 MongoDB Essentials Workshop\"\n)\n\nworkshop.display_progress()"
  },
  {
   "cell_type": "code",
   "execution_count": null,
   "metadata": {},
   "outputs": [],
   "source": "# Simulate workshop progress\nprint(\"Starting MongoDB workshop...\\n\")\n\n# Complete setup steps\nsetup_steps = workshop_steps[:4]\nfor step in setup_steps:\n    workshop.mark_done(step)\n    print(f\"✅ Completed: {step}\")\n\nworkshop.display_progress()\nprint(f\"\\nSetup phase complete! Progress: {workshop.get_completion_rate()}%\")"
  },
  {
   "cell_type": "markdown",
   "metadata": {},
   "source": [
    "## 6. Interactive Progress Updates\n",
    "\n",
    "You can update the same cell to show live progress:"
   ]
  },
  {
   "cell_type": "code",
   "execution_count": null,
   "metadata": {},
   "outputs": [],
   "source": "from IPython.display import clear_output\n\n# Create a new progress tracker\nlive_progress = LabProgress(\n    steps=[\"Step 1\", \"Step 2\", \"Step 3\", \"Step 4\", \"Step 5\"],\n    lab_name=\"⚡ Live Progress Demo\"\n)\n\n# Simulate live updates\nfor i, step in enumerate(live_progress.steps):\n    clear_output(wait=True)\n    live_progress.mark_done(step)\n    live_progress.display_progress()\n    print(f\"\\nWorking on step {i+2}...\" if i < 4 else \"\\n✨ All done!\")\n    time.sleep(1)"
  },
  {
   "cell_type": "markdown",
   "metadata": {},
   "source": [
    "## 7. Progress Tracking in Functions\n",
    "\n",
    "You can pass progress trackers to functions for modular labs:"
   ]
  },
  {
   "cell_type": "code",
   "execution_count": null,
   "metadata": {},
   "outputs": [],
   "source": "def setup_database(progress_tracker):\n    \"\"\"Simulate database setup with progress tracking.\"\"\"\n    print(\"Setting up database connection...\")\n    time.sleep(1)\n    progress_tracker.mark_done(\"Database Setup\")\n    print(\"✅ Database connected!\")\n    \ndef load_data(progress_tracker):\n    \"\"\"Simulate data loading with progress tracking.\"\"\"\n    print(\"Loading data...\")\n    time.sleep(1)\n    progress_tracker.mark_done(\"Data Loading\")\n    print(\"✅ Data loaded!\")\n    \ndef process_data(progress_tracker):\n    \"\"\"Simulate data processing with progress tracking.\"\"\"\n    print(\"Processing data...\")\n    time.sleep(1)\n    progress_tracker.mark_done(\"Data Processing\")\n    print(\"✅ Data processed!\")\n\n# Create progress tracker\npipeline = LabProgress(\n    steps=[\"Database Setup\", \"Data Loading\", \"Data Processing\"],\n    lab_name=\"📊 Data Pipeline Progress\"\n)\n\n# Run pipeline with progress tracking\npipeline.display_progress()\nsetup_database(pipeline)\npipeline.display_progress()\nload_data(pipeline)\npipeline.display_progress()\nprocess_data(pipeline)\npipeline.display_progress()"
  },
  {
   "cell_type": "markdown",
   "metadata": {},
   "source": [
    "## 8. Resetting Progress\n",
    "\n",
    "You can reset the progress tracker to start over:"
   ]
  },
  {
   "cell_type": "code",
   "execution_count": null,
   "metadata": {},
   "outputs": [],
   "source": "# Create and complete some steps\nreset_demo = LabProgress(\n    steps=[\"Task 1\", \"Task 2\", \"Task 3\"],\n    lab_name=\"🔄 Reset Demo\"\n)\n\nreset_demo.mark_done(\"Task 1\")\nreset_demo.mark_done(\"Task 2\")\nprint(\"Progress before reset:\")\nreset_demo.display_progress()\n\n# Reset all progress\nreset_demo.reset_all()\nprint(\"\\nProgress after reset:\")\nreset_demo.display_progress()"
  },
  {
   "cell_type": "markdown",
   "metadata": {},
   "source": [
    "## 9. Best Practices\n",
    "\n",
    "Here are some tips for using LabProgress effectively:"
   ]
  },
  {
   "cell_type": "code",
   "execution_count": null,
   "metadata": {},
   "outputs": [],
   "source": "# Best Practice 1: Use descriptive step names\ngood_steps = [\n    \"Install pymongo library\",\n    \"Create MongoDB Atlas account\",\n    \"Configure IP whitelist for access\",\n    \"Generate connection string\",\n    \"Test database connection\"\n]\n\n# Best Practice 2: Group related steps\ngrouped_progress = LabProgress(\n    steps=[\n        \"Setup: Install dependencies\",\n        \"Setup: Configure environment\",\n        \"Development: Create schema\",\n        \"Development: Implement features\",\n        \"Testing: Unit tests\",\n        \"Testing: Integration tests\",\n        \"Deployment: Build application\",\n        \"Deployment: Deploy to cloud\"\n    ],\n    lab_name=\"🚀 Full Stack Development Progress\"\n)\n\ngrouped_progress.display_progress()"
  },
  {
   "cell_type": "code",
   "execution_count": null,
   "metadata": {},
   "outputs": [],
   "source": "# Best Practice 3: Add checkpoints for complex labs\ncheckpoint_progress = LabProgress(\n    steps=[\n        \"📍 Checkpoint 1: Environment Ready\",\n        \"Task 1.1: Install packages\",\n        \"Task 1.2: Set up credentials\",\n        \"📍 Checkpoint 2: Data Loaded\",\n        \"Task 2.1: Connect to source\",\n        \"Task 2.2: Import data\",\n        \"📍 Checkpoint 3: Analysis Complete\",\n        \"Task 3.1: Run analysis\",\n        \"Task 3.2: Generate visualizations\"\n    ],\n    lab_name=\"📊 Data Science Lab with Checkpoints\"\n)\n\ncheckpoint_progress.display_progress()"
  },
  {
   "cell_type": "markdown",
   "metadata": {},
   "source": [
    "## Summary\n",
    "\n",
    "The `LabProgress` class provides:\n",
    "- ✅ Visual progress tracking with beautiful HTML output\n",
    "- ✅ Flexible initialization with steps or total_steps\n",
    "- ✅ Custom titles for branding\n",
    "- ✅ Progress percentage and step tracking\n",
    "- ✅ Reset functionality\n",
    "- ✅ Easy integration into any Jupyter notebook\n",
    "\n",
    "Use it to make your labs more engaging and help students track their progress!"
   ]
  }
 ],
 "metadata": {
  "kernelspec": {
   "display_name": "Python 3",
   "language": "python",
   "name": "python3"
  },
  "language_info": {
   "codemirror_mode": {
    "name": "ipython",
    "version": 3
   },
   "file_extension": ".py",
   "mimetype": "text/x-python",
   "name": "python",
   "nbconvert_exporter": "python",
   "version": "3.9.0"
  }
 },
 "nbformat": 4,
 "nbformat_minor": 4
}