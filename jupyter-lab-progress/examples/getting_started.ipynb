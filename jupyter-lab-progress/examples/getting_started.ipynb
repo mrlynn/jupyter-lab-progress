{
 "cells": [
  {
   "cell_type": "markdown",
   "metadata": {},
   "source": [
    "# Getting Started with Jupyter Lab Utils\n",
    "\n",
    "This notebook demonstrates how to use the `jupyter-lab-utils` package to create interactive lab exercises."
   ]
  },
  {
   "cell_type": "markdown",
   "metadata": {},
   "source": [
    "## Installation\n",
    "\n",
    "First, install the package:\n",
    "\n",
    "```bash\n",
    "pip install jupyter-lab-utils\n",
    "```\n",
    "\n",
    "Or for development:\n",
    "\n",
    "```bash\n",
    "pip install -e .\n",
    "```"
   ]
  },
  {
   "cell_type": "code",
   "execution_count": null,
   "metadata": {},
   "outputs": [],
   "source": [
    "# Import the package\n",
    "from jupyter_lab_utils import *\n",
    "import pandas as pd\n",
    "import numpy as np\n",
    "\n",
    "print(f\"Using jupyter-lab-utils version {__version__}\")"
   ]
  },
  {
   "cell_type": "markdown",
   "metadata": {},
   "source": [
    "## 1. Progress Tracking\n",
    "\n",
    "Create and manage lab progress with visual feedback:"
   ]
  },
  {
   "cell_type": "code",
   "execution_count": null,
   "metadata": {},
   "outputs": [],
   "source": [
    "# Create a progress tracker\n",
    "progress = LabProgress(\n",
    "    steps=[\"Setup\", \"Load Data\", \"Clean Data\", \"Analyze\", \"Visualize\"],\n",
    "    lab_name=\"Data Science Workshop\",\n",
    "    persist=True  # Save progress automatically\n",
    ")"
   ]
  },
  {
   "cell_type": "code",
   "execution_count": null,
   "metadata": {},
   "outputs": [],
   "source": [
    "# Mark steps as complete with scores and notes\n",
    "progress.mark_done(\"Setup\", score=100, notes=\"Environment ready!\")\n",
    "progress.mark_done(\"Load Data\", score=95, notes=\"Data loaded successfully\")"
   ]
  },
  {
   "cell_type": "code",
   "execution_count": null,
   "metadata": {},
   "outputs": [],
   "source": [
    "# Show partial progress\n",
    "progress.mark_partial(\"Clean Data\", 0.7, notes=\"Handling missing values...\")"
   ]
  },
  {
   "cell_type": "markdown",
   "metadata": {},
   "source": [
    "## 2. Display Utilities\n",
    "\n",
    "Rich display components for better communication:"
   ]
  },
  {
   "cell_type": "code",
   "execution_count": null,
   "metadata": {},
   "outputs": [],
   "source": [
    "# Different message types\n",
    "show_info(\"Welcome to the data science workshop!\", title=\"Getting Started\")\n",
    "show_success(\"Great job completing the setup!\")\n",
    "show_warning(\"Make sure to handle missing values carefully\")\n",
    "show_error(\"This is what an error message looks like\")"
   ]
  },
  {
   "cell_type": "code",
   "execution_count": null,
   "metadata": {},
   "outputs": [],
   "source": [
    "# Code examples with syntax highlighting\n",
    "show_code(\"\"\"\n",
    "# Load your dataset\n",
    "import pandas as pd\n",
    "df = pd.read_csv('data.csv')\n",
    "\n",
    "# Check for missing values\n",
    "print(df.isnull().sum())\n",
    "\"\"\", language=\"python\", title=\"Example: Loading Data\")"
   ]
  },
  {
   "cell_type": "code",
   "execution_count": null,
   "metadata": {},
   "outputs": [],
   "source": [
    "# Interactive hints\n",
    "show_hint(\"Remember to check the data types before analysis\", title=\"Pro Tip\")\n",
    "show_hint(\"Use df.info() to get a quick overview of your dataset\")"
   ]
  },
  {
   "cell_type": "code",
   "execution_count": null,
   "metadata": {},
   "outputs": [],
   "source": [
    "# Progress bars for visual feedback\n",
    "show_progress_bar(3, 5, label=\"Workshop Progress\", color=\"#4CAF50\")\n",
    "show_progress_bar(70, 100, label=\"Data Cleaning\", color=\"#FF9800\")"
   ]
  },
  {
   "cell_type": "markdown",
   "metadata": {},
   "source": [
    "## 3. Validation Framework\n",
    "\n",
    "Comprehensive validation with automatic progress updates:"
   ]
  },
  {
   "cell_type": "code",
   "execution_count": null,
   "metadata": {},
   "outputs": [],
   "source": [
    "# Create sample data for validation examples\n",
    "sample_df = pd.DataFrame({\n",
    "    'id': range(1, 101),\n",
    "    'value': np.random.randn(100),\n",
    "    'category': np.random.choice(['A', 'B', 'C'], 100)\n",
    "})\n",
    "\n",
    "def process_data(df):\n",
    "    \"\"\"Example function for validation.\"\"\"\n",
    "    return df.dropna()\n",
    "\n",
    "sample_embedding = np.random.randn(128).tolist()"
   ]
  },
  {
   "cell_type": "code",
   "execution_count": null,
   "metadata": {},
   "outputs": [],
   "source": [
    "# Create validator linked to progress tracker\n",
    "validator = LabValidator(progress_tracker=progress)"
   ]
  },
  {
   "cell_type": "code",
   "execution_count": null,
   "metadata": {},
   "outputs": [],
   "source": [
    "# Variable validation\n",
    "validator.validate_variable_exists('sample_df', globals(), expected_type=pd.DataFrame)"
   ]
  },
  {
   "cell_type": "code",
   "execution_count": null,
   "metadata": {},
   "outputs": [],
   "source": [
    "# Function validation\n",
    "validator.validate_function_exists('process_data', globals(), expected_params=['df'])"
   ]
  },
  {
   "cell_type": "code",
   "execution_count": null,
   "metadata": {},
   "outputs": [],
   "source": [
    "# DataFrame validation\n",
    "validator.validate_dataframe(\n",
    "    sample_df,\n",
    "    expected_shape=(100, 3),\n",
    "    expected_columns=['id', 'value', 'category']\n",
    ")"
   ]
  },
  {
   "cell_type": "code",
   "execution_count": null,
   "metadata": {},
   "outputs": [],
   "source": [
    "# Custom validation with progress update\n",
    "validator.validate_and_mark_complete(\n",
    "    \"Clean Data\",\n",
    "    condition=(sample_df.isnull().sum().sum() == 0),\n",
    "    success_msg=\"Data cleaning completed successfully!\",\n",
    "    failure_msg=\"Data still contains missing values\"\n",
    ")"
   ]
  },
  {
   "cell_type": "markdown",
   "metadata": {},
   "source": [
    "## 4. Advanced Display Components\n",
    "\n",
    "More sophisticated display elements:"
   ]
  },
  {
   "cell_type": "code",
   "execution_count": null,
   "metadata": {},
   "outputs": [],
   "source": [
    "# Checklists for task tracking\n",
    "show_checklist({\n",
    "    \"Load dataset\": True,\n",
    "    \"Check data types\": True,\n",
    "    \"Handle missing values\": True,\n",
    "    \"Exploratory analysis\": False,\n",
    "    \"Create visualizations\": False,\n",
    "    \"Model training\": False\n",
    "}, title=\"Workshop Tasks\")"
   ]
  },
  {
   "cell_type": "code",
   "execution_count": null,
   "metadata": {},
   "outputs": [],
   "source": [
    "# Tables for displaying results\n",
    "show_table(\n",
    "    headers=[\"Step\", \"Status\", \"Score\", \"Notes\"],\n",
    "    rows=[\n",
    "        [\"Setup\", \"✅ Complete\", \"100\", \"Environment ready\"],\n",
    "        [\"Load Data\", \"✅ Complete\", \"95\", \"Data loaded successfully\"],\n",
    "        [\"Clean Data\", \"🔄 In Progress\", \"70\", \"Handling missing values\"],\n",
    "        [\"Analyze\", \"⏳ Pending\", \"-\", \"Not started\"],\n",
    "        [\"Visualize\", \"⏳ Pending\", \"-\", \"Not started\"]\n",
    "    ],\n",
    "    title=\"Progress Summary\"\n",
    ")"
   ]
  },
  {
   "cell_type": "code",
   "execution_count": null,
   "metadata": {},
   "outputs": [],
   "source": [
    "# JSON data display\n",
    "results = {\n",
    "    \"dataset_info\": {\n",
    "        \"rows\": 100,\n",
    "        \"columns\": 3,\n",
    "        \"missing_values\": 0\n",
    "    },\n",
    "    \"statistics\": {\n",
    "        \"mean_value\": sample_df['value'].mean(),\n",
    "        \"std_value\": sample_df['value'].std(),\n",
    "        \"categories\": sample_df['category'].unique().tolist()\n",
    "    }\n",
    "}\n",
    "\n",
    "show_json(results, title=\"Dataset Analysis Results\")"
   ]
  },
  {
   "cell_type": "code",
   "execution_count": null,
   "metadata": {},
   "outputs": [],
   "source": [
    "# Tabbed content for organization\n",
    "show_tabs({\n",
    "    \"Instructions\": \"\"\"\n",
    "    <h4>Next Steps</h4>\n",
    "    <ol>\n",
    "        <li>Perform exploratory data analysis</li>\n",
    "        <li>Create meaningful visualizations</li>\n",
    "        <li>Build and evaluate a model</li>\n",
    "    </ol>\n",
    "    \"\"\",\n",
    "    \"Code Template\": \"\"\"\n",
    "    <pre><code>\n",
    "# Exploratory Data Analysis\n",
    "df.describe()\n",
    "df.hist(figsize=(10, 6))\n",
    "df.groupby('category')['value'].mean()\n",
    "    </code></pre>\n",
    "    \"\"\",\n",
    "    \"Resources\": \"\"\"\n",
    "    <h4>Helpful Links</h4>\n",
    "    <ul>\n",
    "        <li><a href=\"#\">Pandas Documentation</a></li>\n",
    "        <li><a href=\"#\">Matplotlib Tutorial</a></li>\n",
    "        <li><a href=\"#\">Seaborn Examples</a></li>\n",
    "    </ul>\n",
    "    \"\"\"\n",
    "})"
   ]
  },
  {
   "cell_type": "markdown",
   "metadata": {},
   "source": [
    "## 5. Complete Lab Exercise Example\n",
    "\n",
    "Here's how to structure a complete lab exercise:"
   ]
  },
  {
   "cell_type": "code",
   "execution_count": null,
   "metadata": {},
   "outputs": [],
   "source": [
    "# Initialize a new lab\n",
    "lab_steps = [\"Import Libraries\", \"Create Dataset\", \"Basic Analysis\", \"Summary\"]\n",
    "lab = LabProgress(lab_steps, lab_name=\"Quick Data Analysis Lab\", persist=False)\n",
    "lab_validator = LabValidator(progress_tracker=lab)"
   ]
  },
  {
   "cell_type": "code",
   "execution_count": null,
   "metadata": {},
   "outputs": [],
   "source": [
    "# Step 1: Import Libraries\n",
    "show_info(\"Let's start by importing the required libraries\", title=\"Step 1: Setup\")\n",
    "show_code(\"import pandas as pd\\nimport numpy as np\\nimport matplotlib.pyplot as plt\")\n",
    "\n",
    "# Students work here...\n",
    "# (Libraries already imported above)\n",
    "\n",
    "# Validate\n",
    "try:\n",
    "    import matplotlib.pyplot as plt\n",
    "    lab_validator.validate_and_mark_complete(\"Import Libraries\", True)\n",
    "except ImportError:\n",
    "    show_error(\"Please install matplotlib: pip install matplotlib\")"
   ]
  },
  {
   "cell_type": "code",
   "execution_count": null,
   "metadata": {},
   "outputs": [],
   "source": [
    "# Step 2: Create Dataset\n",
    "show_info(\"Create a sample dataset with 50 rows and 3 columns\", title=\"Step 2: Data Creation\")\n",
    "\n",
    "# Student work area\n",
    "np.random.seed(42)\n",
    "student_data = pd.DataFrame({\n",
    "    'score': np.random.randint(60, 100, 50),\n",
    "    'hours_studied': np.random.randint(1, 10, 50),\n",
    "    'subject': np.random.choice(['Math', 'Science', 'English'], 50)\n",
    "})\n",
    "\n",
    "# Validate\n",
    "if 'student_data' in globals():\n",
    "    lab_validator.validate_dataframe(\n",
    "        student_data,\n",
    "        expected_shape=(50, 3)\n",
    "    )\n",
    "    lab.mark_done(\"Create Dataset\", score=100)\n",
    "    show_success(\"Dataset created successfully!\")\n",
    "else:\n",
    "    show_warning(\"Please create the student_data DataFrame\")"
   ]
  },
  {
   "cell_type": "code",
   "execution_count": null,
   "metadata": {},
   "outputs": [],
   "source": [
    "# Step 3: Basic Analysis\n",
    "show_info(\"Perform basic statistical analysis\", title=\"Step 3: Analysis\")\n",
    "\n",
    "# Analysis\n",
    "analysis_complete = False\n",
    "if 'student_data' in globals():\n",
    "    mean_score = student_data['score'].mean()\n",
    "    subject_counts = student_data['subject'].value_counts()\n",
    "    analysis_complete = True\n",
    "    \n",
    "    show_table(\n",
    "        headers=[\"Metric\", \"Value\"],\n",
    "        rows=[\n",
    "            [\"Mean Score\", f\"{mean_score:.1f}\"],\n",
    "            [\"Total Students\", len(student_data)],\n",
    "            [\"Subjects\", len(student_data['subject'].unique())]\n",
    "        ],\n",
    "        title=\"Analysis Results\"\n",
    "    )\n",
    "\n",
    "lab_validator.validate_and_mark_complete(\n",
    "    \"Basic Analysis\",\n",
    "    condition=analysis_complete,\n",
    "    success_msg=\"Analysis completed!\"\n",
    ")"
   ]
  },
  {
   "cell_type": "code",
   "execution_count": null,
   "metadata": {},
   "outputs": [],
   "source": [
    "# Final Summary\n",
    "lab.mark_done(\"Summary\", score=100, notes=\"Lab completed successfully!\")\n",
    "\n",
    "show_success(\"Congratulations! You've completed the lab\", title=\"Lab Complete\")\n",
    "print(\"\\nFinal Report:\")\n",
    "print(lab.export_report())"
   ]
  },
  {
   "cell_type": "markdown",
   "metadata": {},
   "source": [
    "## 6. Best Practices\n",
    "\n",
    "Here are some tips for creating effective lab exercises:\n",
    "\n",
    "1. **Clear Instructions**: Use `show_info()` at the start of each step\n",
    "2. **Progressive Validation**: Validate early and often\n",
    "3. **Helpful Feedback**: Provide meaningful success and error messages\n",
    "4. **Visual Progress**: Use progress bars and checklists\n",
    "5. **Persistence**: Enable persistence for longer labs\n",
    "6. **Scaffolding**: Provide code templates and hints\n",
    "\n",
    "## Next Steps\n",
    "\n",
    "- Explore the full API documentation\n",
    "- Create your own validation methods\n",
    "- Build custom display components\n",
    "- Share your lab exercises with others!\n",
    "\n",
    "Happy teaching and learning! 🎓"
   ]
  }
 ],
 "metadata": {
  "kernelspec": {
   "display_name": "Python 3",
   "language": "python",
   "name": "python3"
  },
  "language_info": {
   "codemirror_mode": {
    "name": "ipython",
    "version": 3
   },
   "file_extension": ".py",
   "mimetype": "text/x-python",
   "name": "python",
   "nbconvert_exporter": "python",
   "pygments_lexer": "ipython3",
   "version": "3.8.0"
  }
 },
 "nbformat": 4,
 "nbformat_minor": 4
}