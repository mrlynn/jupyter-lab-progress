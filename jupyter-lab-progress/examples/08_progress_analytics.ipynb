{
 "cells": [
  {
   "cell_type": "markdown",
   "metadata": {},
   "source": [
    "# Progress Analytics Demo\n",
    "\n",
    "This notebook demonstrates the new analytics functionality that tracks student progress and exports detailed metrics for instructors.\n",
    "\n",
    "## ⚠️ Important Setup Instructions\n",
    "\n",
    "If you encounter `TypeError` about unexpected keyword arguments (like `checkpoint_name`), this means you're using an older version of the package. To fix this:\n",
    "\n",
    "1. **Option A - Quick Fix**: Run the reinstall script from terminal:\n",
    "   ```bash\n",
    "   cd /Users/michael.lynn/code/mongodb/developer-days/jupyter-utils/jupyter-lab-progress\n",
    "   ./reinstall.sh\n",
    "   ```\n",
    "\n",
    "2. **Option B - Manual Fix**:\n",
    "   ```bash\n",
    "   pip uninstall jupyter-lab-progress\n",
    "   cd /Users/michael.lynn/code/mongodb/developer-days/jupyter-utils/jupyter-lab-progress\n",
    "   pip install -e .\n",
    "   ```\n",
    "\n",
    "3. **Then restart your Jupyter kernel**: Kernel → Restart\n",
    "\n",
    "The first cell below will help diagnose if you have the correct version installed."
   ]
  },
  {
   "cell_type": "code",
   "execution_count": 1,
   "metadata": {},
   "outputs": [
    {
     "data": {
      "text/html": [
       "\n",
       "        <div style='background-color: #f5f5f5; padding: 20px; border-radius: 10px; margin: 10px 0;'>\n",
       "            <h3 style='color: #333; margin-bottom: 15px;'>test Progress</h3>\n",
       "            \n",
       "            <!-- Progress Bar -->\n",
       "            <div style='background-color: #e0e0e0; border-radius: 20px; height: 30px; margin-bottom: 20px;'>\n",
       "                <div style='background-color: #4CAF50; height: 100%; border-radius: 20px; width: 0.0%; \n",
       "                            transition: width 0.5s ease; display: flex; align-items: center; justify-content: center;'>\n",
       "                    <span style='color: white; font-weight: bold;'>0.0%</span>\n",
       "                </div>\n",
       "            </div>\n",
       "        <ul style='list-style: none; padding: 0;'>\n",
       "            <li style='margin: 10px 0; padding: 10px; background-color: white; \n",
       "                       border-left: 4px solid #9E9E9E; border-radius: 5px;'>\n",
       "                <span style='font-size: 20px; margin-right: 10px;'>⏳</span>\n",
       "                <strong>test</strong> - <span style='color: #9E9E9E;'>Pending</span>\n",
       "            </li></ul>\n",
       "        <div style='margin-top: 20px; padding-top: 15px; border-top: 1px solid #ddd;'>\n",
       "            <small style='color: #666;'>\n",
       "                Time Elapsed: 0:00:00 | \n",
       "                Steps Completed: 0/1\n",
       "            </small>\n",
       "        </div>\n",
       "        </div>\n",
       "        "
      ],
      "text/plain": [
       "<IPython.core.display.HTML object>"
      ]
     },
     "metadata": {},
     "output_type": "display_data"
    },
    {
     "name": "stdout",
     "output_type": "stream",
     "text": [
      "✅ Module loaded from source!\n",
      "\n",
      "Available features:\n",
      "  ✅ mark_partial with checkpoint_name\n",
      "  ✅ display_analytics_dashboard\n",
      "  ✅ export_analytics_csv\n",
      "  ✅ get_analytics_summary\n"
     ]
    },
    {
     "data": {
      "text/html": [
       "\n",
       "        <div style='background-color: #e7f3ff; border-left: 6px solid #2196F3; \n",
       "                    padding: 10px; margin: 10px 0; border-radius: 5px;'>\n",
       "            <span style='font-size: 16px; margin-right: 8px;'>ℹ️</span>\n",
       "            All analytics features are now available! 🎉\n",
       "            \n",
       "        </div>\n",
       "        "
      ],
      "text/plain": [
       "<IPython.core.display.HTML object>"
      ]
     },
     "metadata": {},
     "output_type": "display_data"
    }
   ],
   "source": [
    "# SOLUTION: Force load from development source\n",
    "import sys\n",
    "import os\n",
    "import inspect\n",
    "\n",
    "# Add the development source to Python path\n",
    "dev_path = \"/Users/michael.lynn/code/mongodb/developer-days/jupyter-utils/jupyter-lab-progress\"\n",
    "if dev_path not in sys.path:\n",
    "    sys.path.insert(0, dev_path)\n",
    "\n",
    "# Remove any cached modules\n",
    "modules_to_remove = [key for key in sys.modules.keys() if key.startswith('jupyter_lab_progress')]\n",
    "for module in modules_to_remove:\n",
    "    del sys.modules[module]\n",
    "\n",
    "# Now import from source\n",
    "from jupyter_lab_progress import LabProgress, show_info, show_warning\n",
    "import time\n",
    "import json\n",
    "import pandas as pd\n",
    "\n",
    "# Verify we have the new methods\n",
    "test_progress = LabProgress(['test'], 'test')\n",
    "methods_check = {\n",
    "    'mark_partial with checkpoint_name': 'checkpoint_name' in inspect.signature(LabProgress.mark_partial).parameters,\n",
    "    'display_analytics_dashboard': hasattr(test_progress, 'display_analytics_dashboard'),\n",
    "    'export_analytics_csv': hasattr(test_progress, 'export_analytics_csv'),\n",
    "    'get_analytics_summary': hasattr(test_progress, 'get_analytics_summary')\n",
    "}\n",
    "\n",
    "print(\"✅ Module loaded from source!\")\n",
    "print(\"\\nAvailable features:\")\n",
    "for feature, available in methods_check.items():\n",
    "    status = \"✅\" if available else \"❌\"\n",
    "    print(f\"  {status} {feature}\")\n",
    "\n",
    "if all(methods_check.values()):\n",
    "    show_info(\"All analytics features are now available! 🎉\")\n",
    "else:\n",
    "    show_warning(\"Some features are still missing. Please check the source code.\")"
   ]
  },
  {
   "cell_type": "markdown",
   "metadata": {},
   "source": [
    "## Setting Up Lab with Analytics\n",
    "\n",
    "Analytics are automatically enabled for all LabProgress instances."
   ]
  },
  {
   "cell_type": "code",
   "execution_count": 2,
   "metadata": {},
   "outputs": [
    {
     "data": {
      "text/html": [
       "\n",
       "        <div style='background-color: #f5f5f5; padding: 20px; border-radius: 10px; margin: 10px 0;'>\n",
       "            <h3 style='color: #333; margin-bottom: 15px;'>Data Science Pipeline Lab Progress</h3>\n",
       "            \n",
       "            <!-- Progress Bar -->\n",
       "            <div style='background-color: #e0e0e0; border-radius: 20px; height: 30px; margin-bottom: 20px;'>\n",
       "                <div style='background-color: #4CAF50; height: 100%; border-radius: 20px; width: 0.0%; \n",
       "                            transition: width 0.5s ease; display: flex; align-items: center; justify-content: center;'>\n",
       "                    <span style='color: white; font-weight: bold;'>0.0%</span>\n",
       "                </div>\n",
       "            </div>\n",
       "        <ul style='list-style: none; padding: 0;'>\n",
       "            <li style='margin: 10px 0; padding: 10px; background-color: white; \n",
       "                       border-left: 4px solid #9E9E9E; border-radius: 5px;'>\n",
       "                <span style='font-size: 20px; margin-right: 10px;'>⏳</span>\n",
       "                <strong>Environment Setup</strong> - <span style='color: #9E9E9E;'>Pending</span>\n",
       "            </li>\n",
       "            <li style='margin: 10px 0; padding: 10px; background-color: white; \n",
       "                       border-left: 4px solid #9E9E9E; border-radius: 5px;'>\n",
       "                <span style='font-size: 20px; margin-right: 10px;'>⏳</span>\n",
       "                <strong>Data Import</strong> - <span style='color: #9E9E9E;'>Pending</span>\n",
       "            </li>\n",
       "            <li style='margin: 10px 0; padding: 10px; background-color: white; \n",
       "                       border-left: 4px solid #9E9E9E; border-radius: 5px;'>\n",
       "                <span style='font-size: 20px; margin-right: 10px;'>⏳</span>\n",
       "                <strong>Data Cleaning</strong> - <span style='color: #9E9E9E;'>Pending</span>\n",
       "            </li>\n",
       "            <li style='margin: 10px 0; padding: 10px; background-color: white; \n",
       "                       border-left: 4px solid #9E9E9E; border-radius: 5px;'>\n",
       "                <span style='font-size: 20px; margin-right: 10px;'>⏳</span>\n",
       "                <strong>Feature Engineering</strong> - <span style='color: #9E9E9E;'>Pending</span>\n",
       "            </li>\n",
       "            <li style='margin: 10px 0; padding: 10px; background-color: white; \n",
       "                       border-left: 4px solid #9E9E9E; border-radius: 5px;'>\n",
       "                <span style='font-size: 20px; margin-right: 10px;'>⏳</span>\n",
       "                <strong>Model Building</strong> - <span style='color: #9E9E9E;'>Pending</span>\n",
       "            </li>\n",
       "            <li style='margin: 10px 0; padding: 10px; background-color: white; \n",
       "                       border-left: 4px solid #9E9E9E; border-radius: 5px;'>\n",
       "                <span style='font-size: 20px; margin-right: 10px;'>⏳</span>\n",
       "                <strong>Model Evaluation</strong> - <span style='color: #9E9E9E;'>Pending</span>\n",
       "            </li></ul>\n",
       "        <div style='margin-top: 20px; padding-top: 15px; border-top: 1px solid #ddd;'>\n",
       "            <small style='color: #666;'>\n",
       "                Time Elapsed: 0:00:00 | \n",
       "                Steps Completed: 0/6\n",
       "            </small>\n",
       "        </div>\n",
       "        </div>\n",
       "        "
      ],
      "text/plain": [
       "<IPython.core.display.HTML object>"
      ]
     },
     "metadata": {},
     "output_type": "display_data"
    },
    {
     "data": {
      "text/html": [
       "\n",
       "        <div style='background-color: #e7f3ff; border-left: 6px solid #2196F3; \n",
       "                    padding: 10px; margin: 10px 0; border-radius: 5px;'>\n",
       "            <span style='font-size: 16px; margin-right: 8px;'>ℹ️</span>\n",
       "            Lab created with student ID: 5530bd28\n",
       "            \n",
       "        </div>\n",
       "        "
      ],
      "text/plain": [
       "<IPython.core.display.HTML object>"
      ]
     },
     "metadata": {},
     "output_type": "display_data"
    },
    {
     "data": {
      "text/html": [
       "\n",
       "        <div style='background-color: #e7f3ff; border-left: 6px solid #2196F3; \n",
       "                    padding: 10px; margin: 10px 0; border-radius: 5px;'>\n",
       "            <span style='font-size: 16px; margin-right: 8px;'>ℹ️</span>\n",
       "            Session ID: 2025-07-11T10:34:34....\n",
       "            \n",
       "        </div>\n",
       "        "
      ],
      "text/plain": [
       "<IPython.core.display.HTML object>"
      ]
     },
     "metadata": {},
     "output_type": "display_data"
    }
   ],
   "source": [
    "# Create a lab - analytics tracking is automatic\n",
    "progress = LabProgress(\n",
    "    steps=[\n",
    "        \"Environment Setup\",\n",
    "        \"Data Import\",\n",
    "        \"Data Cleaning\",\n",
    "        \"Feature Engineering\",\n",
    "        \"Model Building\",\n",
    "        \"Model Evaluation\"\n",
    "    ],\n",
    "    lab_name=\"Data Science Pipeline Lab\",\n",
    "    persist=True  # Enable persistence to save analytics\n",
    ")\n",
    "\n",
    "# Show analytics info with error handling\n",
    "try:\n",
    "    show_info(f\"Lab created with student ID: {progress._student_id}\")\n",
    "    show_info(f\"Session ID: {progress._session_id[:20]}...\")\n",
    "except AttributeError as e:\n",
    "    show_warning(f\"Analytics attributes not fully initialized: {e}\")\n",
    "    show_info(\"Lab created successfully - analytics will be available after first interaction\")"
   ]
  },
  {
   "cell_type": "markdown",
   "metadata": {},
   "source": [
    "## Simulating Student Progress\n",
    "\n",
    "Let's simulate a student working through the lab with various patterns."
   ]
  },
  {
   "cell_type": "code",
   "execution_count": 3,
   "metadata": {},
   "outputs": [
    {
     "data": {
      "text/html": [
       "\n",
       "        <div style='background-color: #f5f5f5; padding: 20px; border-radius: 10px; margin: 10px 0;'>\n",
       "            <h3 style='color: #333; margin-bottom: 15px;'>Data Science Pipeline Lab Progress</h3>\n",
       "            \n",
       "            <!-- Progress Bar -->\n",
       "            <div style='background-color: #e0e0e0; border-radius: 20px; height: 30px; margin-bottom: 20px;'>\n",
       "                <div style='background-color: #4CAF50; height: 100%; border-radius: 20px; width: 16.666666666666664%; \n",
       "                            transition: width 0.5s ease; display: flex; align-items: center; justify-content: center;'>\n",
       "                    <span style='color: white; font-weight: bold;'>16.7%</span>\n",
       "                </div>\n",
       "            </div>\n",
       "        <p style='color: #666;'>Average Score: 100.0/100</p><ul style='list-style: none; padding: 0;'>\n",
       "            <li style='margin: 10px 0; padding: 10px; background-color: white; \n",
       "                       border-left: 4px solid #4CAF50; border-radius: 5px;'>\n",
       "                <span style='font-size: 20px; margin-right: 10px;'>✅</span>\n",
       "                <strong>Environment Setup</strong> - <span style='color: #4CAF50;'>Completed</span>\n",
       "            </li>\n",
       "            <li style='margin: 10px 0; padding: 10px; background-color: white; \n",
       "                       border-left: 4px solid #9E9E9E; border-radius: 5px;'>\n",
       "                <span style='font-size: 20px; margin-right: 10px;'>⏳</span>\n",
       "                <strong>Data Import</strong> - <span style='color: #9E9E9E;'>Pending</span>\n",
       "            </li>\n",
       "            <li style='margin: 10px 0; padding: 10px; background-color: white; \n",
       "                       border-left: 4px solid #9E9E9E; border-radius: 5px;'>\n",
       "                <span style='font-size: 20px; margin-right: 10px;'>⏳</span>\n",
       "                <strong>Data Cleaning</strong> - <span style='color: #9E9E9E;'>Pending</span>\n",
       "            </li>\n",
       "            <li style='margin: 10px 0; padding: 10px; background-color: white; \n",
       "                       border-left: 4px solid #9E9E9E; border-radius: 5px;'>\n",
       "                <span style='font-size: 20px; margin-right: 10px;'>⏳</span>\n",
       "                <strong>Feature Engineering</strong> - <span style='color: #9E9E9E;'>Pending</span>\n",
       "            </li>\n",
       "            <li style='margin: 10px 0; padding: 10px; background-color: white; \n",
       "                       border-left: 4px solid #9E9E9E; border-radius: 5px;'>\n",
       "                <span style='font-size: 20px; margin-right: 10px;'>⏳</span>\n",
       "                <strong>Model Building</strong> - <span style='color: #9E9E9E;'>Pending</span>\n",
       "            </li>\n",
       "            <li style='margin: 10px 0; padding: 10px; background-color: white; \n",
       "                       border-left: 4px solid #9E9E9E; border-radius: 5px;'>\n",
       "                <span style='font-size: 20px; margin-right: 10px;'>⏳</span>\n",
       "                <strong>Model Evaluation</strong> - <span style='color: #9E9E9E;'>Pending</span>\n",
       "            </li></ul>\n",
       "        <div style='margin-top: 20px; padding-top: 15px; border-top: 1px solid #ddd;'>\n",
       "            <small style='color: #666;'>\n",
       "                Time Elapsed: 0:00:08 | \n",
       "                Steps Completed: 1/6\n",
       "            </small>\n",
       "        </div>\n",
       "        </div>\n",
       "        "
      ],
      "text/plain": [
       "<IPython.core.display.HTML object>"
      ]
     },
     "metadata": {},
     "output_type": "display_data"
    },
    {
     "data": {
      "text/html": [
       "\n",
       "        <div style='background-color: #e7f3ff; border-left: 6px solid #2196F3; \n",
       "                    padding: 10px; margin: 10px 0; border-radius: 5px;'>\n",
       "            <span style='font-size: 16px; margin-right: 8px;'>ℹ️</span>\n",
       "            Environment setup completed quickly!\n",
       "            \n",
       "        </div>\n",
       "        "
      ],
      "text/plain": [
       "<IPython.core.display.HTML object>"
      ]
     },
     "metadata": {},
     "output_type": "display_data"
    }
   ],
   "source": [
    "# Step 1: Quick completion\n",
    "progress.mark_done(\"Environment Setup\", score=100)\n",
    "show_info(\"Environment setup completed quickly!\")\n",
    "time.sleep(1)  # Small delay to show time progression"
   ]
  },
  {
   "cell_type": "code",
   "execution_count": 4,
   "metadata": {},
   "outputs": [
    {
     "data": {
      "text/html": [
       "\n",
       "        <div style='background-color: #f5f5f5; padding: 20px; border-radius: 10px; margin: 10px 0;'>\n",
       "            <h3 style='color: #333; margin-bottom: 15px;'>Data Science Pipeline Lab Progress</h3>\n",
       "            \n",
       "            <!-- Progress Bar -->\n",
       "            <div style='background-color: #e0e0e0; border-radius: 20px; height: 30px; margin-bottom: 20px;'>\n",
       "                <div style='background-color: #4CAF50; height: 100%; border-radius: 20px; width: 16.666666666666664%; \n",
       "                            transition: width 0.5s ease; display: flex; align-items: center; justify-content: center;'>\n",
       "                    <span style='color: white; font-weight: bold;'>16.7%</span>\n",
       "                </div>\n",
       "            </div>\n",
       "        <p style='color: #666;'>Average Score: 100.0/100</p><ul style='list-style: none; padding: 0;'>\n",
       "            <li style='margin: 10px 0; padding: 10px; background-color: white; \n",
       "                       border-left: 4px solid #4CAF50; border-radius: 5px;'>\n",
       "                <span style='font-size: 20px; margin-right: 10px;'>✅</span>\n",
       "                <strong>Environment Setup</strong> - <span style='color: #4CAF50;'>Completed</span>\n",
       "            </li>\n",
       "            <li style='margin: 10px 0; padding: 10px; background-color: white; \n",
       "                       border-left: 4px solid #FF9800; border-radius: 5px;'>\n",
       "                <span style='font-size: 20px; margin-right: 10px;'>🔄</span>\n",
       "                <strong>Data Import</strong> - <span style='color: #FF9800;'>30% Complete</span>\n",
       "            </li>\n",
       "            <li style='margin: 10px 0; padding: 10px; background-color: white; \n",
       "                       border-left: 4px solid #9E9E9E; border-radius: 5px;'>\n",
       "                <span style='font-size: 20px; margin-right: 10px;'>⏳</span>\n",
       "                <strong>Data Cleaning</strong> - <span style='color: #9E9E9E;'>Pending</span>\n",
       "            </li>\n",
       "            <li style='margin: 10px 0; padding: 10px; background-color: white; \n",
       "                       border-left: 4px solid #9E9E9E; border-radius: 5px;'>\n",
       "                <span style='font-size: 20px; margin-right: 10px;'>⏳</span>\n",
       "                <strong>Feature Engineering</strong> - <span style='color: #9E9E9E;'>Pending</span>\n",
       "            </li>\n",
       "            <li style='margin: 10px 0; padding: 10px; background-color: white; \n",
       "                       border-left: 4px solid #9E9E9E; border-radius: 5px;'>\n",
       "                <span style='font-size: 20px; margin-right: 10px;'>⏳</span>\n",
       "                <strong>Model Building</strong> - <span style='color: #9E9E9E;'>Pending</span>\n",
       "            </li>\n",
       "            <li style='margin: 10px 0; padding: 10px; background-color: white; \n",
       "                       border-left: 4px solid #9E9E9E; border-radius: 5px;'>\n",
       "                <span style='font-size: 20px; margin-right: 10px;'>⏳</span>\n",
       "                <strong>Model Evaluation</strong> - <span style='color: #9E9E9E;'>Pending</span>\n",
       "            </li></ul>\n",
       "        <div style='margin-top: 20px; padding-top: 15px; border-top: 1px solid #ddd;'>\n",
       "            <small style='color: #666;'>\n",
       "                Time Elapsed: 0:00:16 | \n",
       "                Steps Completed: 1/6\n",
       "            </small>\n",
       "        </div>\n",
       "        </div>\n",
       "        "
      ],
      "text/plain": [
       "<IPython.core.display.HTML object>"
      ]
     },
     "metadata": {},
     "output_type": "display_data"
    },
    {
     "data": {
      "text/html": [
       "\n",
       "        <div style='background-color: #f5f5f5; padding: 20px; border-radius: 10px; margin: 10px 0;'>\n",
       "            <h3 style='color: #333; margin-bottom: 15px;'>Data Science Pipeline Lab Progress</h3>\n",
       "            \n",
       "            <!-- Progress Bar -->\n",
       "            <div style='background-color: #e0e0e0; border-radius: 20px; height: 30px; margin-bottom: 20px;'>\n",
       "                <div style='background-color: #4CAF50; height: 100%; border-radius: 20px; width: 16.666666666666664%; \n",
       "                            transition: width 0.5s ease; display: flex; align-items: center; justify-content: center;'>\n",
       "                    <span style='color: white; font-weight: bold;'>16.7%</span>\n",
       "                </div>\n",
       "            </div>\n",
       "        <p style='color: #666;'>Average Score: 100.0/100</p><ul style='list-style: none; padding: 0;'>\n",
       "            <li style='margin: 10px 0; padding: 10px; background-color: white; \n",
       "                       border-left: 4px solid #4CAF50; border-radius: 5px;'>\n",
       "                <span style='font-size: 20px; margin-right: 10px;'>✅</span>\n",
       "                <strong>Environment Setup</strong> - <span style='color: #4CAF50;'>Completed</span>\n",
       "            </li>\n",
       "            <li style='margin: 10px 0; padding: 10px; background-color: white; \n",
       "                       border-left: 4px solid #FF9800; border-radius: 5px;'>\n",
       "                <span style='font-size: 20px; margin-right: 10px;'>🔄</span>\n",
       "                <strong>Data Import</strong> - <span style='color: #FF9800;'>70% Complete</span>\n",
       "            </li>\n",
       "            <li style='margin: 10px 0; padding: 10px; background-color: white; \n",
       "                       border-left: 4px solid #9E9E9E; border-radius: 5px;'>\n",
       "                <span style='font-size: 20px; margin-right: 10px;'>⏳</span>\n",
       "                <strong>Data Cleaning</strong> - <span style='color: #9E9E9E;'>Pending</span>\n",
       "            </li>\n",
       "            <li style='margin: 10px 0; padding: 10px; background-color: white; \n",
       "                       border-left: 4px solid #9E9E9E; border-radius: 5px;'>\n",
       "                <span style='font-size: 20px; margin-right: 10px;'>⏳</span>\n",
       "                <strong>Feature Engineering</strong> - <span style='color: #9E9E9E;'>Pending</span>\n",
       "            </li>\n",
       "            <li style='margin: 10px 0; padding: 10px; background-color: white; \n",
       "                       border-left: 4px solid #9E9E9E; border-radius: 5px;'>\n",
       "                <span style='font-size: 20px; margin-right: 10px;'>⏳</span>\n",
       "                <strong>Model Building</strong> - <span style='color: #9E9E9E;'>Pending</span>\n",
       "            </li>\n",
       "            <li style='margin: 10px 0; padding: 10px; background-color: white; \n",
       "                       border-left: 4px solid #9E9E9E; border-radius: 5px;'>\n",
       "                <span style='font-size: 20px; margin-right: 10px;'>⏳</span>\n",
       "                <strong>Model Evaluation</strong> - <span style='color: #9E9E9E;'>Pending</span>\n",
       "            </li></ul>\n",
       "        <div style='margin-top: 20px; padding-top: 15px; border-top: 1px solid #ddd;'>\n",
       "            <small style='color: #666;'>\n",
       "                Time Elapsed: 0:00:17 | \n",
       "                Steps Completed: 1/6\n",
       "            </small>\n",
       "        </div>\n",
       "        </div>\n",
       "        "
      ],
      "text/plain": [
       "<IPython.core.display.HTML object>"
      ]
     },
     "metadata": {},
     "output_type": "display_data"
    },
    {
     "data": {
      "text/html": [
       "\n",
       "        <div style='background-color: #f5f5f5; padding: 20px; border-radius: 10px; margin: 10px 0;'>\n",
       "            <h3 style='color: #333; margin-bottom: 15px;'>Data Science Pipeline Lab Progress</h3>\n",
       "            \n",
       "            <!-- Progress Bar -->\n",
       "            <div style='background-color: #e0e0e0; border-radius: 20px; height: 30px; margin-bottom: 20px;'>\n",
       "                <div style='background-color: #4CAF50; height: 100%; border-radius: 20px; width: 33.33333333333333%; \n",
       "                            transition: width 0.5s ease; display: flex; align-items: center; justify-content: center;'>\n",
       "                    <span style='color: white; font-weight: bold;'>33.3%</span>\n",
       "                </div>\n",
       "            </div>\n",
       "        <p style='color: #666;'>Average Score: 97.5/100</p><ul style='list-style: none; padding: 0;'>\n",
       "            <li style='margin: 10px 0; padding: 10px; background-color: white; \n",
       "                       border-left: 4px solid #4CAF50; border-radius: 5px;'>\n",
       "                <span style='font-size: 20px; margin-right: 10px;'>✅</span>\n",
       "                <strong>Environment Setup</strong> - <span style='color: #4CAF50;'>Completed</span>\n",
       "            </li>\n",
       "            <li style='margin: 10px 0; padding: 10px; background-color: white; \n",
       "                       border-left: 4px solid #4CAF50; border-radius: 5px;'>\n",
       "                <span style='font-size: 20px; margin-right: 10px;'>✅</span>\n",
       "                <strong>Data Import</strong> - <span style='color: #4CAF50;'>Completed</span>\n",
       "            </li>\n",
       "            <li style='margin: 10px 0; padding: 10px; background-color: white; \n",
       "                       border-left: 4px solid #9E9E9E; border-radius: 5px;'>\n",
       "                <span style='font-size: 20px; margin-right: 10px;'>⏳</span>\n",
       "                <strong>Data Cleaning</strong> - <span style='color: #9E9E9E;'>Pending</span>\n",
       "            </li>\n",
       "            <li style='margin: 10px 0; padding: 10px; background-color: white; \n",
       "                       border-left: 4px solid #9E9E9E; border-radius: 5px;'>\n",
       "                <span style='font-size: 20px; margin-right: 10px;'>⏳</span>\n",
       "                <strong>Feature Engineering</strong> - <span style='color: #9E9E9E;'>Pending</span>\n",
       "            </li>\n",
       "            <li style='margin: 10px 0; padding: 10px; background-color: white; \n",
       "                       border-left: 4px solid #9E9E9E; border-radius: 5px;'>\n",
       "                <span style='font-size: 20px; margin-right: 10px;'>⏳</span>\n",
       "                <strong>Model Building</strong> - <span style='color: #9E9E9E;'>Pending</span>\n",
       "            </li>\n",
       "            <li style='margin: 10px 0; padding: 10px; background-color: white; \n",
       "                       border-left: 4px solid #9E9E9E; border-radius: 5px;'>\n",
       "                <span style='font-size: 20px; margin-right: 10px;'>⏳</span>\n",
       "                <strong>Model Evaluation</strong> - <span style='color: #9E9E9E;'>Pending</span>\n",
       "            </li></ul>\n",
       "        <div style='margin-top: 20px; padding-top: 15px; border-top: 1px solid #ddd;'>\n",
       "            <small style='color: #666;'>\n",
       "                Time Elapsed: 0:00:18 | \n",
       "                Steps Completed: 2/6\n",
       "            </small>\n",
       "        </div>\n",
       "        </div>\n",
       "        "
      ],
      "text/plain": [
       "<IPython.core.display.HTML object>"
      ]
     },
     "metadata": {},
     "output_type": "display_data"
    },
    {
     "data": {
      "text/html": [
       "\n",
       "        <div style='background-color: #e7f3ff; border-left: 6px solid #2196F3; \n",
       "                    padding: 10px; margin: 10px 0; border-radius: 5px;'>\n",
       "            <span style='font-size: 16px; margin-right: 8px;'>ℹ️</span>\n",
       "            Data import completed with checkpoints!\n",
       "            \n",
       "        </div>\n",
       "        "
      ],
      "text/plain": [
       "<IPython.core.display.HTML object>"
      ]
     },
     "metadata": {},
     "output_type": "display_data"
    }
   ],
   "source": [
    "# Step 2: Gradual progress with checkpoints\n",
    "# Workaround for checkpoint_name parameter issue\n",
    "\n",
    "# Check if the method accepts checkpoint_name\n",
    "import inspect\n",
    "sig = inspect.signature(progress.mark_partial)\n",
    "has_checkpoint_param = 'checkpoint_name' in sig.parameters\n",
    "\n",
    "if has_checkpoint_param:\n",
    "    # Use the new signature with checkpoints\n",
    "    progress.mark_partial(\"Data Import\", 0.3, \"Started loading CSV files\", checkpoint_name=\"csv_started\")\n",
    "    time.sleep(1)\n",
    "    progress.mark_partial(\"Data Import\", 0.7, \"Loaded main dataset\", checkpoint_name=\"main_loaded\")\n",
    "else:\n",
    "    # Fallback to old signature without checkpoints\n",
    "    show_warning(\"Using fallback mode without checkpoint names - please restart kernel for full functionality\")\n",
    "    progress.mark_partial(\"Data Import\", 0.3, \"Started loading CSV files\")\n",
    "    time.sleep(1)\n",
    "    progress.mark_partial(\"Data Import\", 0.7, \"Loaded main dataset\")\n",
    "\n",
    "time.sleep(1)\n",
    "progress.mark_done(\"Data Import\", score=95)\n",
    "show_info(\"Data import completed with checkpoints!\")"
   ]
  },
  {
   "cell_type": "code",
   "execution_count": 5,
   "metadata": {},
   "outputs": [
    {
     "data": {
      "text/html": [
       "\n",
       "        <div style='background-color: #f5f5f5; padding: 20px; border-radius: 10px; margin: 10px 0;'>\n",
       "            <h3 style='color: #333; margin-bottom: 15px;'>Data Science Pipeline Lab Progress</h3>\n",
       "            \n",
       "            <!-- Progress Bar -->\n",
       "            <div style='background-color: #e0e0e0; border-radius: 20px; height: 30px; margin-bottom: 20px;'>\n",
       "                <div style='background-color: #4CAF50; height: 100%; border-radius: 20px; width: 33.33333333333333%; \n",
       "                            transition: width 0.5s ease; display: flex; align-items: center; justify-content: center;'>\n",
       "                    <span style='color: white; font-weight: bold;'>33.3%</span>\n",
       "                </div>\n",
       "            </div>\n",
       "        <p style='color: #666;'>Average Score: 97.5/100</p><ul style='list-style: none; padding: 0;'>\n",
       "            <li style='margin: 10px 0; padding: 10px; background-color: white; \n",
       "                       border-left: 4px solid #4CAF50; border-radius: 5px;'>\n",
       "                <span style='font-size: 20px; margin-right: 10px;'>✅</span>\n",
       "                <strong>Environment Setup</strong> - <span style='color: #4CAF50;'>Completed</span>\n",
       "            </li>\n",
       "            <li style='margin: 10px 0; padding: 10px; background-color: white; \n",
       "                       border-left: 4px solid #4CAF50; border-radius: 5px;'>\n",
       "                <span style='font-size: 20px; margin-right: 10px;'>✅</span>\n",
       "                <strong>Data Import</strong> - <span style='color: #4CAF50;'>Completed</span>\n",
       "            </li>\n",
       "            <li style='margin: 10px 0; padding: 10px; background-color: white; \n",
       "                       border-left: 4px solid #FF9800; border-radius: 5px;'>\n",
       "                <span style='font-size: 20px; margin-right: 10px;'>🔄</span>\n",
       "                <strong>Data Cleaning</strong> - <span style='color: #FF9800;'>40% Complete</span>\n",
       "            </li>\n",
       "            <li style='margin: 10px 0; padding: 10px; background-color: white; \n",
       "                       border-left: 4px solid #9E9E9E; border-radius: 5px;'>\n",
       "                <span style='font-size: 20px; margin-right: 10px;'>⏳</span>\n",
       "                <strong>Feature Engineering</strong> - <span style='color: #9E9E9E;'>Pending</span>\n",
       "            </li>\n",
       "            <li style='margin: 10px 0; padding: 10px; background-color: white; \n",
       "                       border-left: 4px solid #9E9E9E; border-radius: 5px;'>\n",
       "                <span style='font-size: 20px; margin-right: 10px;'>⏳</span>\n",
       "                <strong>Model Building</strong> - <span style='color: #9E9E9E;'>Pending</span>\n",
       "            </li>\n",
       "            <li style='margin: 10px 0; padding: 10px; background-color: white; \n",
       "                       border-left: 4px solid #9E9E9E; border-radius: 5px;'>\n",
       "                <span style='font-size: 20px; margin-right: 10px;'>⏳</span>\n",
       "                <strong>Model Evaluation</strong> - <span style='color: #9E9E9E;'>Pending</span>\n",
       "            </li></ul>\n",
       "        <div style='margin-top: 20px; padding-top: 15px; border-top: 1px solid #ddd;'>\n",
       "            <small style='color: #666;'>\n",
       "                Time Elapsed: 0:00:24 | \n",
       "                Steps Completed: 2/6\n",
       "            </small>\n",
       "        </div>\n",
       "        </div>\n",
       "        "
      ],
      "text/plain": [
       "<IPython.core.display.HTML object>"
      ]
     },
     "metadata": {},
     "output_type": "display_data"
    },
    {
     "data": {
      "text/html": [
       "\n",
       "        <div style='background-color: #f5f5f5; padding: 20px; border-radius: 10px; margin: 10px 0;'>\n",
       "            <h3 style='color: #333; margin-bottom: 15px;'>Data Science Pipeline Lab Progress</h3>\n",
       "            \n",
       "            <!-- Progress Bar -->\n",
       "            <div style='background-color: #e0e0e0; border-radius: 20px; height: 30px; margin-bottom: 20px;'>\n",
       "                <div style='background-color: #4CAF50; height: 100%; border-radius: 20px; width: 50.0%; \n",
       "                            transition: width 0.5s ease; display: flex; align-items: center; justify-content: center;'>\n",
       "                    <span style='color: white; font-weight: bold;'>50.0%</span>\n",
       "                </div>\n",
       "            </div>\n",
       "        <p style='color: #666;'>Average Score: 93.3/100</p><ul style='list-style: none; padding: 0;'>\n",
       "            <li style='margin: 10px 0; padding: 10px; background-color: white; \n",
       "                       border-left: 4px solid #4CAF50; border-radius: 5px;'>\n",
       "                <span style='font-size: 20px; margin-right: 10px;'>✅</span>\n",
       "                <strong>Environment Setup</strong> - <span style='color: #4CAF50;'>Completed</span>\n",
       "            </li>\n",
       "            <li style='margin: 10px 0; padding: 10px; background-color: white; \n",
       "                       border-left: 4px solid #4CAF50; border-radius: 5px;'>\n",
       "                <span style='font-size: 20px; margin-right: 10px;'>✅</span>\n",
       "                <strong>Data Import</strong> - <span style='color: #4CAF50;'>Completed</span>\n",
       "            </li>\n",
       "            <li style='margin: 10px 0; padding: 10px; background-color: white; \n",
       "                       border-left: 4px solid #4CAF50; border-radius: 5px;'>\n",
       "                <span style='font-size: 20px; margin-right: 10px;'>✅</span>\n",
       "                <strong>Data Cleaning</strong> - <span style='color: #4CAF50;'>Completed</span>\n",
       "            </li>\n",
       "            <li style='margin: 10px 0; padding: 10px; background-color: white; \n",
       "                       border-left: 4px solid #9E9E9E; border-radius: 5px;'>\n",
       "                <span style='font-size: 20px; margin-right: 10px;'>⏳</span>\n",
       "                <strong>Feature Engineering</strong> - <span style='color: #9E9E9E;'>Pending</span>\n",
       "            </li>\n",
       "            <li style='margin: 10px 0; padding: 10px; background-color: white; \n",
       "                       border-left: 4px solid #9E9E9E; border-radius: 5px;'>\n",
       "                <span style='font-size: 20px; margin-right: 10px;'>⏳</span>\n",
       "                <strong>Model Building</strong> - <span style='color: #9E9E9E;'>Pending</span>\n",
       "            </li>\n",
       "            <li style='margin: 10px 0; padding: 10px; background-color: white; \n",
       "                       border-left: 4px solid #9E9E9E; border-radius: 5px;'>\n",
       "                <span style='font-size: 20px; margin-right: 10px;'>⏳</span>\n",
       "                <strong>Model Evaluation</strong> - <span style='color: #9E9E9E;'>Pending</span>\n",
       "            </li></ul>\n",
       "        <div style='margin-top: 20px; padding-top: 15px; border-top: 1px solid #ddd;'>\n",
       "            <small style='color: #666;'>\n",
       "                Time Elapsed: 0:00:25 | \n",
       "                Steps Completed: 3/6\n",
       "            </small>\n",
       "        </div>\n",
       "        </div>\n",
       "        "
      ],
      "text/plain": [
       "<IPython.core.display.HTML object>"
      ]
     },
     "metadata": {},
     "output_type": "display_data"
    },
    {
     "data": {
      "text/html": [
       "\n",
       "        <div style='background-color: #e7f3ff; border-left: 6px solid #2196F3; \n",
       "                    padding: 10px; margin: 10px 0; border-radius: 5px;'>\n",
       "            <span style='font-size: 16px; margin-right: 8px;'>ℹ️</span>\n",
       "            Data cleaning completed after multiple attempts\n",
       "            \n",
       "        </div>\n",
       "        "
      ],
      "text/plain": [
       "<IPython.core.display.HTML object>"
      ]
     },
     "metadata": {},
     "output_type": "display_data"
    }
   ],
   "source": [
    "# Step 3: Multiple attempts (student struggling)\n",
    "progress.increment_attempts(\"Data Cleaning\")\n",
    "time.sleep(0.5)\n",
    "progress.increment_attempts(\"Data Cleaning\")\n",
    "time.sleep(0.5)\n",
    "progress.mark_partial(\"Data Cleaning\", 0.4, \"Fixed missing values\")\n",
    "time.sleep(1)\n",
    "progress.increment_attempts(\"Data Cleaning\")\n",
    "progress.mark_done(\"Data Cleaning\", score=85)\n",
    "show_info(\"Data cleaning completed after multiple attempts\")"
   ]
  },
  {
   "cell_type": "code",
   "execution_count": 6,
   "metadata": {},
   "outputs": [
    {
     "data": {
      "text/html": [
       "\n",
       "        <div style='background-color: #f5f5f5; padding: 20px; border-radius: 10px; margin: 10px 0;'>\n",
       "            <h3 style='color: #333; margin-bottom: 15px;'>Data Science Pipeline Lab Progress</h3>\n",
       "            \n",
       "            <!-- Progress Bar -->\n",
       "            <div style='background-color: #e0e0e0; border-radius: 20px; height: 30px; margin-bottom: 20px;'>\n",
       "                <div style='background-color: #4CAF50; height: 100%; border-radius: 20px; width: 50.0%; \n",
       "                            transition: width 0.5s ease; display: flex; align-items: center; justify-content: center;'>\n",
       "                    <span style='color: white; font-weight: bold;'>50.0%</span>\n",
       "                </div>\n",
       "            </div>\n",
       "        <p style='color: #666;'>Average Score: 93.3/100</p><ul style='list-style: none; padding: 0;'>\n",
       "            <li style='margin: 10px 0; padding: 10px; background-color: white; \n",
       "                       border-left: 4px solid #4CAF50; border-radius: 5px;'>\n",
       "                <span style='font-size: 20px; margin-right: 10px;'>✅</span>\n",
       "                <strong>Environment Setup</strong> - <span style='color: #4CAF50;'>Completed</span>\n",
       "            </li>\n",
       "            <li style='margin: 10px 0; padding: 10px; background-color: white; \n",
       "                       border-left: 4px solid #4CAF50; border-radius: 5px;'>\n",
       "                <span style='font-size: 20px; margin-right: 10px;'>✅</span>\n",
       "                <strong>Data Import</strong> - <span style='color: #4CAF50;'>Completed</span>\n",
       "            </li>\n",
       "            <li style='margin: 10px 0; padding: 10px; background-color: white; \n",
       "                       border-left: 4px solid #4CAF50; border-radius: 5px;'>\n",
       "                <span style='font-size: 20px; margin-right: 10px;'>✅</span>\n",
       "                <strong>Data Cleaning</strong> - <span style='color: #4CAF50;'>Completed</span>\n",
       "            </li>\n",
       "            <li style='margin: 10px 0; padding: 10px; background-color: white; \n",
       "                       border-left: 4px solid #FF9800; border-radius: 5px;'>\n",
       "                <span style='font-size: 20px; margin-right: 10px;'>🔄</span>\n",
       "                <strong>Feature Engineering</strong> - <span style='color: #FF9800;'>50% Complete</span>\n",
       "            </li>\n",
       "            <li style='margin: 10px 0; padding: 10px; background-color: white; \n",
       "                       border-left: 4px solid #9E9E9E; border-radius: 5px;'>\n",
       "                <span style='font-size: 20px; margin-right: 10px;'>⏳</span>\n",
       "                <strong>Model Building</strong> - <span style='color: #9E9E9E;'>Pending</span>\n",
       "            </li>\n",
       "            <li style='margin: 10px 0; padding: 10px; background-color: white; \n",
       "                       border-left: 4px solid #9E9E9E; border-radius: 5px;'>\n",
       "                <span style='font-size: 20px; margin-right: 10px;'>⏳</span>\n",
       "                <strong>Model Evaluation</strong> - <span style='color: #9E9E9E;'>Pending</span>\n",
       "            </li></ul>\n",
       "        <div style='margin-top: 20px; padding-top: 15px; border-top: 1px solid #ddd;'>\n",
       "            <small style='color: #666;'>\n",
       "                Time Elapsed: 0:00:30 | \n",
       "                Steps Completed: 3/6\n",
       "            </small>\n",
       "        </div>\n",
       "        </div>\n",
       "        "
      ],
      "text/plain": [
       "<IPython.core.display.HTML object>"
      ]
     },
     "metadata": {},
     "output_type": "display_data"
    },
    {
     "data": {
      "text/html": [
       "\n",
       "        <div style='background-color: #f5f5f5; padding: 20px; border-radius: 10px; margin: 10px 0;'>\n",
       "            <h3 style='color: #333; margin-bottom: 15px;'>Data Science Pipeline Lab Progress</h3>\n",
       "            \n",
       "            <!-- Progress Bar -->\n",
       "            <div style='background-color: #e0e0e0; border-radius: 20px; height: 30px; margin-bottom: 20px;'>\n",
       "                <div style='background-color: #4CAF50; height: 100%; border-radius: 20px; width: 66.66666666666666%; \n",
       "                            transition: width 0.5s ease; display: flex; align-items: center; justify-content: center;'>\n",
       "                    <span style='color: white; font-weight: bold;'>66.7%</span>\n",
       "                </div>\n",
       "            </div>\n",
       "        <p style='color: #666;'>Average Score: 93.0/100</p><ul style='list-style: none; padding: 0;'>\n",
       "            <li style='margin: 10px 0; padding: 10px; background-color: white; \n",
       "                       border-left: 4px solid #4CAF50; border-radius: 5px;'>\n",
       "                <span style='font-size: 20px; margin-right: 10px;'>✅</span>\n",
       "                <strong>Environment Setup</strong> - <span style='color: #4CAF50;'>Completed</span>\n",
       "            </li>\n",
       "            <li style='margin: 10px 0; padding: 10px; background-color: white; \n",
       "                       border-left: 4px solid #4CAF50; border-radius: 5px;'>\n",
       "                <span style='font-size: 20px; margin-right: 10px;'>✅</span>\n",
       "                <strong>Data Import</strong> - <span style='color: #4CAF50;'>Completed</span>\n",
       "            </li>\n",
       "            <li style='margin: 10px 0; padding: 10px; background-color: white; \n",
       "                       border-left: 4px solid #4CAF50; border-radius: 5px;'>\n",
       "                <span style='font-size: 20px; margin-right: 10px;'>✅</span>\n",
       "                <strong>Data Cleaning</strong> - <span style='color: #4CAF50;'>Completed</span>\n",
       "            </li>\n",
       "            <li style='margin: 10px 0; padding: 10px; background-color: white; \n",
       "                       border-left: 4px solid #4CAF50; border-radius: 5px;'>\n",
       "                <span style='font-size: 20px; margin-right: 10px;'>✅</span>\n",
       "                <strong>Feature Engineering</strong> - <span style='color: #4CAF50;'>Completed</span>\n",
       "            </li>\n",
       "            <li style='margin: 10px 0; padding: 10px; background-color: white; \n",
       "                       border-left: 4px solid #9E9E9E; border-radius: 5px;'>\n",
       "                <span style='font-size: 20px; margin-right: 10px;'>⏳</span>\n",
       "                <strong>Model Building</strong> - <span style='color: #9E9E9E;'>Pending</span>\n",
       "            </li>\n",
       "            <li style='margin: 10px 0; padding: 10px; background-color: white; \n",
       "                       border-left: 4px solid #9E9E9E; border-radius: 5px;'>\n",
       "                <span style='font-size: 20px; margin-right: 10px;'>⏳</span>\n",
       "                <strong>Model Evaluation</strong> - <span style='color: #9E9E9E;'>Pending</span>\n",
       "            </li></ul>\n",
       "        <div style='margin-top: 20px; padding-top: 15px; border-top: 1px solid #ddd;'>\n",
       "            <small style='color: #666;'>\n",
       "                Time Elapsed: 0:00:31 | \n",
       "                Steps Completed: 4/6\n",
       "            </small>\n",
       "        </div>\n",
       "        </div>\n",
       "        "
      ],
      "text/plain": [
       "<IPython.core.display.HTML object>"
      ]
     },
     "metadata": {},
     "output_type": "display_data"
    },
    {
     "data": {
      "text/html": [
       "\n",
       "        <div style='background-color: #e7f3ff; border-left: 6px solid #2196F3; \n",
       "                    padding: 10px; margin: 10px 0; border-radius: 5px;'>\n",
       "            <span style='font-size: 16px; margin-right: 8px;'>ℹ️</span>\n",
       "            Feature engineering completed!\n",
       "            \n",
       "        </div>\n",
       "        "
      ],
      "text/plain": [
       "<IPython.core.display.HTML object>"
      ]
     },
     "metadata": {},
     "output_type": "display_data"
    }
   ],
   "source": [
    "# Step 4: Steady progress\n",
    "progress.mark_partial(\"Feature Engineering\", 0.5, \"Created basic features\")\n",
    "time.sleep(1)\n",
    "progress.mark_done(\"Feature Engineering\", score=92)\n",
    "show_info(\"Feature engineering completed!\")"
   ]
  },
  {
   "cell_type": "markdown",
   "metadata": {},
   "source": [
    "## Real-Time Analytics Dashboard\n",
    "\n",
    "View current progress analytics in a visual dashboard."
   ]
  },
  {
   "cell_type": "code",
   "execution_count": 8,
   "metadata": {},
   "outputs": [
    {
     "data": {
      "text/html": [
       "\n",
       "    <h4>📊 Lab Analytics Dashboard</h4>\n",
       "    <table style='border-collapse: collapse; width: 100%; margin: 10px 0; \n",
       "                  border: 1px solid #ddd;'>\n",
       "        <thead>\n",
       "            <tr><th style='padding: 10px; text-align: left; background-color: #f5f5f5;'>Metric</th><th style='padding: 10px; text-align: left; background-color: #f5f5f5;'>Value</th></tr>\n",
       "        </thead>\n",
       "        <tbody>\n",
       "            <tr style='background-color: #ffffff;'><td style='padding: 10px; border-bottom: 1px solid #ddd;'>Total Events</td><td style='padding: 10px; border-bottom: 1px solid #ddd;'>8</td></tr><tr style='background-color: #f9f9f9;'><td style='padding: 10px; border-bottom: 1px solid #ddd;'>Session Duration</td><td style='padding: 10px; border-bottom: 1px solid #ddd;'>41 seconds</td></tr><tr style='background-color: #ffffff;'><td style='padding: 10px; border-bottom: 1px solid #ddd;'>Steps Completed</td><td style='padding: 10px; border-bottom: 1px solid #ddd;'>4/6</td></tr><tr style='background-color: #f9f9f9;'><td style='padding: 10px; border-bottom: 1px solid #ddd;'>Completion Rate</td><td style='padding: 10px; border-bottom: 1px solid #ddd;'>66.7%</td></tr><tr style='background-color: #ffffff;'><td style='padding: 10px; border-bottom: 1px solid #ddd;'>Average Score</td><td style='padding: 10px; border-bottom: 1px solid #ddd;'>93.0</td></tr><tr style='background-color: #f9f9f9;'><td style='padding: 10px; border-bottom: 1px solid #ddd;'>Total Attempts</td><td style='padding: 10px; border-bottom: 1px solid #ddd;'>9</td></tr>\n",
       "        </tbody>\n",
       "    </table>\n",
       "    "
      ],
      "text/plain": [
       "<IPython.core.display.HTML object>"
      ]
     },
     "metadata": {},
     "output_type": "display_data"
    },
    {
     "data": {
      "text/html": [
       "\n",
       "    <h4>Event Types Breakdown</h4>\n",
       "    <table style='border-collapse: collapse; width: 100%; margin: 10px 0; \n",
       "                  border: 1px solid #ddd;'>\n",
       "        <thead>\n",
       "            <tr><th style='padding: 10px; text-align: left; background-color: #f5f5f5;'>Event Type</th><th style='padding: 10px; text-align: left; background-color: #f5f5f5;'>Count</th></tr>\n",
       "        </thead>\n",
       "        <tbody>\n",
       "            <tr style='background-color: #ffffff;'><td style='padding: 10px; border-bottom: 1px solid #ddd;'>step_completed</td><td style='padding: 10px; border-bottom: 1px solid #ddd;'>3</td></tr><tr style='background-color: #f9f9f9;'><td style='padding: 10px; border-bottom: 1px solid #ddd;'>attempt</td><td style='padding: 10px; border-bottom: 1px solid #ddd;'>3</td></tr><tr style='background-color: #ffffff;'><td style='padding: 10px; border-bottom: 1px solid #ddd;'>partial_progress</td><td style='padding: 10px; border-bottom: 1px solid #ddd;'>2</td></tr>\n",
       "        </tbody>\n",
       "    </table>\n",
       "    "
      ],
      "text/plain": [
       "<IPython.core.display.HTML object>"
      ]
     },
     "metadata": {},
     "output_type": "display_data"
    },
    {
     "data": {
      "text/html": [
       "\n",
       "    <h4>Step Performance</h4>\n",
       "    <table style='border-collapse: collapse; width: 100%; margin: 10px 0; \n",
       "                  border: 1px solid #ddd;'>\n",
       "        <thead>\n",
       "            <tr><th style='padding: 10px; text-align: left; background-color: #f5f5f5;'>Step</th><th style='padding: 10px; text-align: left; background-color: #f5f5f5;'>Status</th><th style='padding: 10px; text-align: left; background-color: #f5f5f5;'>Attempts</th><th style='padding: 10px; text-align: left; background-color: #f5f5f5;'>Score</th><th style='padding: 10px; text-align: left; background-color: #f5f5f5;'>Time</th></tr>\n",
       "        </thead>\n",
       "        <tbody>\n",
       "            <tr style='background-color: #ffffff;'><td style='padding: 10px; border-bottom: 1px solid #ddd;'>Environment Setup</td><td style='padding: 10px; border-bottom: 1px solid #ddd;'>✅</td><td style='padding: 10px; border-bottom: 1px solid #ddd;'>0</td><td style='padding: 10px; border-bottom: 1px solid #ddd;'>100</td><td style='padding: 10px; border-bottom: 1px solid #ddd;'>N/A</td></tr><tr style='background-color: #f9f9f9;'><td style='padding: 10px; border-bottom: 1px solid #ddd;'>Data Import</td><td style='padding: 10px; border-bottom: 1px solid #ddd;'>✅</td><td style='padding: 10px; border-bottom: 1px solid #ddd;'>0</td><td style='padding: 10px; border-bottom: 1px solid #ddd;'>95</td><td style='padding: 10px; border-bottom: 1px solid #ddd;'>-343s</td></tr><tr style='background-color: #ffffff;'><td style='padding: 10px; border-bottom: 1px solid #ddd;'>Data Cleaning</td><td style='padding: 10px; border-bottom: 1px solid #ddd;'>✅</td><td style='padding: 10px; border-bottom: 1px solid #ddd;'>9</td><td style='padding: 10px; border-bottom: 1px solid #ddd;'>85</td><td style='padding: 10px; border-bottom: 1px solid #ddd;'>1s</td></tr><tr style='background-color: #f9f9f9;'><td style='padding: 10px; border-bottom: 1px solid #ddd;'>Feature Engineering</td><td style='padding: 10px; border-bottom: 1px solid #ddd;'>✅</td><td style='padding: 10px; border-bottom: 1px solid #ddd;'>0</td><td style='padding: 10px; border-bottom: 1px solid #ddd;'>92</td><td style='padding: 10px; border-bottom: 1px solid #ddd;'>1s</td></tr><tr style='background-color: #ffffff;'><td style='padding: 10px; border-bottom: 1px solid #ddd;'>Model Building</td><td style='padding: 10px; border-bottom: 1px solid #ddd;'>⏳</td><td style='padding: 10px; border-bottom: 1px solid #ddd;'>0</td><td style='padding: 10px; border-bottom: 1px solid #ddd;'>N/A</td><td style='padding: 10px; border-bottom: 1px solid #ddd;'>N/A</td></tr><tr style='background-color: #f9f9f9;'><td style='padding: 10px; border-bottom: 1px solid #ddd;'>Model Evaluation</td><td style='padding: 10px; border-bottom: 1px solid #ddd;'>⏳</td><td style='padding: 10px; border-bottom: 1px solid #ddd;'>0</td><td style='padding: 10px; border-bottom: 1px solid #ddd;'>N/A</td><td style='padding: 10px; border-bottom: 1px solid #ddd;'>N/A</td></tr>\n",
       "        </tbody>\n",
       "    </table>\n",
       "    "
      ],
      "text/plain": [
       "<IPython.core.display.HTML object>"
      ]
     },
     "metadata": {},
     "output_type": "display_data"
    }
   ],
   "source": [
    "# Display the analytics dashboard\n",
    "# Check if the method exists, provide fallback if not\n",
    "\n",
    "if hasattr(progress, 'display_analytics_dashboard'):\n",
    "    progress.display_analytics_dashboard()\n",
    "else:\n",
    "    show_warning(\"Analytics dashboard not available in this version. Showing basic summary instead.\")\n",
    "    \n",
    "    # Fallback: Show basic analytics manually\n",
    "    if hasattr(progress, 'get_analytics_summary'):\n",
    "        summary = progress.get_analytics_summary()\n",
    "        show_info(f\"Analytics Summary Available: {summary}\")\n",
    "    else:\n",
    "        # Manual calculation of basic metrics\n",
    "        completed = sum(1 for s in progress.steps.values() if s.get('completed', False))\n",
    "        total = len(progress.steps)\n",
    "        completion_rate = (completed / total * 100) if total > 0 else 0\n",
    "        \n",
    "        show_info(f\"\"\"\n",
    "        📊 Progress Summary:\n",
    "        - Steps Completed: {completed}/{total}\n",
    "        - Completion Rate: {completion_rate:.1f}%\n",
    "        - Lab: {progress.lab_name}\n",
    "        \"\"\")\n",
    "        \n",
    "        # Show individual step status\n",
    "        print(\"\\nStep Status:\")\n",
    "        for step_name, step_info in progress.steps.items():\n",
    "            status = \"✅\" if step_info.get('completed', False) else \"⏳\"\n",
    "            score = step_info.get('score', 'N/A')\n",
    "            print(f\"{status} {step_name} - Score: {score}\")\n",
    "    \n",
    "    print(\"\\n💡 To get full analytics features, please reinstall the package:\")\n",
    "    print(\"   pip uninstall jupyter-lab-progress\")\n",
    "    print(\"   pip install -e /Users/michael.lynn/code/mongodb/developer-days/jupyter-utils/jupyter-lab-progress\")"
   ]
  },
  {
   "cell_type": "code",
   "execution_count": 9,
   "metadata": {},
   "outputs": [
    {
     "name": "stdout",
     "output_type": "stream",
     "text": [
      "Analytics Summary:\n",
      "  total_events: 8\n",
      "  session_duration: 41.291257\n",
      "  steps_completed: 4\n",
      "  total_steps: 6\n",
      "  completion_rate: 66.66666666666666\n",
      "  average_score: 93.0\n",
      "  total_attempts: 9\n"
     ]
    }
   ],
   "source": [
    "# Get raw analytics summary\n",
    "if hasattr(progress, 'get_analytics_summary'):\n",
    "    summary = progress.get_analytics_summary()\n",
    "    print(\"Analytics Summary:\")\n",
    "    for key, value in summary.items():\n",
    "        if key not in ['event_types', 'step_analytics']:\n",
    "            print(f\"  {key}: {value}\")\n",
    "else:\n",
    "    show_warning(\"Analytics summary not available in this version.\")\n",
    "    print(\"Basic summary:\")\n",
    "    print(f\"  Lab: {progress.lab_name}\")\n",
    "    print(f\"  Total steps: {len(progress.steps)}\")\n",
    "    completed = sum(1 for s in progress.steps.values() if s.get('completed', False))\n",
    "    print(f\"  Completed: {completed}\")\n",
    "    print(f\"  Completion rate: {(completed/len(progress.steps)*100):.1f}%\")"
   ]
  },
  {
   "cell_type": "markdown",
   "metadata": {},
   "source": [
    "## Export Analytics Data\n",
    "\n",
    "Export analytics in various formats for instructor review."
   ]
  },
  {
   "cell_type": "code",
   "execution_count": 10,
   "metadata": {},
   "outputs": [
    {
     "data": {
      "text/html": [
       "\n",
       "        <div style='background-color: #e7f3ff; border-left: 6px solid #2196F3; \n",
       "                    padding: 10px; margin: 10px 0; border-radius: 5px;'>\n",
       "            <span style='font-size: 16px; margin-right: 8px;'>ℹ️</span>\n",
       "            Analytics exported to CSV: data_science_pipeline_lab_analytics_20250711_101455.csv\n",
       "            \n",
       "        </div>\n",
       "        "
      ],
      "text/plain": [
       "<IPython.core.display.HTML object>"
      ]
     },
     "metadata": {},
     "output_type": "display_data"
    },
    {
     "name": "stdout",
     "output_type": "stream",
     "text": [
      "\n",
      "CSV Content Preview:\n",
      "   checkpoint_name        event_type                   lab_name  \\\n",
      "0              NaN    step_completed  Data Science Pipeline Lab   \n",
      "1              NaN           attempt  Data Science Pipeline Lab   \n",
      "2              NaN           attempt  Data Science Pipeline Lab   \n",
      "3              NaN  partial_progress  Data Science Pipeline Lab   \n",
      "4              NaN           attempt  Data Science Pipeline Lab   \n",
      "\n",
      "                  notes  progress  score                  session_id  \\\n",
      "0                   NaN       NaN  100.0  2025-07-11T10:13:51.805928   \n",
      "1                   NaN       NaN    NaN  2025-07-11T10:13:51.805928   \n",
      "2                   NaN       NaN    NaN  2025-07-11T10:13:51.805928   \n",
      "3  Fixed missing values       0.4    NaN  2025-07-11T10:13:51.805928   \n",
      "4                   NaN       NaN    NaN  2025-07-11T10:13:51.805928   \n",
      "\n",
      "           step_name student_id  time_spent                   timestamp  \n",
      "0  Environment Setup   2ab13cac         NaN  2025-07-11T10:13:58.064895  \n",
      "1      Data Cleaning   2ab13cac         NaN  2025-07-11T10:14:36.156333  \n",
      "2      Data Cleaning   2ab13cac         NaN  2025-07-11T10:14:36.659788  \n",
      "3      Data Cleaning   2ab13cac         NaN  2025-07-11T10:14:37.166969  \n",
      "4      Data Cleaning   2ab13cac         NaN  2025-07-11T10:14:38.174187  \n",
      "\n",
      "Total events: 8\n"
     ]
    }
   ],
   "source": [
    "# Export to CSV for spreadsheet analysis\n",
    "if hasattr(progress, 'export_analytics_csv'):\n",
    "    csv_filename = progress.export_analytics_csv()\n",
    "    show_info(f\"Analytics exported to CSV: {csv_filename}\")\n",
    "    \n",
    "    # Load and display the CSV data\n",
    "    try:\n",
    "        df = pd.read_csv(csv_filename)\n",
    "        print(\"\\nCSV Content Preview:\")\n",
    "        print(df.head())\n",
    "        print(f\"\\nTotal events: {len(df)}\")\n",
    "    except Exception as e:\n",
    "        print(f\"Could not load CSV: {e}\")\n",
    "else:\n",
    "    show_warning(\"CSV export not available in this version.\")\n",
    "    print(\"\\n💡 Creating a basic progress report instead...\")\n",
    "    \n",
    "    # Create a basic report\n",
    "    report_data = []\n",
    "    for step_name, step_info in progress.steps.items():\n",
    "        report_data.append({\n",
    "            'step': step_name,\n",
    "            'completed': step_info.get('completed', False),\n",
    "            'score': step_info.get('score', None),\n",
    "            'attempts': step_info.get('attempts', 0)\n",
    "        })\n",
    "    \n",
    "    df = pd.DataFrame(report_data)\n",
    "    print(\"\\nProgress Report:\")\n",
    "    print(df)"
   ]
  },
  {
   "cell_type": "code",
   "execution_count": 11,
   "metadata": {},
   "outputs": [
    {
     "data": {
      "text/html": [
       "\n",
       "        <div style='background-color: #e7f3ff; border-left: 6px solid #2196F3; \n",
       "                    padding: 10px; margin: 10px 0; border-radius: 5px;'>\n",
       "            <span style='font-size: 16px; margin-right: 8px;'>ℹ️</span>\n",
       "            Analytics exported to JSON: data_science_pipeline_lab_analytics_20250711_101456.json\n",
       "            \n",
       "        </div>\n",
       "        "
      ],
      "text/plain": [
       "<IPython.core.display.HTML object>"
      ]
     },
     "metadata": {},
     "output_type": "display_data"
    },
    {
     "name": "stdout",
     "output_type": "stream",
     "text": [
      "\n",
      "JSON Structure:\n",
      "Lab Name: Data Science Pipeline Lab\n",
      "Student ID: 2ab13cac\n",
      "Total Events: 8\n",
      "Session Duration: 41.3 seconds\n",
      "\n",
      "Sample Events:\n",
      "  2025-07-11T10:13:58.064895: step_completed - Environment Setup\n",
      "  2025-07-11T10:14:36.156333: attempt - Data Cleaning\n",
      "  2025-07-11T10:14:36.659788: attempt - Data Cleaning\n"
     ]
    }
   ],
   "source": [
    "# Export to JSON for programmatic analysis\n",
    "json_filename = progress.export_analytics_json()\n",
    "show_info(f\"Analytics exported to JSON: {json_filename}\")\n",
    "\n",
    "# Load and display sample JSON data\n",
    "try:\n",
    "    with open(json_filename, 'r') as f:\n",
    "        json_data = json.load(f)\n",
    "    \n",
    "    print(\"\\nJSON Structure:\")\n",
    "    print(f\"Lab Name: {json_data['lab_name']}\")\n",
    "    print(f\"Student ID: {json_data['student_id']}\")\n",
    "    print(f\"Total Events: {len(json_data['events'])}\")\n",
    "    print(f\"Session Duration: {json_data['summary']['session_duration']:.1f} seconds\")\n",
    "    \n",
    "    print(\"\\nSample Events:\")\n",
    "    for event in json_data['events'][:3]:\n",
    "        print(f\"  {event['timestamp']}: {event['event_type']} - {event.get('step_name', 'N/A')}\")\n",
    "    \n",
    "except Exception as e:\n",
    "    print(f\"Could not load JSON: {e}\")"
   ]
  },
  {
   "cell_type": "markdown",
   "metadata": {},
   "source": [
    "## Complete the Lab and View Final Analytics"
   ]
  },
  {
   "cell_type": "code",
   "execution_count": 12,
   "metadata": {},
   "outputs": [
    {
     "data": {
      "text/html": [
       "\n",
       "        <div style='background-color: #f5f5f5; padding: 20px; border-radius: 10px; margin: 10px 0;'>\n",
       "            <h3 style='color: #333; margin-bottom: 15px;'>Data Science Pipeline Lab Progress</h3>\n",
       "            \n",
       "            <!-- Progress Bar -->\n",
       "            <div style='background-color: #e0e0e0; border-radius: 20px; height: 30px; margin-bottom: 20px;'>\n",
       "                <div style='background-color: #4CAF50; height: 100%; border-radius: 20px; width: 83.33333333333334%; \n",
       "                            transition: width 0.5s ease; display: flex; align-items: center; justify-content: center;'>\n",
       "                    <span style='color: white; font-weight: bold;'>83.3%</span>\n",
       "                </div>\n",
       "            </div>\n",
       "        <p style='color: #666;'>Average Score: 92.0/100</p><ul style='list-style: none; padding: 0;'>\n",
       "            <li style='margin: 10px 0; padding: 10px; background-color: white; \n",
       "                       border-left: 4px solid #4CAF50; border-radius: 5px;'>\n",
       "                <span style='font-size: 20px; margin-right: 10px;'>✅</span>\n",
       "                <strong>Environment Setup</strong> - <span style='color: #4CAF50;'>Completed</span>\n",
       "            </li>\n",
       "            <li style='margin: 10px 0; padding: 10px; background-color: white; \n",
       "                       border-left: 4px solid #4CAF50; border-radius: 5px;'>\n",
       "                <span style='font-size: 20px; margin-right: 10px;'>✅</span>\n",
       "                <strong>Data Import</strong> - <span style='color: #4CAF50;'>Completed</span>\n",
       "            </li>\n",
       "            <li style='margin: 10px 0; padding: 10px; background-color: white; \n",
       "                       border-left: 4px solid #4CAF50; border-radius: 5px;'>\n",
       "                <span style='font-size: 20px; margin-right: 10px;'>✅</span>\n",
       "                <strong>Data Cleaning</strong> - <span style='color: #4CAF50;'>Completed</span>\n",
       "            </li>\n",
       "            <li style='margin: 10px 0; padding: 10px; background-color: white; \n",
       "                       border-left: 4px solid #4CAF50; border-radius: 5px;'>\n",
       "                <span style='font-size: 20px; margin-right: 10px;'>✅</span>\n",
       "                <strong>Feature Engineering</strong> - <span style='color: #4CAF50;'>Completed</span>\n",
       "            </li>\n",
       "            <li style='margin: 10px 0; padding: 10px; background-color: white; \n",
       "                       border-left: 4px solid #4CAF50; border-radius: 5px;'>\n",
       "                <span style='font-size: 20px; margin-right: 10px;'>✅</span>\n",
       "                <strong>Model Building</strong> - <span style='color: #4CAF50;'>Completed</span>\n",
       "            </li>\n",
       "            <li style='margin: 10px 0; padding: 10px; background-color: white; \n",
       "                       border-left: 4px solid #9E9E9E; border-radius: 5px;'>\n",
       "                <span style='font-size: 20px; margin-right: 10px;'>⏳</span>\n",
       "                <strong>Model Evaluation</strong> - <span style='color: #9E9E9E;'>Pending</span>\n",
       "            </li></ul>\n",
       "        <div style='margin-top: 20px; padding-top: 15px; border-top: 1px solid #ddd;'>\n",
       "            <small style='color: #666;'>\n",
       "                Time Elapsed: 0:01:06 | \n",
       "                Steps Completed: 5/6\n",
       "            </small>\n",
       "        </div>\n",
       "        </div>\n",
       "        "
      ],
      "text/plain": [
       "<IPython.core.display.HTML object>"
      ]
     },
     "metadata": {},
     "output_type": "display_data"
    },
    {
     "data": {
      "text/html": [
       "\n",
       "        <div style='background-color: #f5f5f5; padding: 20px; border-radius: 10px; margin: 10px 0;'>\n",
       "            <h3 style='color: #333; margin-bottom: 15px;'>Data Science Pipeline Lab Progress</h3>\n",
       "            \n",
       "            <!-- Progress Bar -->\n",
       "            <div style='background-color: #e0e0e0; border-radius: 20px; height: 30px; margin-bottom: 20px;'>\n",
       "                <div style='background-color: #4CAF50; height: 100%; border-radius: 20px; width: 100.0%; \n",
       "                            transition: width 0.5s ease; display: flex; align-items: center; justify-content: center;'>\n",
       "                    <span style='color: white; font-weight: bold;'>100.0%</span>\n",
       "                </div>\n",
       "            </div>\n",
       "        <p style='color: #666;'>Average Score: 92.3/100</p><ul style='list-style: none; padding: 0;'>\n",
       "            <li style='margin: 10px 0; padding: 10px; background-color: white; \n",
       "                       border-left: 4px solid #4CAF50; border-radius: 5px;'>\n",
       "                <span style='font-size: 20px; margin-right: 10px;'>✅</span>\n",
       "                <strong>Environment Setup</strong> - <span style='color: #4CAF50;'>Completed</span>\n",
       "            </li>\n",
       "            <li style='margin: 10px 0; padding: 10px; background-color: white; \n",
       "                       border-left: 4px solid #4CAF50; border-radius: 5px;'>\n",
       "                <span style='font-size: 20px; margin-right: 10px;'>✅</span>\n",
       "                <strong>Data Import</strong> - <span style='color: #4CAF50;'>Completed</span>\n",
       "            </li>\n",
       "            <li style='margin: 10px 0; padding: 10px; background-color: white; \n",
       "                       border-left: 4px solid #4CAF50; border-radius: 5px;'>\n",
       "                <span style='font-size: 20px; margin-right: 10px;'>✅</span>\n",
       "                <strong>Data Cleaning</strong> - <span style='color: #4CAF50;'>Completed</span>\n",
       "            </li>\n",
       "            <li style='margin: 10px 0; padding: 10px; background-color: white; \n",
       "                       border-left: 4px solid #4CAF50; border-radius: 5px;'>\n",
       "                <span style='font-size: 20px; margin-right: 10px;'>✅</span>\n",
       "                <strong>Feature Engineering</strong> - <span style='color: #4CAF50;'>Completed</span>\n",
       "            </li>\n",
       "            <li style='margin: 10px 0; padding: 10px; background-color: white; \n",
       "                       border-left: 4px solid #4CAF50; border-radius: 5px;'>\n",
       "                <span style='font-size: 20px; margin-right: 10px;'>✅</span>\n",
       "                <strong>Model Building</strong> - <span style='color: #4CAF50;'>Completed</span>\n",
       "            </li>\n",
       "            <li style='margin: 10px 0; padding: 10px; background-color: white; \n",
       "                       border-left: 4px solid #4CAF50; border-radius: 5px;'>\n",
       "                <span style='font-size: 20px; margin-right: 10px;'>✅</span>\n",
       "                <strong>Model Evaluation</strong> - <span style='color: #4CAF50;'>Completed</span>\n",
       "            </li></ul>\n",
       "        <div style='margin-top: 20px; padding-top: 15px; border-top: 1px solid #ddd;'>\n",
       "            <small style='color: #666;'>\n",
       "                Time Elapsed: 0:01:07 | \n",
       "                Steps Completed: 6/6\n",
       "            </small>\n",
       "        </div>\n",
       "        </div>\n",
       "        "
      ],
      "text/plain": [
       "<IPython.core.display.HTML object>"
      ]
     },
     "metadata": {},
     "output_type": "display_data"
    },
    {
     "data": {
      "text/html": [
       "\n",
       "        <div style='background-color: #e7f3ff; border-left: 6px solid #2196F3; \n",
       "                    padding: 10px; margin: 10px 0; border-radius: 5px;'>\n",
       "            <span style='font-size: 16px; margin-right: 8px;'>ℹ️</span>\n",
       "            Lab completed! 🎉\n",
       "            \n",
       "        </div>\n",
       "        "
      ],
      "text/plain": [
       "<IPython.core.display.HTML object>"
      ]
     },
     "metadata": {},
     "output_type": "display_data"
    }
   ],
   "source": [
    "# Complete remaining steps\n",
    "progress.mark_done(\"Model Building\", score=88)\n",
    "time.sleep(1)\n",
    "progress.mark_done(\"Model Evaluation\", score=94)\n",
    "\n",
    "show_info(\"Lab completed! 🎉\")"
   ]
  },
  {
   "cell_type": "code",
   "execution_count": 13,
   "metadata": {},
   "outputs": [
    {
     "data": {
      "text/html": [
       "\n",
       "    <h4>📊 Lab Analytics Dashboard</h4>\n",
       "    <table style='border-collapse: collapse; width: 100%; margin: 10px 0; \n",
       "                  border: 1px solid #ddd;'>\n",
       "        <thead>\n",
       "            <tr><th style='padding: 10px; text-align: left; background-color: #f5f5f5;'>Metric</th><th style='padding: 10px; text-align: left; background-color: #f5f5f5;'>Value</th></tr>\n",
       "        </thead>\n",
       "        <tbody>\n",
       "            <tr style='background-color: #ffffff;'><td style='padding: 10px; border-bottom: 1px solid #ddd;'>Total Events</td><td style='padding: 10px; border-bottom: 1px solid #ddd;'>10</td></tr><tr style='background-color: #f9f9f9;'><td style='padding: 10px; border-bottom: 1px solid #ddd;'>Session Duration</td><td style='padding: 10px; border-bottom: 1px solid #ddd;'>61 seconds</td></tr><tr style='background-color: #ffffff;'><td style='padding: 10px; border-bottom: 1px solid #ddd;'>Steps Completed</td><td style='padding: 10px; border-bottom: 1px solid #ddd;'>6/6</td></tr><tr style='background-color: #f9f9f9;'><td style='padding: 10px; border-bottom: 1px solid #ddd;'>Completion Rate</td><td style='padding: 10px; border-bottom: 1px solid #ddd;'>100.0%</td></tr><tr style='background-color: #ffffff;'><td style='padding: 10px; border-bottom: 1px solid #ddd;'>Average Score</td><td style='padding: 10px; border-bottom: 1px solid #ddd;'>92.3</td></tr><tr style='background-color: #f9f9f9;'><td style='padding: 10px; border-bottom: 1px solid #ddd;'>Total Attempts</td><td style='padding: 10px; border-bottom: 1px solid #ddd;'>9</td></tr>\n",
       "        </tbody>\n",
       "    </table>\n",
       "    "
      ],
      "text/plain": [
       "<IPython.core.display.HTML object>"
      ]
     },
     "metadata": {},
     "output_type": "display_data"
    },
    {
     "data": {
      "text/html": [
       "\n",
       "    <h4>Event Types Breakdown</h4>\n",
       "    <table style='border-collapse: collapse; width: 100%; margin: 10px 0; \n",
       "                  border: 1px solid #ddd;'>\n",
       "        <thead>\n",
       "            <tr><th style='padding: 10px; text-align: left; background-color: #f5f5f5;'>Event Type</th><th style='padding: 10px; text-align: left; background-color: #f5f5f5;'>Count</th></tr>\n",
       "        </thead>\n",
       "        <tbody>\n",
       "            <tr style='background-color: #ffffff;'><td style='padding: 10px; border-bottom: 1px solid #ddd;'>step_completed</td><td style='padding: 10px; border-bottom: 1px solid #ddd;'>5</td></tr><tr style='background-color: #f9f9f9;'><td style='padding: 10px; border-bottom: 1px solid #ddd;'>attempt</td><td style='padding: 10px; border-bottom: 1px solid #ddd;'>3</td></tr><tr style='background-color: #ffffff;'><td style='padding: 10px; border-bottom: 1px solid #ddd;'>partial_progress</td><td style='padding: 10px; border-bottom: 1px solid #ddd;'>2</td></tr>\n",
       "        </tbody>\n",
       "    </table>\n",
       "    "
      ],
      "text/plain": [
       "<IPython.core.display.HTML object>"
      ]
     },
     "metadata": {},
     "output_type": "display_data"
    },
    {
     "data": {
      "text/html": [
       "\n",
       "    <h4>Step Performance</h4>\n",
       "    <table style='border-collapse: collapse; width: 100%; margin: 10px 0; \n",
       "                  border: 1px solid #ddd;'>\n",
       "        <thead>\n",
       "            <tr><th style='padding: 10px; text-align: left; background-color: #f5f5f5;'>Step</th><th style='padding: 10px; text-align: left; background-color: #f5f5f5;'>Status</th><th style='padding: 10px; text-align: left; background-color: #f5f5f5;'>Attempts</th><th style='padding: 10px; text-align: left; background-color: #f5f5f5;'>Score</th><th style='padding: 10px; text-align: left; background-color: #f5f5f5;'>Time</th></tr>\n",
       "        </thead>\n",
       "        <tbody>\n",
       "            <tr style='background-color: #ffffff;'><td style='padding: 10px; border-bottom: 1px solid #ddd;'>Environment Setup</td><td style='padding: 10px; border-bottom: 1px solid #ddd;'>✅</td><td style='padding: 10px; border-bottom: 1px solid #ddd;'>0</td><td style='padding: 10px; border-bottom: 1px solid #ddd;'>100</td><td style='padding: 10px; border-bottom: 1px solid #ddd;'>N/A</td></tr><tr style='background-color: #f9f9f9;'><td style='padding: 10px; border-bottom: 1px solid #ddd;'>Data Import</td><td style='padding: 10px; border-bottom: 1px solid #ddd;'>✅</td><td style='padding: 10px; border-bottom: 1px solid #ddd;'>0</td><td style='padding: 10px; border-bottom: 1px solid #ddd;'>95</td><td style='padding: 10px; border-bottom: 1px solid #ddd;'>-343s</td></tr><tr style='background-color: #ffffff;'><td style='padding: 10px; border-bottom: 1px solid #ddd;'>Data Cleaning</td><td style='padding: 10px; border-bottom: 1px solid #ddd;'>✅</td><td style='padding: 10px; border-bottom: 1px solid #ddd;'>9</td><td style='padding: 10px; border-bottom: 1px solid #ddd;'>85</td><td style='padding: 10px; border-bottom: 1px solid #ddd;'>1s</td></tr><tr style='background-color: #f9f9f9;'><td style='padding: 10px; border-bottom: 1px solid #ddd;'>Feature Engineering</td><td style='padding: 10px; border-bottom: 1px solid #ddd;'>✅</td><td style='padding: 10px; border-bottom: 1px solid #ddd;'>0</td><td style='padding: 10px; border-bottom: 1px solid #ddd;'>92</td><td style='padding: 10px; border-bottom: 1px solid #ddd;'>1s</td></tr><tr style='background-color: #ffffff;'><td style='padding: 10px; border-bottom: 1px solid #ddd;'>Model Building</td><td style='padding: 10px; border-bottom: 1px solid #ddd;'>✅</td><td style='padding: 10px; border-bottom: 1px solid #ddd;'>0</td><td style='padding: 10px; border-bottom: 1px solid #ddd;'>88</td><td style='padding: 10px; border-bottom: 1px solid #ddd;'>N/A</td></tr><tr style='background-color: #f9f9f9;'><td style='padding: 10px; border-bottom: 1px solid #ddd;'>Model Evaluation</td><td style='padding: 10px; border-bottom: 1px solid #ddd;'>✅</td><td style='padding: 10px; border-bottom: 1px solid #ddd;'>0</td><td style='padding: 10px; border-bottom: 1px solid #ddd;'>94</td><td style='padding: 10px; border-bottom: 1px solid #ddd;'>N/A</td></tr>\n",
       "        </tbody>\n",
       "    </table>\n",
       "    "
      ],
      "text/plain": [
       "<IPython.core.display.HTML object>"
      ]
     },
     "metadata": {},
     "output_type": "display_data"
    }
   ],
   "source": [
    "# Final analytics dashboard\n",
    "progress.display_analytics_dashboard()"
   ]
  },
  {
   "cell_type": "markdown",
   "metadata": {},
   "source": [
    "## Instructor Analytics - Multiple Students\n",
    "\n",
    "Demonstration of how analytics would work across multiple student sessions."
   ]
  },
  {
   "cell_type": "code",
   "execution_count": 14,
   "metadata": {},
   "outputs": [
    {
     "data": {
      "text/html": [
       "\n",
       "        <div style='background-color: #f5f5f5; padding: 20px; border-radius: 10px; margin: 10px 0;'>\n",
       "            <h3 style='color: #333; margin-bottom: 15px;'>Quick Lab Progress</h3>\n",
       "            \n",
       "            <!-- Progress Bar -->\n",
       "            <div style='background-color: #e0e0e0; border-radius: 20px; height: 30px; margin-bottom: 20px;'>\n",
       "                <div style='background-color: #4CAF50; height: 100%; border-radius: 20px; width: 0.0%; \n",
       "                            transition: width 0.5s ease; display: flex; align-items: center; justify-content: center;'>\n",
       "                    <span style='color: white; font-weight: bold;'>0.0%</span>\n",
       "                </div>\n",
       "            </div>\n",
       "        <ul style='list-style: none; padding: 0;'>\n",
       "            <li style='margin: 10px 0; padding: 10px; background-color: white; \n",
       "                       border-left: 4px solid #9E9E9E; border-radius: 5px;'>\n",
       "                <span style='font-size: 20px; margin-right: 10px;'>⏳</span>\n",
       "                <strong>Setup</strong> - <span style='color: #9E9E9E;'>Pending</span>\n",
       "            </li>\n",
       "            <li style='margin: 10px 0; padding: 10px; background-color: white; \n",
       "                       border-left: 4px solid #9E9E9E; border-radius: 5px;'>\n",
       "                <span style='font-size: 20px; margin-right: 10px;'>⏳</span>\n",
       "                <strong>Analysis</strong> - <span style='color: #9E9E9E;'>Pending</span>\n",
       "            </li>\n",
       "            <li style='margin: 10px 0; padding: 10px; background-color: white; \n",
       "                       border-left: 4px solid #9E9E9E; border-radius: 5px;'>\n",
       "                <span style='font-size: 20px; margin-right: 10px;'>⏳</span>\n",
       "                <strong>Conclusion</strong> - <span style='color: #9E9E9E;'>Pending</span>\n",
       "            </li></ul>\n",
       "        <div style='margin-top: 20px; padding-top: 15px; border-top: 1px solid #ddd;'>\n",
       "            <small style='color: #666;'>\n",
       "                Time Elapsed: 0:00:00 | \n",
       "                Steps Completed: 0/3\n",
       "            </small>\n",
       "        </div>\n",
       "        </div>\n",
       "        "
      ],
      "text/plain": [
       "<IPython.core.display.HTML object>"
      ]
     },
     "metadata": {},
     "output_type": "display_data"
    },
    {
     "data": {
      "text/html": [
       "\n",
       "        <div style='background-color: #f5f5f5; padding: 20px; border-radius: 10px; margin: 10px 0;'>\n",
       "            <h3 style='color: #333; margin-bottom: 15px;'>Quick Lab Progress</h3>\n",
       "            \n",
       "            <!-- Progress Bar -->\n",
       "            <div style='background-color: #e0e0e0; border-radius: 20px; height: 30px; margin-bottom: 20px;'>\n",
       "                <div style='background-color: #4CAF50; height: 100%; border-radius: 20px; width: 33.33333333333333%; \n",
       "                            transition: width 0.5s ease; display: flex; align-items: center; justify-content: center;'>\n",
       "                    <span style='color: white; font-weight: bold;'>33.3%</span>\n",
       "                </div>\n",
       "            </div>\n",
       "        <p style='color: #666;'>Average Score: 100.0/100</p><ul style='list-style: none; padding: 0;'>\n",
       "            <li style='margin: 10px 0; padding: 10px; background-color: white; \n",
       "                       border-left: 4px solid #4CAF50; border-radius: 5px;'>\n",
       "                <span style='font-size: 20px; margin-right: 10px;'>✅</span>\n",
       "                <strong>Setup</strong> - <span style='color: #4CAF50;'>Completed</span>\n",
       "            </li>\n",
       "            <li style='margin: 10px 0; padding: 10px; background-color: white; \n",
       "                       border-left: 4px solid #9E9E9E; border-radius: 5px;'>\n",
       "                <span style='font-size: 20px; margin-right: 10px;'>⏳</span>\n",
       "                <strong>Analysis</strong> - <span style='color: #9E9E9E;'>Pending</span>\n",
       "            </li>\n",
       "            <li style='margin: 10px 0; padding: 10px; background-color: white; \n",
       "                       border-left: 4px solid #9E9E9E; border-radius: 5px;'>\n",
       "                <span style='font-size: 20px; margin-right: 10px;'>⏳</span>\n",
       "                <strong>Conclusion</strong> - <span style='color: #9E9E9E;'>Pending</span>\n",
       "            </li></ul>\n",
       "        <div style='margin-top: 20px; padding-top: 15px; border-top: 1px solid #ddd;'>\n",
       "            <small style='color: #666;'>\n",
       "                Time Elapsed: 0:00:00 | \n",
       "                Steps Completed: 1/3\n",
       "            </small>\n",
       "        </div>\n",
       "        </div>\n",
       "        "
      ],
      "text/plain": [
       "<IPython.core.display.HTML object>"
      ]
     },
     "metadata": {},
     "output_type": "display_data"
    },
    {
     "data": {
      "text/html": [
       "\n",
       "        <div style='background-color: #f5f5f5; padding: 20px; border-radius: 10px; margin: 10px 0;'>\n",
       "            <h3 style='color: #333; margin-bottom: 15px;'>Quick Lab Progress</h3>\n",
       "            \n",
       "            <!-- Progress Bar -->\n",
       "            <div style='background-color: #e0e0e0; border-radius: 20px; height: 30px; margin-bottom: 20px;'>\n",
       "                <div style='background-color: #4CAF50; height: 100%; border-radius: 20px; width: 66.66666666666666%; \n",
       "                            transition: width 0.5s ease; display: flex; align-items: center; justify-content: center;'>\n",
       "                    <span style='color: white; font-weight: bold;'>66.7%</span>\n",
       "                </div>\n",
       "            </div>\n",
       "        <p style='color: #666;'>Average Score: 97.5/100</p><ul style='list-style: none; padding: 0;'>\n",
       "            <li style='margin: 10px 0; padding: 10px; background-color: white; \n",
       "                       border-left: 4px solid #4CAF50; border-radius: 5px;'>\n",
       "                <span style='font-size: 20px; margin-right: 10px;'>✅</span>\n",
       "                <strong>Setup</strong> - <span style='color: #4CAF50;'>Completed</span>\n",
       "            </li>\n",
       "            <li style='margin: 10px 0; padding: 10px; background-color: white; \n",
       "                       border-left: 4px solid #4CAF50; border-radius: 5px;'>\n",
       "                <span style='font-size: 20px; margin-right: 10px;'>✅</span>\n",
       "                <strong>Analysis</strong> - <span style='color: #4CAF50;'>Completed</span>\n",
       "            </li>\n",
       "            <li style='margin: 10px 0; padding: 10px; background-color: white; \n",
       "                       border-left: 4px solid #9E9E9E; border-radius: 5px;'>\n",
       "                <span style='font-size: 20px; margin-right: 10px;'>⏳</span>\n",
       "                <strong>Conclusion</strong> - <span style='color: #9E9E9E;'>Pending</span>\n",
       "            </li></ul>\n",
       "        <div style='margin-top: 20px; padding-top: 15px; border-top: 1px solid #ddd;'>\n",
       "            <small style='color: #666;'>\n",
       "                Time Elapsed: 0:00:00 | \n",
       "                Steps Completed: 2/3\n",
       "            </small>\n",
       "        </div>\n",
       "        </div>\n",
       "        "
      ],
      "text/plain": [
       "<IPython.core.display.HTML object>"
      ]
     },
     "metadata": {},
     "output_type": "display_data"
    },
    {
     "data": {
      "text/html": [
       "\n",
       "        <div style='background-color: #f5f5f5; padding: 20px; border-radius: 10px; margin: 10px 0;'>\n",
       "            <h3 style='color: #333; margin-bottom: 15px;'>Quick Lab Progress</h3>\n",
       "            \n",
       "            <!-- Progress Bar -->\n",
       "            <div style='background-color: #e0e0e0; border-radius: 20px; height: 30px; margin-bottom: 20px;'>\n",
       "                <div style='background-color: #4CAF50; height: 100%; border-radius: 20px; width: 100.0%; \n",
       "                            transition: width 0.5s ease; display: flex; align-items: center; justify-content: center;'>\n",
       "                    <span style='color: white; font-weight: bold;'>100.0%</span>\n",
       "                </div>\n",
       "            </div>\n",
       "        <p style='color: #666;'>Average Score: 97.7/100</p><ul style='list-style: none; padding: 0;'>\n",
       "            <li style='margin: 10px 0; padding: 10px; background-color: white; \n",
       "                       border-left: 4px solid #4CAF50; border-radius: 5px;'>\n",
       "                <span style='font-size: 20px; margin-right: 10px;'>✅</span>\n",
       "                <strong>Setup</strong> - <span style='color: #4CAF50;'>Completed</span>\n",
       "            </li>\n",
       "            <li style='margin: 10px 0; padding: 10px; background-color: white; \n",
       "                       border-left: 4px solid #4CAF50; border-radius: 5px;'>\n",
       "                <span style='font-size: 20px; margin-right: 10px;'>✅</span>\n",
       "                <strong>Analysis</strong> - <span style='color: #4CAF50;'>Completed</span>\n",
       "            </li>\n",
       "            <li style='margin: 10px 0; padding: 10px; background-color: white; \n",
       "                       border-left: 4px solid #4CAF50; border-radius: 5px;'>\n",
       "                <span style='font-size: 20px; margin-right: 10px;'>✅</span>\n",
       "                <strong>Conclusion</strong> - <span style='color: #4CAF50;'>Completed</span>\n",
       "            </li></ul>\n",
       "        <div style='margin-top: 20px; padding-top: 15px; border-top: 1px solid #ddd;'>\n",
       "            <small style='color: #666;'>\n",
       "                Time Elapsed: 0:00:00 | \n",
       "                Steps Completed: 3/3\n",
       "            </small>\n",
       "        </div>\n",
       "        </div>\n",
       "        "
      ],
      "text/plain": [
       "<IPython.core.display.HTML object>"
      ]
     },
     "metadata": {},
     "output_type": "display_data"
    },
    {
     "data": {
      "text/html": [
       "\n",
       "        <div style='background-color: #f5f5f5; padding: 20px; border-radius: 10px; margin: 10px 0;'>\n",
       "            <h3 style='color: #333; margin-bottom: 15px;'>Quick Lab Progress</h3>\n",
       "            \n",
       "            <!-- Progress Bar -->\n",
       "            <div style='background-color: #e0e0e0; border-radius: 20px; height: 30px; margin-bottom: 20px;'>\n",
       "                <div style='background-color: #4CAF50; height: 100%; border-radius: 20px; width: 0.0%; \n",
       "                            transition: width 0.5s ease; display: flex; align-items: center; justify-content: center;'>\n",
       "                    <span style='color: white; font-weight: bold;'>0.0%</span>\n",
       "                </div>\n",
       "            </div>\n",
       "        <ul style='list-style: none; padding: 0;'>\n",
       "            <li style='margin: 10px 0; padding: 10px; background-color: white; \n",
       "                       border-left: 4px solid #9E9E9E; border-radius: 5px;'>\n",
       "                <span style='font-size: 20px; margin-right: 10px;'>⏳</span>\n",
       "                <strong>Setup</strong> - <span style='color: #9E9E9E;'>Pending</span>\n",
       "            </li>\n",
       "            <li style='margin: 10px 0; padding: 10px; background-color: white; \n",
       "                       border-left: 4px solid #9E9E9E; border-radius: 5px;'>\n",
       "                <span style='font-size: 20px; margin-right: 10px;'>⏳</span>\n",
       "                <strong>Analysis</strong> - <span style='color: #9E9E9E;'>Pending</span>\n",
       "            </li>\n",
       "            <li style='margin: 10px 0; padding: 10px; background-color: white; \n",
       "                       border-left: 4px solid #9E9E9E; border-radius: 5px;'>\n",
       "                <span style='font-size: 20px; margin-right: 10px;'>⏳</span>\n",
       "                <strong>Conclusion</strong> - <span style='color: #9E9E9E;'>Pending</span>\n",
       "            </li></ul>\n",
       "        <div style='margin-top: 20px; padding-top: 15px; border-top: 1px solid #ddd;'>\n",
       "            <small style='color: #666;'>\n",
       "                Time Elapsed: 0:00:00 | \n",
       "                Steps Completed: 0/3\n",
       "            </small>\n",
       "        </div>\n",
       "        </div>\n",
       "        "
      ],
      "text/plain": [
       "<IPython.core.display.HTML object>"
      ]
     },
     "metadata": {},
     "output_type": "display_data"
    },
    {
     "data": {
      "text/html": [
       "\n",
       "        <div style='background-color: #f5f5f5; padding: 20px; border-radius: 10px; margin: 10px 0;'>\n",
       "            <h3 style='color: #333; margin-bottom: 15px;'>Quick Lab Progress</h3>\n",
       "            \n",
       "            <!-- Progress Bar -->\n",
       "            <div style='background-color: #e0e0e0; border-radius: 20px; height: 30px; margin-bottom: 20px;'>\n",
       "                <div style='background-color: #4CAF50; height: 100%; border-radius: 20px; width: 33.33333333333333%; \n",
       "                            transition: width 0.5s ease; display: flex; align-items: center; justify-content: center;'>\n",
       "                    <span style='color: white; font-weight: bold;'>33.3%</span>\n",
       "                </div>\n",
       "            </div>\n",
       "        <p style='color: #666;'>Average Score: 90.0/100</p><ul style='list-style: none; padding: 0;'>\n",
       "            <li style='margin: 10px 0; padding: 10px; background-color: white; \n",
       "                       border-left: 4px solid #4CAF50; border-radius: 5px;'>\n",
       "                <span style='font-size: 20px; margin-right: 10px;'>✅</span>\n",
       "                <strong>Setup</strong> - <span style='color: #4CAF50;'>Completed</span>\n",
       "            </li>\n",
       "            <li style='margin: 10px 0; padding: 10px; background-color: white; \n",
       "                       border-left: 4px solid #9E9E9E; border-radius: 5px;'>\n",
       "                <span style='font-size: 20px; margin-right: 10px;'>⏳</span>\n",
       "                <strong>Analysis</strong> - <span style='color: #9E9E9E;'>Pending</span>\n",
       "            </li>\n",
       "            <li style='margin: 10px 0; padding: 10px; background-color: white; \n",
       "                       border-left: 4px solid #9E9E9E; border-radius: 5px;'>\n",
       "                <span style='font-size: 20px; margin-right: 10px;'>⏳</span>\n",
       "                <strong>Conclusion</strong> - <span style='color: #9E9E9E;'>Pending</span>\n",
       "            </li></ul>\n",
       "        <div style='margin-top: 20px; padding-top: 15px; border-top: 1px solid #ddd;'>\n",
       "            <small style='color: #666;'>\n",
       "                Time Elapsed: 0:00:00 | \n",
       "                Steps Completed: 1/3\n",
       "            </small>\n",
       "        </div>\n",
       "        </div>\n",
       "        "
      ],
      "text/plain": [
       "<IPython.core.display.HTML object>"
      ]
     },
     "metadata": {},
     "output_type": "display_data"
    },
    {
     "data": {
      "text/html": [
       "\n",
       "        <div style='background-color: #f5f5f5; padding: 20px; border-radius: 10px; margin: 10px 0;'>\n",
       "            <h3 style='color: #333; margin-bottom: 15px;'>Quick Lab Progress</h3>\n",
       "            \n",
       "            <!-- Progress Bar -->\n",
       "            <div style='background-color: #e0e0e0; border-radius: 20px; height: 30px; margin-bottom: 20px;'>\n",
       "                <div style='background-color: #4CAF50; height: 100%; border-radius: 20px; width: 66.66666666666666%; \n",
       "                            transition: width 0.5s ease; display: flex; align-items: center; justify-content: center;'>\n",
       "                    <span style='color: white; font-weight: bold;'>66.7%</span>\n",
       "                </div>\n",
       "            </div>\n",
       "        <p style='color: #666;'>Average Score: 80.0/100</p><ul style='list-style: none; padding: 0;'>\n",
       "            <li style='margin: 10px 0; padding: 10px; background-color: white; \n",
       "                       border-left: 4px solid #4CAF50; border-radius: 5px;'>\n",
       "                <span style='font-size: 20px; margin-right: 10px;'>✅</span>\n",
       "                <strong>Setup</strong> - <span style='color: #4CAF50;'>Completed</span>\n",
       "            </li>\n",
       "            <li style='margin: 10px 0; padding: 10px; background-color: white; \n",
       "                       border-left: 4px solid #4CAF50; border-radius: 5px;'>\n",
       "                <span style='font-size: 20px; margin-right: 10px;'>✅</span>\n",
       "                <strong>Analysis</strong> - <span style='color: #4CAF50;'>Completed</span>\n",
       "            </li>\n",
       "            <li style='margin: 10px 0; padding: 10px; background-color: white; \n",
       "                       border-left: 4px solid #9E9E9E; border-radius: 5px;'>\n",
       "                <span style='font-size: 20px; margin-right: 10px;'>⏳</span>\n",
       "                <strong>Conclusion</strong> - <span style='color: #9E9E9E;'>Pending</span>\n",
       "            </li></ul>\n",
       "        <div style='margin-top: 20px; padding-top: 15px; border-top: 1px solid #ddd;'>\n",
       "            <small style='color: #666;'>\n",
       "                Time Elapsed: 0:00:00 | \n",
       "                Steps Completed: 2/3\n",
       "            </small>\n",
       "        </div>\n",
       "        </div>\n",
       "        "
      ],
      "text/plain": [
       "<IPython.core.display.HTML object>"
      ]
     },
     "metadata": {},
     "output_type": "display_data"
    },
    {
     "data": {
      "text/html": [
       "\n",
       "        <div style='background-color: #f5f5f5; padding: 20px; border-radius: 10px; margin: 10px 0;'>\n",
       "            <h3 style='color: #333; margin-bottom: 15px;'>Quick Lab Progress</h3>\n",
       "            \n",
       "            <!-- Progress Bar -->\n",
       "            <div style='background-color: #e0e0e0; border-radius: 20px; height: 30px; margin-bottom: 20px;'>\n",
       "                <div style='background-color: #4CAF50; height: 100%; border-radius: 20px; width: 100.0%; \n",
       "                            transition: width 0.5s ease; display: flex; align-items: center; justify-content: center;'>\n",
       "                    <span style='color: white; font-weight: bold;'>100.0%</span>\n",
       "                </div>\n",
       "            </div>\n",
       "        <p style='color: #666;'>Average Score: 81.7/100</p><ul style='list-style: none; padding: 0;'>\n",
       "            <li style='margin: 10px 0; padding: 10px; background-color: white; \n",
       "                       border-left: 4px solid #4CAF50; border-radius: 5px;'>\n",
       "                <span style='font-size: 20px; margin-right: 10px;'>✅</span>\n",
       "                <strong>Setup</strong> - <span style='color: #4CAF50;'>Completed</span>\n",
       "            </li>\n",
       "            <li style='margin: 10px 0; padding: 10px; background-color: white; \n",
       "                       border-left: 4px solid #4CAF50; border-radius: 5px;'>\n",
       "                <span style='font-size: 20px; margin-right: 10px;'>✅</span>\n",
       "                <strong>Analysis</strong> - <span style='color: #4CAF50;'>Completed</span>\n",
       "            </li>\n",
       "            <li style='margin: 10px 0; padding: 10px; background-color: white; \n",
       "                       border-left: 4px solid #4CAF50; border-radius: 5px;'>\n",
       "                <span style='font-size: 20px; margin-right: 10px;'>✅</span>\n",
       "                <strong>Conclusion</strong> - <span style='color: #4CAF50;'>Completed</span>\n",
       "            </li></ul>\n",
       "        <div style='margin-top: 20px; padding-top: 15px; border-top: 1px solid #ddd;'>\n",
       "            <small style='color: #666;'>\n",
       "                Time Elapsed: 0:00:00 | \n",
       "                Steps Completed: 3/3\n",
       "            </small>\n",
       "        </div>\n",
       "        </div>\n",
       "        "
      ],
      "text/plain": [
       "<IPython.core.display.HTML object>"
      ]
     },
     "metadata": {},
     "output_type": "display_data"
    },
    {
     "data": {
      "text/html": [
       "\n",
       "        <div style='background-color: #f5f5f5; padding: 20px; border-radius: 10px; margin: 10px 0;'>\n",
       "            <h3 style='color: #333; margin-bottom: 15px;'>Quick Lab Progress</h3>\n",
       "            \n",
       "            <!-- Progress Bar -->\n",
       "            <div style='background-color: #e0e0e0; border-radius: 20px; height: 30px; margin-bottom: 20px;'>\n",
       "                <div style='background-color: #4CAF50; height: 100%; border-radius: 20px; width: 0.0%; \n",
       "                            transition: width 0.5s ease; display: flex; align-items: center; justify-content: center;'>\n",
       "                    <span style='color: white; font-weight: bold;'>0.0%</span>\n",
       "                </div>\n",
       "            </div>\n",
       "        <ul style='list-style: none; padding: 0;'>\n",
       "            <li style='margin: 10px 0; padding: 10px; background-color: white; \n",
       "                       border-left: 4px solid #9E9E9E; border-radius: 5px;'>\n",
       "                <span style='font-size: 20px; margin-right: 10px;'>⏳</span>\n",
       "                <strong>Setup</strong> - <span style='color: #9E9E9E;'>Pending</span>\n",
       "            </li>\n",
       "            <li style='margin: 10px 0; padding: 10px; background-color: white; \n",
       "                       border-left: 4px solid #9E9E9E; border-radius: 5px;'>\n",
       "                <span style='font-size: 20px; margin-right: 10px;'>⏳</span>\n",
       "                <strong>Analysis</strong> - <span style='color: #9E9E9E;'>Pending</span>\n",
       "            </li>\n",
       "            <li style='margin: 10px 0; padding: 10px; background-color: white; \n",
       "                       border-left: 4px solid #9E9E9E; border-radius: 5px;'>\n",
       "                <span style='font-size: 20px; margin-right: 10px;'>⏳</span>\n",
       "                <strong>Conclusion</strong> - <span style='color: #9E9E9E;'>Pending</span>\n",
       "            </li></ul>\n",
       "        <div style='margin-top: 20px; padding-top: 15px; border-top: 1px solid #ddd;'>\n",
       "            <small style='color: #666;'>\n",
       "                Time Elapsed: 0:00:00 | \n",
       "                Steps Completed: 0/3\n",
       "            </small>\n",
       "        </div>\n",
       "        </div>\n",
       "        "
      ],
      "text/plain": [
       "<IPython.core.display.HTML object>"
      ]
     },
     "metadata": {},
     "output_type": "display_data"
    },
    {
     "data": {
      "text/html": [
       "\n",
       "        <div style='background-color: #f5f5f5; padding: 20px; border-radius: 10px; margin: 10px 0;'>\n",
       "            <h3 style='color: #333; margin-bottom: 15px;'>Quick Lab Progress</h3>\n",
       "            \n",
       "            <!-- Progress Bar -->\n",
       "            <div style='background-color: #e0e0e0; border-radius: 20px; height: 30px; margin-bottom: 20px;'>\n",
       "                <div style='background-color: #4CAF50; height: 100%; border-radius: 20px; width: 33.33333333333333%; \n",
       "                            transition: width 0.5s ease; display: flex; align-items: center; justify-content: center;'>\n",
       "                    <span style='color: white; font-weight: bold;'>33.3%</span>\n",
       "                </div>\n",
       "            </div>\n",
       "        <p style='color: #666;'>Average Score: 85.0/100</p><ul style='list-style: none; padding: 0;'>\n",
       "            <li style='margin: 10px 0; padding: 10px; background-color: white; \n",
       "                       border-left: 4px solid #4CAF50; border-radius: 5px;'>\n",
       "                <span style='font-size: 20px; margin-right: 10px;'>✅</span>\n",
       "                <strong>Setup</strong> - <span style='color: #4CAF50;'>Completed</span>\n",
       "            </li>\n",
       "            <li style='margin: 10px 0; padding: 10px; background-color: white; \n",
       "                       border-left: 4px solid #9E9E9E; border-radius: 5px;'>\n",
       "                <span style='font-size: 20px; margin-right: 10px;'>⏳</span>\n",
       "                <strong>Analysis</strong> - <span style='color: #9E9E9E;'>Pending</span>\n",
       "            </li>\n",
       "            <li style='margin: 10px 0; padding: 10px; background-color: white; \n",
       "                       border-left: 4px solid #9E9E9E; border-radius: 5px;'>\n",
       "                <span style='font-size: 20px; margin-right: 10px;'>⏳</span>\n",
       "                <strong>Conclusion</strong> - <span style='color: #9E9E9E;'>Pending</span>\n",
       "            </li></ul>\n",
       "        <div style='margin-top: 20px; padding-top: 15px; border-top: 1px solid #ddd;'>\n",
       "            <small style='color: #666;'>\n",
       "                Time Elapsed: 0:00:00 | \n",
       "                Steps Completed: 1/3\n",
       "            </small>\n",
       "        </div>\n",
       "        </div>\n",
       "        "
      ],
      "text/plain": [
       "<IPython.core.display.HTML object>"
      ]
     },
     "metadata": {},
     "output_type": "display_data"
    },
    {
     "data": {
      "text/html": [
       "\n",
       "        <div style='background-color: #f5f5f5; padding: 20px; border-radius: 10px; margin: 10px 0;'>\n",
       "            <h3 style='color: #333; margin-bottom: 15px;'>Quick Lab Progress</h3>\n",
       "            \n",
       "            <!-- Progress Bar -->\n",
       "            <div style='background-color: #e0e0e0; border-radius: 20px; height: 30px; margin-bottom: 20px;'>\n",
       "                <div style='background-color: #4CAF50; height: 100%; border-radius: 20px; width: 33.33333333333333%; \n",
       "                            transition: width 0.5s ease; display: flex; align-items: center; justify-content: center;'>\n",
       "                    <span style='color: white; font-weight: bold;'>33.3%</span>\n",
       "                </div>\n",
       "            </div>\n",
       "        <p style='color: #666;'>Average Score: 85.0/100</p><ul style='list-style: none; padding: 0;'>\n",
       "            <li style='margin: 10px 0; padding: 10px; background-color: white; \n",
       "                       border-left: 4px solid #4CAF50; border-radius: 5px;'>\n",
       "                <span style='font-size: 20px; margin-right: 10px;'>✅</span>\n",
       "                <strong>Setup</strong> - <span style='color: #4CAF50;'>Completed</span>\n",
       "            </li>\n",
       "            <li style='margin: 10px 0; padding: 10px; background-color: white; \n",
       "                       border-left: 4px solid #FF9800; border-radius: 5px;'>\n",
       "                <span style='font-size: 20px; margin-right: 10px;'>🔄</span>\n",
       "                <strong>Analysis</strong> - <span style='color: #FF9800;'>60% Complete</span>\n",
       "            </li>\n",
       "            <li style='margin: 10px 0; padding: 10px; background-color: white; \n",
       "                       border-left: 4px solid #9E9E9E; border-radius: 5px;'>\n",
       "                <span style='font-size: 20px; margin-right: 10px;'>⏳</span>\n",
       "                <strong>Conclusion</strong> - <span style='color: #9E9E9E;'>Pending</span>\n",
       "            </li></ul>\n",
       "        <div style='margin-top: 20px; padding-top: 15px; border-top: 1px solid #ddd;'>\n",
       "            <small style='color: #666;'>\n",
       "                Time Elapsed: 0:00:00 | \n",
       "                Steps Completed: 1/3\n",
       "            </small>\n",
       "        </div>\n",
       "        </div>\n",
       "        "
      ],
      "text/plain": [
       "<IPython.core.display.HTML object>"
      ]
     },
     "metadata": {},
     "output_type": "display_data"
    },
    {
     "name": "stdout",
     "output_type": "stream",
     "text": [
      "Instructor View - Student Comparison:\n",
      "============================================================\n",
      "\n",
      "Fast Learner:\n",
      "  Completion Rate: 100.0%\n",
      "  Average Score: 97.7\n",
      "  Total Attempts: 0\n",
      "  Total Events: 3\n",
      "\n",
      "Struggling Student:\n",
      "  Completion Rate: 100.0%\n",
      "  Average Score: 81.7\n",
      "  Total Attempts: 3\n",
      "  Total Events: 6\n",
      "\n",
      "Incomplete Work:\n",
      "  Completion Rate: 33.3%\n",
      "  Average Score: 85.0\n",
      "  Total Attempts: 0\n",
      "  Total Events: 2\n"
     ]
    }
   ],
   "source": [
    "# Simulate different student performance patterns\n",
    "students_data = []\n",
    "\n",
    "# Student 1: Fast learner\n",
    "student1 = LabProgress(\n",
    "    steps=[\"Setup\", \"Analysis\", \"Conclusion\"],\n",
    "    lab_name=\"Quick Lab\"\n",
    ")\n",
    "student1.mark_done(\"Setup\", score=100)\n",
    "student1.mark_done(\"Analysis\", score=95)\n",
    "student1.mark_done(\"Conclusion\", score=98)\n",
    "students_data.append((\"Fast Learner\", student1.get_analytics_summary()))\n",
    "\n",
    "# Student 2: Struggles with middle section\n",
    "student2 = LabProgress(\n",
    "    steps=[\"Setup\", \"Analysis\", \"Conclusion\"],\n",
    "    lab_name=\"Quick Lab\"\n",
    ")\n",
    "student2.mark_done(\"Setup\", score=90)\n",
    "student2.increment_attempts(\"Analysis\")\n",
    "student2.increment_attempts(\"Analysis\")\n",
    "student2.increment_attempts(\"Analysis\")\n",
    "student2.mark_done(\"Analysis\", score=70)\n",
    "student2.mark_done(\"Conclusion\", score=85)\n",
    "students_data.append((\"Struggling Student\", student2.get_analytics_summary()))\n",
    "\n",
    "# Student 3: Incomplete work\n",
    "student3 = LabProgress(\n",
    "    steps=[\"Setup\", \"Analysis\", \"Conclusion\"],\n",
    "    lab_name=\"Quick Lab\"\n",
    ")\n",
    "student3.mark_done(\"Setup\", score=85)\n",
    "student3.mark_partial(\"Analysis\", 0.6, \"Partial completion\")\n",
    "students_data.append((\"Incomplete Work\", student3.get_analytics_summary()))\n",
    "\n",
    "# Display comparison\n",
    "print(\"Instructor View - Student Comparison:\")\n",
    "print(\"=\" * 60)\n",
    "\n",
    "for student_type, summary in students_data:\n",
    "    print(f\"\\n{student_type}:\")\n",
    "    print(f\"  Completion Rate: {summary['completion_rate']:.1f}%\")\n",
    "    print(f\"  Average Score: {summary['average_score']:.1f}\" if summary['average_score'] else \"  Average Score: N/A\")\n",
    "    print(f\"  Total Attempts: {summary['total_attempts']}\")\n",
    "    print(f\"  Total Events: {summary['total_events']}\")"
   ]
  },
  {
   "cell_type": "markdown",
   "metadata": {},
   "source": [
    "## Persistent Analytics\n",
    "\n",
    "When persistence is enabled, analytics data is automatically saved and can be resumed."
   ]
  },
  {
   "cell_type": "code",
   "execution_count": 15,
   "metadata": {},
   "outputs": [
    {
     "name": "stdout",
     "output_type": "stream",
     "text": [
      "Original lab events: 10\n"
     ]
    },
    {
     "data": {
      "text/html": [
       "\n",
       "        <div style='background-color: #f5f5f5; padding: 20px; border-radius: 10px; margin: 10px 0;'>\n",
       "            <h3 style='color: #333; margin-bottom: 15px;'>Data Science Pipeline Lab Progress</h3>\n",
       "            \n",
       "            <!-- Progress Bar -->\n",
       "            <div style='background-color: #e0e0e0; border-radius: 20px; height: 30px; margin-bottom: 20px;'>\n",
       "                <div style='background-color: #4CAF50; height: 100%; border-radius: 20px; width: 100.0%; \n",
       "                            transition: width 0.5s ease; display: flex; align-items: center; justify-content: center;'>\n",
       "                    <span style='color: white; font-weight: bold;'>100.0%</span>\n",
       "                </div>\n",
       "            </div>\n",
       "        <p style='color: #666;'>Average Score: 92.3/100</p><ul style='list-style: none; padding: 0;'>\n",
       "            <li style='margin: 10px 0; padding: 10px; background-color: white; \n",
       "                       border-left: 4px solid #4CAF50; border-radius: 5px;'>\n",
       "                <span style='font-size: 20px; margin-right: 10px;'>✅</span>\n",
       "                <strong>Environment Setup</strong> - <span style='color: #4CAF50;'>Completed</span>\n",
       "            </li>\n",
       "            <li style='margin: 10px 0; padding: 10px; background-color: white; \n",
       "                       border-left: 4px solid #4CAF50; border-radius: 5px;'>\n",
       "                <span style='font-size: 20px; margin-right: 10px;'>✅</span>\n",
       "                <strong>Data Import</strong> - <span style='color: #4CAF50;'>Completed</span>\n",
       "            </li>\n",
       "            <li style='margin: 10px 0; padding: 10px; background-color: white; \n",
       "                       border-left: 4px solid #4CAF50; border-radius: 5px;'>\n",
       "                <span style='font-size: 20px; margin-right: 10px;'>✅</span>\n",
       "                <strong>Data Cleaning</strong> - <span style='color: #4CAF50;'>Completed</span>\n",
       "            </li>\n",
       "            <li style='margin: 10px 0; padding: 10px; background-color: white; \n",
       "                       border-left: 4px solid #4CAF50; border-radius: 5px;'>\n",
       "                <span style='font-size: 20px; margin-right: 10px;'>✅</span>\n",
       "                <strong>Feature Engineering</strong> - <span style='color: #4CAF50;'>Completed</span>\n",
       "            </li>\n",
       "            <li style='margin: 10px 0; padding: 10px; background-color: white; \n",
       "                       border-left: 4px solid #4CAF50; border-radius: 5px;'>\n",
       "                <span style='font-size: 20px; margin-right: 10px;'>✅</span>\n",
       "                <strong>Model Building</strong> - <span style='color: #4CAF50;'>Completed</span>\n",
       "            </li>\n",
       "            <li style='margin: 10px 0; padding: 10px; background-color: white; \n",
       "                       border-left: 4px solid #4CAF50; border-radius: 5px;'>\n",
       "                <span style='font-size: 20px; margin-right: 10px;'>✅</span>\n",
       "                <strong>Model Evaluation</strong> - <span style='color: #4CAF50;'>Completed</span>\n",
       "            </li></ul>\n",
       "        <div style='margin-top: 20px; padding-top: 15px; border-top: 1px solid #ddd;'>\n",
       "            <small style='color: #666;'>\n",
       "                Time Elapsed: 0:00:00 | \n",
       "                Steps Completed: 6/6\n",
       "            </small>\n",
       "        </div>\n",
       "        </div>\n",
       "        "
      ],
      "text/plain": [
       "<IPython.core.display.HTML object>"
      ]
     },
     "metadata": {},
     "output_type": "display_data"
    },
    {
     "data": {
      "text/html": [
       "\n",
       "        <div style='background-color: #e3f2fd; padding: 15px; border-radius: 8px; \n",
       "                    border-left: 4px solid #2196F3; margin: 10px 0;'>\n",
       "            <strong>📂 Session Resumed!</strong><br>\n",
       "            Lab: Data Science Pipeline Lab<br>\n",
       "            Progress: 100.0% complete<br>\n",
       "            0 steps remaining\n",
       "        </div>\n",
       "        "
      ],
      "text/plain": [
       "<IPython.core.display.HTML object>"
      ]
     },
     "metadata": {},
     "output_type": "display_data"
    },
    {
     "name": "stdout",
     "output_type": "stream",
     "text": [
      "Resumed lab events: 10\n",
      "Student ID preserved: True\n",
      "After new activity: 11 events\n"
     ]
    }
   ],
   "source": [
    "# Show that analytics persist across sessions\n",
    "print(f\"Original lab events: {len(progress._analytics_data)}\")\n",
    "\n",
    "# Save current state\n",
    "original_student_id = progress._student_id\n",
    "\n",
    "# Simulate resuming the session\n",
    "resumed_progress = LabProgress.resume(lab_name=\"Data Science Pipeline Lab\")\n",
    "\n",
    "print(f\"Resumed lab events: {len(resumed_progress._analytics_data)}\")\n",
    "print(f\"Student ID preserved: {resumed_progress._student_id == original_student_id}\")\n",
    "\n",
    "# Show that new events are added to existing analytics\n",
    "resumed_progress.increment_attempts(\"Model Building\")\n",
    "print(f\"After new activity: {len(resumed_progress._analytics_data)} events\")"
   ]
  },
  {
   "cell_type": "markdown",
   "metadata": {},
   "source": [
    "## Clean Up"
   ]
  },
  {
   "cell_type": "code",
   "execution_count": 16,
   "metadata": {},
   "outputs": [
    {
     "name": "stdout",
     "output_type": "stream",
     "text": [
      "Removed: .data_science_pipeline_lab_progress.json\n",
      "Removed: data_science_pipeline_lab_analytics_20250711_101455.csv\n",
      "Removed: data_science_pipeline_lab_analytics_20250711_101456.json\n"
     ]
    },
    {
     "data": {
      "text/html": [
       "\n",
       "        <div style='background-color: #e7f3ff; border-left: 6px solid #2196F3; \n",
       "                    padding: 10px; margin: 10px 0; border-radius: 5px;'>\n",
       "            <span style='font-size: 16px; margin-right: 8px;'>ℹ️</span>\n",
       "            Analytics demo completed! Files cleaned up.\n",
       "            \n",
       "        </div>\n",
       "        "
      ],
      "text/plain": [
       "<IPython.core.display.HTML object>"
      ]
     },
     "metadata": {},
     "output_type": "display_data"
    }
   ],
   "source": [
    "import os\n",
    "\n",
    "# Clean up generated files\n",
    "files_to_remove = [\n",
    "    progress.persist_file,\n",
    "    csv_filename if 'csv_filename' in locals() else None,\n",
    "    json_filename if 'json_filename' in locals() else None\n",
    "]\n",
    "\n",
    "for filename in files_to_remove:\n",
    "    if filename and os.path.exists(filename):\n",
    "        os.remove(filename)\n",
    "        print(f\"Removed: {filename}\")\n",
    "\n",
    "show_info(\"Analytics demo completed! Files cleaned up.\")"
   ]
  },
  {
   "cell_type": "markdown",
   "metadata": {},
   "source": [
    "## Summary\n",
    "\n",
    "The Progress Analytics feature provides:\n",
    "\n",
    "- **Automatic event tracking** for all student interactions\n",
    "- **Time tracking** for individual steps and overall session\n",
    "- **CSV export** for spreadsheet analysis\n",
    "- **JSON export** for programmatic analysis\n",
    "- **Real-time dashboard** for immediate insights\n",
    "- **Persistent storage** that survives session restarts\n",
    "- **Student identification** for tracking across sessions\n",
    "- **Comprehensive metrics** including completion rates, scores, and attempts\n",
    "\n",
    "This enables instructors to:\n",
    "- Monitor student progress in real-time\n",
    "- Identify struggling students early\n",
    "- Analyze common stumbling points\n",
    "- Track engagement and time spent\n",
    "- Generate reports for assessment"
   ]
  },
  {
   "cell_type": "code",
   "execution_count": null,
   "metadata": {},
   "outputs": [],
   "source": []
  },
  {
   "cell_type": "code",
   "execution_count": null,
   "metadata": {},
   "outputs": [],
   "source": []
  }
 ],
 "metadata": {
  "kernelspec": {
   "display_name": "Python 3 (ipykernel)",
   "language": "python",
   "name": "python3"
  },
  "language_info": {
   "codemirror_mode": {
    "name": "ipython",
    "version": 3
   },
   "file_extension": ".py",
   "mimetype": "text/x-python",
   "name": "python",
   "nbconvert_exporter": "python",
   "pygments_lexer": "ipython3",
   "version": "3.12.3"
  }
 },
 "nbformat": 4,
 "nbformat_minor": 4
}
