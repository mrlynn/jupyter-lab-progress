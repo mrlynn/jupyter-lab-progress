{
 "cells": [
  {
   "cell_type": "markdown",
   "metadata": {},
   "source": [
    "# Session Resume & Smart Checkpoints Demo\n",
    "\n",
    "This notebook demonstrates the new session resume functionality that allows students to save their progress and resume labs later."
   ]
  },
  {
   "cell_type": "code",
   "execution_count": null,
   "metadata": {},
   "outputs": [],
   "source": [
    "from jupyter_lab_progress import LabProgress, show_info, show_warning"
   ]
  },
  {
   "cell_type": "markdown",
   "metadata": {},
   "source": [
    "## Creating a Lab with Auto-Save\n",
    "\n",
    "The new `auto_save` parameter ensures progress is saved automatically after each update."
   ]
  },
  {
   "cell_type": "code",
   "execution_count": null,
   "metadata": {},
   "outputs": [],
   "source": [
    "# Create a lab with persistence and auto-save enabled\n",
    "progress = LabProgress(\n",
    "    steps=[\n",
    "        \"Setup MongoDB Connection\",\n",
    "        \"Load Sample Data\",\n",
    "        \"Create Text Embeddings\",\n",
    "        \"Build Vector Index\",\n",
    "        \"Perform Similarity Search\",\n",
    "        \"Analyze Results\"\n",
    "    ],\n",
    "    lab_name=\"Vector Search Workshop\",\n",
    "    persist=True,  # Enable persistence\n",
    "    auto_save=True  # Auto-save after each update\n",
    ")"
   ]
  },
  {
   "cell_type": "markdown",
   "metadata": {},
   "source": [
    "## Marking Progress with Checkpoints\n",
    "\n",
    "You can now save partial progress with named checkpoints:"
   ]
  },
  {
   "cell_type": "code",
   "execution_count": null,
   "metadata": {},
   "outputs": [],
   "source": [
    "# Complete the first step\n",
    "progress.mark_done(\"Setup MongoDB Connection\", score=100)\n",
    "\n",
    "# Mark partial progress with a checkpoint\n",
    "progress.mark_partial(\n",
    "    \"Load Sample Data\", \n",
    "    progress=0.3, \n",
    "    notes=\"Loaded product catalog\",\n",
    "    checkpoint_name=\"catalog_loaded\"\n",
    ")"
   ]
  },
  {
   "cell_type": "code",
   "execution_count": null,
   "metadata": {},
   "outputs": [],
   "source": [
    "# Continue with more partial progress\n",
    "progress.mark_partial(\n",
    "    \"Load Sample Data\", \n",
    "    progress=0.7, \n",
    "    notes=\"Loaded customer reviews\",\n",
    "    checkpoint_name=\"reviews_loaded\"\n",
    ")"
   ]
  },
  {
   "cell_type": "code",
   "execution_count": null,
   "metadata": {},
   "outputs": [],
   "source": [
    "# Complete the data loading step\n",
    "progress.mark_done(\"Load Sample Data\", score=95)\n",
    "\n",
    "# Start working on embeddings\n",
    "progress.mark_partial(\n",
    "    \"Create Text Embeddings\",\n",
    "    progress=0.5,\n",
    "    checkpoint_name=\"embeddings_half_done\"\n",
    ")"
   ]
  },
  {
   "cell_type": "markdown",
   "metadata": {},
   "source": [
    "## Getting Current Status\n",
    "\n",
    "New helper methods make it easy to see what needs to be done:"
   ]
  },
  {
   "cell_type": "code",
   "execution_count": null,
   "metadata": {},
   "outputs": [],
   "source": [
    "# Get the current step to work on\n",
    "current = progress.get_current_step()\n",
    "show_info(f\"Current step: {current}\")\n",
    "\n",
    "# Get all incomplete steps\n",
    "incomplete = progress.get_incomplete_steps()\n",
    "show_info(f\"Incomplete steps: {', '.join(incomplete)}\")"
   ]
  },
  {
   "cell_type": "markdown",
   "metadata": {},
   "source": [
    "## Simulating Session End\n",
    "\n",
    "Progress is automatically saved. Let's simulate closing the notebook:"
   ]
  },
  {
   "cell_type": "code",
   "execution_count": null,
   "metadata": {},
   "outputs": [],
   "source": [
    "show_warning(\"Simulating session end. Progress has been automatically saved!\")\n",
    "del progress  # Simulate closing the notebook"
   ]
  },
  {
   "cell_type": "markdown",
   "metadata": {},
   "source": [
    "## Resuming a Session\n",
    "\n",
    "Use the new `resume()` class method to restore your progress:"
   ]
  },
  {
   "cell_type": "code",
   "execution_count": null,
   "metadata": {},
   "outputs": [],
   "source": [
    "# Resume using the lab name\n",
    "resumed_progress = LabProgress.resume(lab_name=\"Vector Search Workshop\")"
   ]
  },
  {
   "cell_type": "code",
   "execution_count": null,
   "metadata": {},
   "outputs": [],
   "source": [
    "# Or resume by finding any progress file automatically\n",
    "# resumed_progress = LabProgress.resume()"
   ]
  },
  {
   "cell_type": "code",
   "execution_count": null,
   "metadata": {},
   "outputs": [],
   "source": [
    "# Continue where we left off\n",
    "current = resumed_progress.get_current_step()\n",
    "show_info(f\"Resuming work on: {current}\")\n",
    "\n",
    "# Complete the embeddings step\n",
    "resumed_progress.mark_done(\"Create Text Embeddings\", score=88)"
   ]
  },
  {
   "cell_type": "markdown",
   "metadata": {},
   "source": [
    "## Viewing Detailed Progress\n",
    "\n",
    "The detailed view shows timestamps, attempts, scores, and notes:"
   ]
  },
  {
   "cell_type": "code",
   "execution_count": null,
   "metadata": {},
   "outputs": [],
   "source": [
    "# Show detailed progress including all metadata\n",
    "resumed_progress.display_progress(detailed=True)"
   ]
  },
  {
   "cell_type": "markdown",
   "metadata": {},
   "source": [
    "## Clean Up\n",
    "\n",
    "Delete the progress file when done (optional):"
   ]
  },
  {
   "cell_type": "code",
   "execution_count": null,
   "metadata": {},
   "outputs": [],
   "source": [
    "import os\n",
    "if os.path.exists(resumed_progress.persist_file):\n",
    "    os.remove(resumed_progress.persist_file)\n",
    "    show_info(\"Progress file cleaned up!\")"
   ]
  }
 ],
 "metadata": {
  "kernelspec": {
   "display_name": "Python 3",
   "language": "python",
   "name": "python3"
  },
  "language_info": {
   "codemirror_mode": {
    "name": "ipython",
    "version": 3
   },
   "file_extension": ".py",
   "mimetype": "text/x-python",
   "name": "python",
   "nbconvert_exporter": "python",
   "pygments_lexer": "ipython3",
   "version": "3.8.0"
  }
 },
 "nbformat": 4,
 "nbformat_minor": 4
}